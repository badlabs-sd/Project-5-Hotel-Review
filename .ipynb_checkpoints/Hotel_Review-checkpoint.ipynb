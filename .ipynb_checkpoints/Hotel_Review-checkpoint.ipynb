{
 "cells": [
  {
   "cell_type": "markdown",
   "metadata": {
    "id": "N8sD3RSWs7PN"
   },
   "source": [
    "**NLP With Hotel Review Part 1**<br>\n",
    "Author: Sourish Dasgupta <br>\n",
    "Date : July-11,2022<br>"
   ]
  },
  {
   "cell_type": "markdown",
   "metadata": {
    "id": "gCfSLWqps7PR"
   },
   "source": [
    "### Importing the Library"
   ]
  },
  {
   "cell_type": "code",
   "execution_count": 1,
   "metadata": {
    "ExecuteTime": {
     "end_time": "2022-07-11T12:16:18.847398Z",
     "start_time": "2022-07-11T12:16:14.449480Z"
    },
    "id": "wv6eT89zs7PS"
   },
   "outputs": [
    {
     "name": "stderr",
     "output_type": "stream",
     "text": [
      "[nltk_data] Downloading package wordnet to /Users/apple/nltk_data...\n",
      "[nltk_data]   Package wordnet is already up-to-date!\n",
      "[nltk_data] Downloading package omw-1.4 to /Users/apple/nltk_data...\n",
      "[nltk_data]   Package omw-1.4 is already up-to-date!\n",
      "[nltk_data] Downloading package stopwords to /Users/apple/nltk_data...\n",
      "[nltk_data]   Package stopwords is already up-to-date!\n",
      "[nltk_data] Downloading package punkt to /Users/apple/nltk_data...\n",
      "[nltk_data]   Package punkt is already up-to-date!\n"
     ]
    }
   ],
   "source": [
    "import numpy as np\n",
    "import pandas as pd\n",
    "import matplotlib.pyplot as plt\n",
    "import seaborn as sns\n",
    "import regex as re\n",
    "import string\n",
    "\n",
    "# sklearn \n",
    "from sklearn.model_selection import train_test_split\n",
    "from sklearn.feature_extraction.text import CountVectorizer\n",
    "\n",
    "# Handling sparse matrix\n",
    "import scipy.sparse    \n",
    "\n",
    "\n",
    "# nltk\n",
    "import nltk\n",
    "from nltk.corpus import stopwords\n",
    "from nltk.stem import WordNetLemmatizer\n",
    "\n",
    "nltk.download('wordnet')\n",
    "nltk.download('omw-1.4')\n",
    "nltk.download('stopwords')\n",
    "nltk.download('punkt')\n",
    "\n",
    "lemmatizer = WordNetLemmatizer()\n",
    "stop_words = set(stopwords.words('english'))\n"
   ]
  },
  {
   "cell_type": "markdown",
   "metadata": {
    "id": "X1rbw5Hfs7PU"
   },
   "source": [
    "### Importing the Data"
   ]
  },
  {
   "cell_type": "code",
   "execution_count": 2,
   "metadata": {
    "ExecuteTime": {
     "end_time": "2022-07-11T12:16:23.772964Z",
     "start_time": "2022-07-11T12:16:18.850864Z"
    },
    "id": "8-CT0xgvs7PU"
   },
   "outputs": [],
   "source": [
    "# import Data\n",
    "df_hotel_review_1 = pd.read_csv(\"Hotel_Reviews.csv\")\n",
    "df_hotel_review_2 = pd.read_csv(\"Hotel_Reviews 2.csv\")"
   ]
  },
  {
   "cell_type": "code",
   "execution_count": 3,
   "metadata": {
    "ExecuteTime": {
     "end_time": "2022-07-11T12:16:23.947155Z",
     "start_time": "2022-07-11T12:16:23.775150Z"
    },
    "id": "VzSLsLYAs7PV",
    "outputId": "3692675f-addf-43ff-aaae-48a0f60451ca"
   },
   "outputs": [
    {
     "name": "stdout",
     "output_type": "stream",
     "text": [
      "<class 'pandas.core.frame.DataFrame'>\n",
      "RangeIndex: 515738 entries, 0 to 515737\n",
      "Data columns (total 17 columns):\n",
      " #   Column                                      Non-Null Count   Dtype  \n",
      "---  ------                                      --------------   -----  \n",
      " 0   Hotel_Address                               515738 non-null  object \n",
      " 1   Additional_Number_of_Scoring                515738 non-null  int64  \n",
      " 2   Review_Date                                 515738 non-null  object \n",
      " 3   Average_Score                               515738 non-null  float64\n",
      " 4   Hotel_Name                                  515738 non-null  object \n",
      " 5   Reviewer_Nationality                        515738 non-null  object \n",
      " 6   Negative_Review                             515738 non-null  object \n",
      " 7   Review_Total_Negative_Word_Counts           515738 non-null  int64  \n",
      " 8   Total_Number_of_Reviews                     515738 non-null  int64  \n",
      " 9   Positive_Review                             515738 non-null  object \n",
      " 10  Review_Total_Positive_Word_Counts           515738 non-null  int64  \n",
      " 11  Total_Number_of_Reviews_Reviewer_Has_Given  515738 non-null  int64  \n",
      " 12  Reviewer_Score                              515738 non-null  float64\n",
      " 13  Tags                                        515738 non-null  object \n",
      " 14  days_since_review                           515738 non-null  object \n",
      " 15  lat                                         512470 non-null  float64\n",
      " 16  lng                                         512470 non-null  float64\n",
      "dtypes: float64(4), int64(5), object(8)\n",
      "memory usage: 66.9+ MB\n"
     ]
    }
   ],
   "source": [
    "df_hotel_review_1.info()"
   ]
  },
  {
   "cell_type": "code",
   "execution_count": 4,
   "metadata": {
    "ExecuteTime": {
     "end_time": "2022-07-11T12:16:23.963599Z",
     "start_time": "2022-07-11T12:16:23.948667Z"
    },
    "id": "z6P1KzNxs7PW",
    "outputId": "abe3ff75-8cfe-4394-b888-98abd91eaa44"
   },
   "outputs": [
    {
     "data": {
      "text/html": [
       "<div>\n",
       "<style scoped>\n",
       "    .dataframe tbody tr th:only-of-type {\n",
       "        vertical-align: middle;\n",
       "    }\n",
       "\n",
       "    .dataframe tbody tr th {\n",
       "        vertical-align: top;\n",
       "    }\n",
       "\n",
       "    .dataframe thead th {\n",
       "        text-align: right;\n",
       "    }\n",
       "</style>\n",
       "<table border=\"1\" class=\"dataframe\">\n",
       "  <thead>\n",
       "    <tr style=\"text-align: right;\">\n",
       "      <th></th>\n",
       "      <th>Hotel_Address</th>\n",
       "      <th>Additional_Number_of_Scoring</th>\n",
       "      <th>Review_Date</th>\n",
       "      <th>Average_Score</th>\n",
       "      <th>Hotel_Name</th>\n",
       "      <th>Reviewer_Nationality</th>\n",
       "      <th>Negative_Review</th>\n",
       "      <th>Review_Total_Negative_Word_Counts</th>\n",
       "      <th>Total_Number_of_Reviews</th>\n",
       "      <th>Positive_Review</th>\n",
       "      <th>Review_Total_Positive_Word_Counts</th>\n",
       "      <th>Total_Number_of_Reviews_Reviewer_Has_Given</th>\n",
       "      <th>Reviewer_Score</th>\n",
       "      <th>Tags</th>\n",
       "      <th>days_since_review</th>\n",
       "      <th>lat</th>\n",
       "      <th>lng</th>\n",
       "    </tr>\n",
       "  </thead>\n",
       "  <tbody>\n",
       "    <tr>\n",
       "      <th>0</th>\n",
       "      <td>s Gravesandestraat 55 Oost 1092 AA Amsterdam ...</td>\n",
       "      <td>194</td>\n",
       "      <td>8/3/2017</td>\n",
       "      <td>7.7</td>\n",
       "      <td>Hotel Arena</td>\n",
       "      <td>Russia</td>\n",
       "      <td>I am so angry that i made this post available...</td>\n",
       "      <td>397</td>\n",
       "      <td>1403</td>\n",
       "      <td>Only the park outside of the hotel was beauti...</td>\n",
       "      <td>11</td>\n",
       "      <td>7</td>\n",
       "      <td>2.9</td>\n",
       "      <td>[' Leisure trip ', ' Couple ', ' Duplex Double...</td>\n",
       "      <td>0 days</td>\n",
       "      <td>52.360576</td>\n",
       "      <td>4.915968</td>\n",
       "    </tr>\n",
       "    <tr>\n",
       "      <th>1</th>\n",
       "      <td>s Gravesandestraat 55 Oost 1092 AA Amsterdam ...</td>\n",
       "      <td>194</td>\n",
       "      <td>8/3/2017</td>\n",
       "      <td>7.7</td>\n",
       "      <td>Hotel Arena</td>\n",
       "      <td>Ireland</td>\n",
       "      <td>No Negative</td>\n",
       "      <td>0</td>\n",
       "      <td>1403</td>\n",
       "      <td>No real complaints the hotel was great great ...</td>\n",
       "      <td>105</td>\n",
       "      <td>7</td>\n",
       "      <td>7.5</td>\n",
       "      <td>[' Leisure trip ', ' Couple ', ' Duplex Double...</td>\n",
       "      <td>0 days</td>\n",
       "      <td>52.360576</td>\n",
       "      <td>4.915968</td>\n",
       "    </tr>\n",
       "  </tbody>\n",
       "</table>\n",
       "</div>"
      ],
      "text/plain": [
       "                                       Hotel_Address  \\\n",
       "0   s Gravesandestraat 55 Oost 1092 AA Amsterdam ...   \n",
       "1   s Gravesandestraat 55 Oost 1092 AA Amsterdam ...   \n",
       "\n",
       "   Additional_Number_of_Scoring Review_Date  Average_Score   Hotel_Name  \\\n",
       "0                           194    8/3/2017            7.7  Hotel Arena   \n",
       "1                           194    8/3/2017            7.7  Hotel Arena   \n",
       "\n",
       "  Reviewer_Nationality                                    Negative_Review  \\\n",
       "0              Russia    I am so angry that i made this post available...   \n",
       "1             Ireland                                         No Negative   \n",
       "\n",
       "   Review_Total_Negative_Word_Counts  Total_Number_of_Reviews  \\\n",
       "0                                397                     1403   \n",
       "1                                  0                     1403   \n",
       "\n",
       "                                     Positive_Review  \\\n",
       "0   Only the park outside of the hotel was beauti...   \n",
       "1   No real complaints the hotel was great great ...   \n",
       "\n",
       "   Review_Total_Positive_Word_Counts  \\\n",
       "0                                 11   \n",
       "1                                105   \n",
       "\n",
       "   Total_Number_of_Reviews_Reviewer_Has_Given  Reviewer_Score  \\\n",
       "0                                           7             2.9   \n",
       "1                                           7             7.5   \n",
       "\n",
       "                                                Tags days_since_review  \\\n",
       "0  [' Leisure trip ', ' Couple ', ' Duplex Double...            0 days   \n",
       "1  [' Leisure trip ', ' Couple ', ' Duplex Double...            0 days   \n",
       "\n",
       "         lat       lng  \n",
       "0  52.360576  4.915968  \n",
       "1  52.360576  4.915968  "
      ]
     },
     "execution_count": 4,
     "metadata": {},
     "output_type": "execute_result"
    }
   ],
   "source": [
    "df_hotel_review_1.head(2)"
   ]
  },
  {
   "cell_type": "code",
   "execution_count": 5,
   "metadata": {
    "ExecuteTime": {
     "end_time": "2022-07-11T12:16:24.127361Z",
     "start_time": "2022-07-11T12:16:23.965229Z"
    },
    "id": "NsT4JM3is7PW",
    "outputId": "699fb3cf-b7fd-4f52-9e7f-40ecc4c12916"
   },
   "outputs": [
    {
     "name": "stdout",
     "output_type": "stream",
     "text": [
      "<class 'pandas.core.frame.DataFrame'>\n",
      "RangeIndex: 515738 entries, 0 to 515737\n",
      "Data columns (total 17 columns):\n",
      " #   Column                                      Non-Null Count   Dtype  \n",
      "---  ------                                      --------------   -----  \n",
      " 0   Hotel_Address                               515738 non-null  object \n",
      " 1   Additional_Number_of_Scoring                515738 non-null  int64  \n",
      " 2   Review_Date                                 515738 non-null  object \n",
      " 3   Average_Score                               515738 non-null  float64\n",
      " 4   Hotel_Name                                  515738 non-null  object \n",
      " 5   Reviewer_Nationality                        515738 non-null  object \n",
      " 6   Negative_Review                             515738 non-null  object \n",
      " 7   Review_Total_Negative_Word_Counts           515738 non-null  int64  \n",
      " 8   Total_Number_of_Reviews                     515738 non-null  int64  \n",
      " 9   Positive_Review                             515738 non-null  object \n",
      " 10  Review_Total_Positive_Word_Counts           515738 non-null  int64  \n",
      " 11  Total_Number_of_Reviews_Reviewer_Has_Given  515738 non-null  int64  \n",
      " 12  Reviewer_Score                              515738 non-null  float64\n",
      " 13  Tags                                        515738 non-null  object \n",
      " 14  days_since_review                           515738 non-null  object \n",
      " 15  lat                                         512470 non-null  float64\n",
      " 16  lng                                         512470 non-null  float64\n",
      "dtypes: float64(4), int64(5), object(8)\n",
      "memory usage: 66.9+ MB\n"
     ]
    }
   ],
   "source": [
    "df_hotel_review_2.info()"
   ]
  },
  {
   "cell_type": "markdown",
   "metadata": {
    "id": "16z-T3Zis7PX"
   },
   "source": [
    "Megering both `hotel_review_1` and `hotel_review_2` into a single dataset"
   ]
  },
  {
   "cell_type": "code",
   "execution_count": 6,
   "metadata": {
    "ExecuteTime": {
     "end_time": "2022-07-11T12:16:25.063598Z",
     "start_time": "2022-07-11T12:16:24.131658Z"
    },
    "id": "r-3AMYUBs7PX",
    "outputId": "399d9fd2-c09e-4134-c78c-c4db913e0c29"
   },
   "outputs": [
    {
     "name": "stdout",
     "output_type": "stream",
     "text": [
      "<class 'pandas.core.frame.DataFrame'>\n",
      "Int64Index: 1031476 entries, 0 to 515737\n",
      "Data columns (total 17 columns):\n",
      " #   Column                                      Non-Null Count    Dtype  \n",
      "---  ------                                      --------------    -----  \n",
      " 0   Hotel_Address                               1031476 non-null  object \n",
      " 1   Additional_Number_of_Scoring                1031476 non-null  int64  \n",
      " 2   Review_Date                                 1031476 non-null  object \n",
      " 3   Average_Score                               1031476 non-null  float64\n",
      " 4   Hotel_Name                                  1031476 non-null  object \n",
      " 5   Reviewer_Nationality                        1031476 non-null  object \n",
      " 6   Negative_Review                             1031476 non-null  object \n",
      " 7   Review_Total_Negative_Word_Counts           1031476 non-null  int64  \n",
      " 8   Total_Number_of_Reviews                     1031476 non-null  int64  \n",
      " 9   Positive_Review                             1031476 non-null  object \n",
      " 10  Review_Total_Positive_Word_Counts           1031476 non-null  int64  \n",
      " 11  Total_Number_of_Reviews_Reviewer_Has_Given  1031476 non-null  int64  \n",
      " 12  Reviewer_Score                              1031476 non-null  float64\n",
      " 13  Tags                                        1031476 non-null  object \n",
      " 14  days_since_review                           1031476 non-null  object \n",
      " 15  lat                                         1024940 non-null  float64\n",
      " 16  lng                                         1024940 non-null  float64\n",
      "dtypes: float64(4), int64(5), object(8)\n",
      "memory usage: 141.7+ MB\n"
     ]
    }
   ],
   "source": [
    "df_hotel_review = pd.concat([df_hotel_review_1,df_hotel_review_2])\n",
    "df_hotel_review.info()"
   ]
  },
  {
   "cell_type": "markdown",
   "metadata": {
    "id": "lIaGV7Aes7PX"
   },
   "source": [
    "### **Exploratory Data Analysis**"
   ]
  },
  {
   "cell_type": "markdown",
   "metadata": {
    "heading_collapsed": true,
    "id": "74aHKe1Gs7PY"
   },
   "source": [
    "#### The target column of interest is `Reviewer_Score`.\n",
    " 1. What is the shape of the dataset?\n",
    " 2. The reviews provided are all given as decimal values. Convert them into integers from 1 to 10\n",
    " 3. The reviews are scored from 1 to 10. What do you expect the distribution of scores to look like? What is the actual distribution of reviews?\n",
    " 4. Given this will be a classification problem, what is a potential problem with this distribution?"
   ]
  },
  {
   "cell_type": "markdown",
   "metadata": {
    "ExecuteTime": {
     "end_time": "2022-07-08T20:06:21.961059Z",
     "start_time": "2022-07-08T20:06:21.956713Z"
    },
    "hidden": true,
    "id": "4oLP7vdrs7PY"
   },
   "source": [
    "1. **Shape of the dataset**"
   ]
  },
  {
   "cell_type": "code",
   "execution_count": 7,
   "metadata": {
    "ExecuteTime": {
     "end_time": "2022-07-11T12:16:25.069919Z",
     "start_time": "2022-07-11T12:16:25.067209Z"
    },
    "hidden": true,
    "id": "LlfhqH__s7PZ",
    "outputId": "cb2e175f-711a-4ee5-c5d1-ab00cd88076d"
   },
   "outputs": [
    {
     "name": "stdout",
     "output_type": "stream",
     "text": [
      "Total number of rows:1031476\n",
      "Total number of columns:17\n"
     ]
    }
   ],
   "source": [
    "df_shape = df_hotel_review.shape\n",
    "print(f\"Total number of rows:{df_shape[0]}\")\n",
    "print(f\"Total number of columns:{df_shape[1]}\")"
   ]
  },
  {
   "cell_type": "markdown",
   "metadata": {
    "hidden": true,
    "id": "VXdE-DTFs7PZ"
   },
   "source": [
    "2. **Converting the `Reviewer_Score` into integers from 1 to 10**"
   ]
  },
  {
   "cell_type": "code",
   "execution_count": 8,
   "metadata": {
    "ExecuteTime": {
     "end_time": "2022-07-11T12:16:25.177036Z",
     "start_time": "2022-07-11T12:16:25.071591Z"
    },
    "hidden": true,
    "id": "qXCBRKY_s7Pa",
    "outputId": "5bb400b9-d551-498a-e523-5d7f78721723"
   },
   "outputs": [
    {
     "data": {
      "text/html": [
       "<div>\n",
       "<style scoped>\n",
       "    .dataframe tbody tr th:only-of-type {\n",
       "        vertical-align: middle;\n",
       "    }\n",
       "\n",
       "    .dataframe tbody tr th {\n",
       "        vertical-align: top;\n",
       "    }\n",
       "\n",
       "    .dataframe thead th {\n",
       "        text-align: right;\n",
       "    }\n",
       "</style>\n",
       "<table border=\"1\" class=\"dataframe\">\n",
       "  <thead>\n",
       "    <tr style=\"text-align: right;\">\n",
       "      <th></th>\n",
       "      <th>Reviewer_Score</th>\n",
       "      <th>Reviewer_Score_modified</th>\n",
       "    </tr>\n",
       "  </thead>\n",
       "  <tbody>\n",
       "    <tr>\n",
       "      <th>0</th>\n",
       "      <td>2.9</td>\n",
       "      <td>3</td>\n",
       "    </tr>\n",
       "    <tr>\n",
       "      <th>1</th>\n",
       "      <td>7.5</td>\n",
       "      <td>8</td>\n",
       "    </tr>\n",
       "    <tr>\n",
       "      <th>2</th>\n",
       "      <td>7.1</td>\n",
       "      <td>7</td>\n",
       "    </tr>\n",
       "    <tr>\n",
       "      <th>3</th>\n",
       "      <td>3.8</td>\n",
       "      <td>4</td>\n",
       "    </tr>\n",
       "    <tr>\n",
       "      <th>4</th>\n",
       "      <td>6.7</td>\n",
       "      <td>7</td>\n",
       "    </tr>\n",
       "  </tbody>\n",
       "</table>\n",
       "</div>"
      ],
      "text/plain": [
       "   Reviewer_Score  Reviewer_Score_modified\n",
       "0             2.9                        3\n",
       "1             7.5                        8\n",
       "2             7.1                        7\n",
       "3             3.8                        4\n",
       "4             6.7                        7"
      ]
     },
     "execution_count": 8,
     "metadata": {},
     "output_type": "execute_result"
    }
   ],
   "source": [
    "df_hotel_review[\"Reviewer_Score_modified\"] = df_hotel_review[\"Reviewer_Score\"].round().astype(int)\n",
    "df_hotel_review[[\"Reviewer_Score\",\"Reviewer_Score_modified\"]].head()"
   ]
  },
  {
   "cell_type": "markdown",
   "metadata": {
    "hidden": true,
    "id": "QzXmeIvEs7Pb"
   },
   "source": [
    "The `Reviewer_Score` is rounded to the nearest integer value and then the data type is changed to integer"
   ]
  },
  {
   "cell_type": "markdown",
   "metadata": {
    "hidden": true,
    "id": "HZVyobmss7Pb"
   },
   "source": [
    "3. **What do you expect the distribution of scores to look like? What is the actual distribution of reviews?**"
   ]
  },
  {
   "cell_type": "code",
   "execution_count": 9,
   "metadata": {
    "ExecuteTime": {
     "end_time": "2022-07-11T12:16:25.220074Z",
     "start_time": "2022-07-11T12:16:25.180092Z"
    },
    "hidden": true,
    "id": "R1g6BgBKs7Pb",
    "outputId": "d2f80580-0d22-4c04-a809-76ec9e06116f"
   },
   "outputs": [
    {
     "data": {
      "text/html": [
       "<div>\n",
       "<style scoped>\n",
       "    .dataframe tbody tr th:only-of-type {\n",
       "        vertical-align: middle;\n",
       "    }\n",
       "\n",
       "    .dataframe tbody tr th {\n",
       "        vertical-align: top;\n",
       "    }\n",
       "\n",
       "    .dataframe thead th {\n",
       "        text-align: right;\n",
       "    }\n",
       "</style>\n",
       "<table border=\"1\" class=\"dataframe\">\n",
       "  <thead>\n",
       "    <tr style=\"text-align: right;\">\n",
       "      <th></th>\n",
       "      <th>No_of_Reviewer</th>\n",
       "      <th>Percentage</th>\n",
       "    </tr>\n",
       "    <tr>\n",
       "      <th>Score</th>\n",
       "      <th></th>\n",
       "      <th></th>\n",
       "    </tr>\n",
       "  </thead>\n",
       "  <tbody>\n",
       "    <tr>\n",
       "      <th>10</th>\n",
       "      <td>375488</td>\n",
       "      <td>36.402980</td>\n",
       "    </tr>\n",
       "    <tr>\n",
       "      <th>8</th>\n",
       "      <td>220310</td>\n",
       "      <td>21.358713</td>\n",
       "    </tr>\n",
       "    <tr>\n",
       "      <th>9</th>\n",
       "      <td>211444</td>\n",
       "      <td>20.499168</td>\n",
       "    </tr>\n",
       "    <tr>\n",
       "      <th>7</th>\n",
       "      <td>88176</td>\n",
       "      <td>8.548527</td>\n",
       "    </tr>\n",
       "    <tr>\n",
       "      <th>6</th>\n",
       "      <td>55600</td>\n",
       "      <td>5.390334</td>\n",
       "    </tr>\n",
       "    <tr>\n",
       "      <th>5</th>\n",
       "      <td>48376</td>\n",
       "      <td>4.689978</td>\n",
       "    </tr>\n",
       "    <tr>\n",
       "      <th>4</th>\n",
       "      <td>18872</td>\n",
       "      <td>1.829611</td>\n",
       "    </tr>\n",
       "    <tr>\n",
       "      <th>3</th>\n",
       "      <td>8812</td>\n",
       "      <td>0.854310</td>\n",
       "    </tr>\n",
       "    <tr>\n",
       "      <th>2</th>\n",
       "      <td>4398</td>\n",
       "      <td>0.426379</td>\n",
       "    </tr>\n",
       "  </tbody>\n",
       "</table>\n",
       "</div>"
      ],
      "text/plain": [
       "       No_of_Reviewer  Percentage\n",
       "Score                            \n",
       "10             375488   36.402980\n",
       "8              220310   21.358713\n",
       "9              211444   20.499168\n",
       "7               88176    8.548527\n",
       "6               55600    5.390334\n",
       "5               48376    4.689978\n",
       "4               18872    1.829611\n",
       "3                8812    0.854310\n",
       "2                4398    0.426379"
      ]
     },
     "execution_count": 9,
     "metadata": {},
     "output_type": "execute_result"
    }
   ],
   "source": [
    "# calculating number of review per score\n",
    "df_review_score = pd.DataFrame(df_hotel_review[\"Reviewer_Score_modified\"].value_counts())\n",
    "df_review_score.columns=[\"No_of_Reviewer\"]\n",
    "df_review_score.index.names=[\"Score\"]\n",
    "df_review_score[\"Percentage\"] = df_review_score[\"No_of_Reviewer\"]/df_review_score[\"No_of_Reviewer\"].sum()*100\n",
    "df_review_score"
   ]
  },
  {
   "cell_type": "code",
   "execution_count": 10,
   "metadata": {
    "ExecuteTime": {
     "end_time": "2022-07-11T12:16:25.450228Z",
     "start_time": "2022-07-11T12:16:25.221975Z"
    },
    "hidden": true,
    "id": "w1yo84CXs7Pc",
    "outputId": "2ef1f9b5-1326-48d4-c911-45e8131140f0"
   },
   "outputs": [
    {
     "data": {
      "image/png": "[encoded data removed]",
      "text/plain": [
       "<Figure size 1440x360 with 1 Axes>"
      ]
     },
     "metadata": {
      "needs_background": "light"
     },
     "output_type": "display_data"
    }
   ],
   "source": [
    "plt.figure(figsize=(20,5))\n",
    "plt.bar(x =df_review_score.index,height=df_review_score[\"Percentage\"])\n",
    "plt.xlabel(\"Rating Score\")\n",
    "plt.ylabel(\"Reviewer_Count_%\")\n",
    "plt.title(\"Percentage of reviewer per Rating Score\")\n",
    "plt.ylim(0,100)\n",
    "plt.show()"
   ]
  },
  {
   "cell_type": "markdown",
   "metadata": {
    "hidden": true,
    "id": "uw1XGRzSs7Pc"
   },
   "source": [
    "Based on the above table and the bar chart,the initial insight drawn are as follows:<br>\n",
    "- The overall distribution of the `Reviewer Score` spread between 2 -10 points.<br>\n",
    "- Close to 80% of the reviewer rated the hotels in the range of 8-10 points which make the over all distribution skewed towards the higher score and among the top score, 36.40% of the reviewer rated the hotel with full 10 points<br>\n",
    "- Therefore this makes the over dataset higly imbalanced while considering the `Reviewer Score` as the target variable.<br>"
   ]
  },
  {
   "cell_type": "markdown",
   "metadata": {
    "heading_collapsed": true,
    "id": "ZBkMmSd7s7Pd"
   },
   "source": [
    "####  This dataset has a good mix of numeric and non-numeric columns. \n",
    "1. Which columns are numeric? Which are non-numeric?\n",
    "2. Can you turn some of the non-numeric columns to numeric?"
   ]
  },
  {
   "cell_type": "markdown",
   "metadata": {
    "heading_collapsed": true,
    "hidden": true,
    "id": "hoLMBt4zs7Pd"
   },
   "source": [
    "##### Exploring the Numeric and Non-Numeric Column in the dataset"
   ]
  },
  {
   "cell_type": "code",
   "execution_count": 11,
   "metadata": {
    "ExecuteTime": {
     "end_time": "2022-07-11T12:16:25.467909Z",
     "start_time": "2022-07-11T12:16:25.451851Z"
    },
    "hidden": true,
    "id": "Bezmr7bCs7Pd",
    "outputId": "4420f37f-ffb2-4344-fce3-df7d2692bdc0"
   },
   "outputs": [
    {
     "data": {
      "text/html": [
       "<div>\n",
       "<style scoped>\n",
       "    .dataframe tbody tr th:only-of-type {\n",
       "        vertical-align: middle;\n",
       "    }\n",
       "\n",
       "    .dataframe tbody tr th {\n",
       "        vertical-align: top;\n",
       "    }\n",
       "\n",
       "    .dataframe thead th {\n",
       "        text-align: right;\n",
       "    }\n",
       "</style>\n",
       "<table border=\"1\" class=\"dataframe\">\n",
       "  <thead>\n",
       "    <tr style=\"text-align: right;\">\n",
       "      <th>Columns</th>\n",
       "      <th>Hotel_Address</th>\n",
       "      <th>Additional_Number_of_Scoring</th>\n",
       "      <th>Review_Date</th>\n",
       "      <th>Average_Score</th>\n",
       "      <th>Hotel_Name</th>\n",
       "      <th>Reviewer_Nationality</th>\n",
       "      <th>Negative_Review</th>\n",
       "      <th>Review_Total_Negative_Word_Counts</th>\n",
       "      <th>Total_Number_of_Reviews</th>\n",
       "      <th>Positive_Review</th>\n",
       "      <th>Review_Total_Positive_Word_Counts</th>\n",
       "      <th>Total_Number_of_Reviews_Reviewer_Has_Given</th>\n",
       "      <th>Reviewer_Score</th>\n",
       "      <th>Tags</th>\n",
       "      <th>days_since_review</th>\n",
       "      <th>lat</th>\n",
       "      <th>lng</th>\n",
       "      <th>Reviewer_Score_modified</th>\n",
       "    </tr>\n",
       "  </thead>\n",
       "  <tbody>\n",
       "    <tr>\n",
       "      <th>Data_Type</th>\n",
       "      <td>object</td>\n",
       "      <td>int64</td>\n",
       "      <td>object</td>\n",
       "      <td>float64</td>\n",
       "      <td>object</td>\n",
       "      <td>object</td>\n",
       "      <td>object</td>\n",
       "      <td>int64</td>\n",
       "      <td>int64</td>\n",
       "      <td>object</td>\n",
       "      <td>int64</td>\n",
       "      <td>int64</td>\n",
       "      <td>float64</td>\n",
       "      <td>object</td>\n",
       "      <td>object</td>\n",
       "      <td>float64</td>\n",
       "      <td>float64</td>\n",
       "      <td>int64</td>\n",
       "    </tr>\n",
       "    <tr>\n",
       "      <th>Type</th>\n",
       "      <td>Non-Numeric</td>\n",
       "      <td>Numeric</td>\n",
       "      <td>Non-Numeric</td>\n",
       "      <td>Numeric</td>\n",
       "      <td>Non-Numeric</td>\n",
       "      <td>Non-Numeric</td>\n",
       "      <td>Non-Numeric</td>\n",
       "      <td>Numeric</td>\n",
       "      <td>Numeric</td>\n",
       "      <td>Non-Numeric</td>\n",
       "      <td>Numeric</td>\n",
       "      <td>Numeric</td>\n",
       "      <td>Numeric</td>\n",
       "      <td>Non-Numeric</td>\n",
       "      <td>Non-Numeric</td>\n",
       "      <td>Numeric</td>\n",
       "      <td>Numeric</td>\n",
       "      <td>Numeric</td>\n",
       "    </tr>\n",
       "  </tbody>\n",
       "</table>\n",
       "</div>"
      ],
      "text/plain": [
       "Columns   Hotel_Address Additional_Number_of_Scoring  Review_Date  \\\n",
       "Data_Type        object                        int64       object   \n",
       "Type        Non-Numeric                      Numeric  Non-Numeric   \n",
       "\n",
       "Columns   Average_Score   Hotel_Name Reviewer_Nationality Negative_Review  \\\n",
       "Data_Type       float64       object               object          object   \n",
       "Type            Numeric  Non-Numeric          Non-Numeric     Non-Numeric   \n",
       "\n",
       "Columns   Review_Total_Negative_Word_Counts Total_Number_of_Reviews  \\\n",
       "Data_Type                             int64                   int64   \n",
       "Type                                Numeric                 Numeric   \n",
       "\n",
       "Columns   Positive_Review Review_Total_Positive_Word_Counts  \\\n",
       "Data_Type          object                             int64   \n",
       "Type          Non-Numeric                           Numeric   \n",
       "\n",
       "Columns   Total_Number_of_Reviews_Reviewer_Has_Given Reviewer_Score  \\\n",
       "Data_Type                                      int64        float64   \n",
       "Type                                         Numeric        Numeric   \n",
       "\n",
       "Columns           Tags days_since_review      lat      lng  \\\n",
       "Data_Type       object            object  float64  float64   \n",
       "Type       Non-Numeric       Non-Numeric  Numeric  Numeric   \n",
       "\n",
       "Columns   Reviewer_Score_modified  \n",
       "Data_Type                   int64  \n",
       "Type                      Numeric  "
      ]
     },
     "execution_count": 11,
     "metadata": {},
     "output_type": "execute_result"
    }
   ],
   "source": [
    "datatype= pd.DataFrame(df_hotel_review.dtypes)\n",
    "datatype.columns =[\"Data_Type\"]\n",
    "datatype.index.names=[\"Columns\"]\n",
    "datatype[\"Type\"] = datatype[\"Data_Type\"].map(lambda x : \"Non-Numeric\" if (x==\"object\") else \"Numeric\")\n",
    "datatype.T"
   ]
  },
  {
   "cell_type": "code",
   "execution_count": 12,
   "metadata": {
    "ExecuteTime": {
     "end_time": "2022-07-11T12:16:25.474010Z",
     "start_time": "2022-07-11T12:16:25.469489Z"
    },
    "hidden": true,
    "id": "RRejHzyNs7Pe",
    "outputId": "46d53d29-27ca-4383-b2db-3fe2b6b1a4a3"
   },
   "outputs": [
    {
     "data": {
      "text/plain": [
       "Numeric        10\n",
       "Non-Numeric     8\n",
       "Name: Type, dtype: int64"
      ]
     },
     "execution_count": 12,
     "metadata": {},
     "output_type": "execute_result"
    }
   ],
   "source": [
    "datatype[\"Type\"].value_counts()"
   ]
  },
  {
   "cell_type": "markdown",
   "metadata": {
    "hidden": true,
    "id": "2yuySEljs7Pe"
   },
   "source": [
    "Based on the above table , there are 10 numeric columns and 8 Non-Numeric columns."
   ]
  },
  {
   "cell_type": "markdown",
   "metadata": {
    "ExecuteTime": {
     "end_time": "2022-07-09T02:51:02.992123Z",
     "start_time": "2022-07-09T02:51:02.978028Z"
    },
    "hidden": true,
    "id": "rBnIhP0ts7Pf"
   },
   "source": [
    "#####  Exploring the potential of non-numeric column  to be converted into numeric column"
   ]
  },
  {
   "cell_type": "code",
   "execution_count": 13,
   "metadata": {
    "ExecuteTime": {
     "end_time": "2022-07-11T12:16:25.576025Z",
     "start_time": "2022-07-11T12:16:25.475381Z"
    },
    "hidden": true,
    "id": "PYE2Z3nvs7Pf",
    "outputId": "d565d3cd-dae2-47c5-dd82-a7431dfed241"
   },
   "outputs": [
    {
     "data": {
      "text/html": [
       "<div>\n",
       "<style scoped>\n",
       "    .dataframe tbody tr th:only-of-type {\n",
       "        vertical-align: middle;\n",
       "    }\n",
       "\n",
       "    .dataframe tbody tr th {\n",
       "        vertical-align: top;\n",
       "    }\n",
       "\n",
       "    .dataframe thead th {\n",
       "        text-align: right;\n",
       "    }\n",
       "</style>\n",
       "<table border=\"1\" class=\"dataframe\">\n",
       "  <thead>\n",
       "    <tr style=\"text-align: right;\">\n",
       "      <th>Columns</th>\n",
       "      <th>Hotel_Address</th>\n",
       "      <th>Review_Date</th>\n",
       "      <th>Hotel_Name</th>\n",
       "      <th>Reviewer_Nationality</th>\n",
       "      <th>Negative_Review</th>\n",
       "      <th>Positive_Review</th>\n",
       "      <th>Tags</th>\n",
       "      <th>days_since_review</th>\n",
       "    </tr>\n",
       "  </thead>\n",
       "  <tbody>\n",
       "    <tr>\n",
       "      <th>0</th>\n",
       "      <td>s Gravesandestraat 55 Oost 1092 AA Amsterdam ...</td>\n",
       "      <td>8/3/2017</td>\n",
       "      <td>Hotel Arena</td>\n",
       "      <td>Russia</td>\n",
       "      <td>I am so angry that i made this post available...</td>\n",
       "      <td>Only the park outside of the hotel was beauti...</td>\n",
       "      <td>[' Leisure trip ', ' Couple ', ' Duplex Double...</td>\n",
       "      <td>0 days</td>\n",
       "    </tr>\n",
       "    <tr>\n",
       "      <th>1</th>\n",
       "      <td>s Gravesandestraat 55 Oost 1092 AA Amsterdam ...</td>\n",
       "      <td>8/3/2017</td>\n",
       "      <td>Hotel Arena</td>\n",
       "      <td>Ireland</td>\n",
       "      <td>No Negative</td>\n",
       "      <td>No real complaints the hotel was great great ...</td>\n",
       "      <td>[' Leisure trip ', ' Couple ', ' Duplex Double...</td>\n",
       "      <td>0 days</td>\n",
       "    </tr>\n",
       "    <tr>\n",
       "      <th>2</th>\n",
       "      <td>s Gravesandestraat 55 Oost 1092 AA Amsterdam ...</td>\n",
       "      <td>7/31/2017</td>\n",
       "      <td>Hotel Arena</td>\n",
       "      <td>Australia</td>\n",
       "      <td>Rooms are nice but for elderly a bit difficul...</td>\n",
       "      <td>Location was good and staff were ok It is cut...</td>\n",
       "      <td>[' Leisure trip ', ' Family with young childre...</td>\n",
       "      <td>3 days</td>\n",
       "    </tr>\n",
       "    <tr>\n",
       "      <th>3</th>\n",
       "      <td>s Gravesandestraat 55 Oost 1092 AA Amsterdam ...</td>\n",
       "      <td>7/31/2017</td>\n",
       "      <td>Hotel Arena</td>\n",
       "      <td>United Kingdom</td>\n",
       "      <td>My room was dirty and I was afraid to walk ba...</td>\n",
       "      <td>Great location in nice surroundings the bar a...</td>\n",
       "      <td>[' Leisure trip ', ' Solo traveler ', ' Duplex...</td>\n",
       "      <td>3 days</td>\n",
       "    </tr>\n",
       "    <tr>\n",
       "      <th>4</th>\n",
       "      <td>s Gravesandestraat 55 Oost 1092 AA Amsterdam ...</td>\n",
       "      <td>7/24/2017</td>\n",
       "      <td>Hotel Arena</td>\n",
       "      <td>New Zealand</td>\n",
       "      <td>You When I booked with your company on line y...</td>\n",
       "      <td>Amazing location and building Romantic setting</td>\n",
       "      <td>[' Leisure trip ', ' Couple ', ' Suite ', ' St...</td>\n",
       "      <td>10 days</td>\n",
       "    </tr>\n",
       "  </tbody>\n",
       "</table>\n",
       "</div>"
      ],
      "text/plain": [
       "Columns                                      Hotel_Address Review_Date  \\\n",
       "0         s Gravesandestraat 55 Oost 1092 AA Amsterdam ...    8/3/2017   \n",
       "1         s Gravesandestraat 55 Oost 1092 AA Amsterdam ...    8/3/2017   \n",
       "2         s Gravesandestraat 55 Oost 1092 AA Amsterdam ...   7/31/2017   \n",
       "3         s Gravesandestraat 55 Oost 1092 AA Amsterdam ...   7/31/2017   \n",
       "4         s Gravesandestraat 55 Oost 1092 AA Amsterdam ...   7/24/2017   \n",
       "\n",
       "Columns   Hotel_Name Reviewer_Nationality  \\\n",
       "0        Hotel Arena              Russia    \n",
       "1        Hotel Arena             Ireland    \n",
       "2        Hotel Arena           Australia    \n",
       "3        Hotel Arena      United Kingdom    \n",
       "4        Hotel Arena         New Zealand    \n",
       "\n",
       "Columns                                    Negative_Review  \\\n",
       "0         I am so angry that i made this post available...   \n",
       "1                                              No Negative   \n",
       "2         Rooms are nice but for elderly a bit difficul...   \n",
       "3         My room was dirty and I was afraid to walk ba...   \n",
       "4         You When I booked with your company on line y...   \n",
       "\n",
       "Columns                                    Positive_Review  \\\n",
       "0         Only the park outside of the hotel was beauti...   \n",
       "1         No real complaints the hotel was great great ...   \n",
       "2         Location was good and staff were ok It is cut...   \n",
       "3         Great location in nice surroundings the bar a...   \n",
       "4          Amazing location and building Romantic setting    \n",
       "\n",
       "Columns                                               Tags days_since_review  \n",
       "0        [' Leisure trip ', ' Couple ', ' Duplex Double...            0 days  \n",
       "1        [' Leisure trip ', ' Couple ', ' Duplex Double...            0 days  \n",
       "2        [' Leisure trip ', ' Family with young childre...            3 days  \n",
       "3        [' Leisure trip ', ' Solo traveler ', ' Duplex...            3 days  \n",
       "4        [' Leisure trip ', ' Couple ', ' Suite ', ' St...           10 days  "
      ]
     },
     "execution_count": 13,
     "metadata": {},
     "output_type": "execute_result"
    }
   ],
   "source": [
    "non_numeric_column = datatype[datatype[\"Type\"]==\"Non-Numeric\"].index\n",
    "df_hotel_review[non_numeric_column].head()"
   ]
  },
  {
   "cell_type": "code",
   "execution_count": 14,
   "metadata": {
    "ExecuteTime": {
     "end_time": "2022-07-11T12:16:27.729355Z",
     "start_time": "2022-07-11T12:16:25.577916Z"
    },
    "hidden": true,
    "id": "DYwgnT46s7Pf",
    "outputId": "f32f284d-ee11-4fbf-bc22-45b219d8f024"
   },
   "outputs": [
    {
     "data": {
      "text/html": [
       "<div>\n",
       "<style scoped>\n",
       "    .dataframe tbody tr th:only-of-type {\n",
       "        vertical-align: middle;\n",
       "    }\n",
       "\n",
       "    .dataframe tbody tr th {\n",
       "        vertical-align: top;\n",
       "    }\n",
       "\n",
       "    .dataframe thead th {\n",
       "        text-align: right;\n",
       "    }\n",
       "</style>\n",
       "<table border=\"1\" class=\"dataframe\">\n",
       "  <thead>\n",
       "    <tr style=\"text-align: right;\">\n",
       "      <th></th>\n",
       "      <th>count</th>\n",
       "      <th>unique</th>\n",
       "      <th>top</th>\n",
       "      <th>freq</th>\n",
       "    </tr>\n",
       "    <tr>\n",
       "      <th>Columns</th>\n",
       "      <th></th>\n",
       "      <th></th>\n",
       "      <th></th>\n",
       "      <th></th>\n",
       "    </tr>\n",
       "  </thead>\n",
       "  <tbody>\n",
       "    <tr>\n",
       "      <th>Hotel_Address</th>\n",
       "      <td>1031476</td>\n",
       "      <td>1493</td>\n",
       "      <td>163 Marsh Wall Docklands Tower Hamlets London ...</td>\n",
       "      <td>9578</td>\n",
       "    </tr>\n",
       "    <tr>\n",
       "      <th>Review_Date</th>\n",
       "      <td>1031476</td>\n",
       "      <td>731</td>\n",
       "      <td>8/2/2017</td>\n",
       "      <td>5170</td>\n",
       "    </tr>\n",
       "    <tr>\n",
       "      <th>Hotel_Name</th>\n",
       "      <td>1031476</td>\n",
       "      <td>1492</td>\n",
       "      <td>Britannia International Hotel Canary Wharf</td>\n",
       "      <td>9578</td>\n",
       "    </tr>\n",
       "    <tr>\n",
       "      <th>Reviewer_Nationality</th>\n",
       "      <td>1031476</td>\n",
       "      <td>227</td>\n",
       "      <td>United Kingdom</td>\n",
       "      <td>490492</td>\n",
       "    </tr>\n",
       "    <tr>\n",
       "      <th>Negative_Review</th>\n",
       "      <td>1031476</td>\n",
       "      <td>330011</td>\n",
       "      <td>No Negative</td>\n",
       "      <td>255780</td>\n",
       "    </tr>\n",
       "    <tr>\n",
       "      <th>Positive_Review</th>\n",
       "      <td>1031476</td>\n",
       "      <td>412601</td>\n",
       "      <td>No Positive</td>\n",
       "      <td>71892</td>\n",
       "    </tr>\n",
       "    <tr>\n",
       "      <th>Tags</th>\n",
       "      <td>1031476</td>\n",
       "      <td>55242</td>\n",
       "      <td>[' Leisure trip ', ' Couple ', ' Double Room '...</td>\n",
       "      <td>10202</td>\n",
       "    </tr>\n",
       "    <tr>\n",
       "      <th>days_since_review</th>\n",
       "      <td>1031476</td>\n",
       "      <td>731</td>\n",
       "      <td>1 days</td>\n",
       "      <td>5170</td>\n",
       "    </tr>\n",
       "  </tbody>\n",
       "</table>\n",
       "</div>"
      ],
      "text/plain": [
       "                        count  unique  \\\n",
       "Columns                                 \n",
       "Hotel_Address         1031476    1493   \n",
       "Review_Date           1031476     731   \n",
       "Hotel_Name            1031476    1492   \n",
       "Reviewer_Nationality  1031476     227   \n",
       "Negative_Review       1031476  330011   \n",
       "Positive_Review       1031476  412601   \n",
       "Tags                  1031476   55242   \n",
       "days_since_review     1031476     731   \n",
       "\n",
       "                                                                    top  \\\n",
       "Columns                                                                   \n",
       "Hotel_Address         163 Marsh Wall Docklands Tower Hamlets London ...   \n",
       "Review_Date                                                    8/2/2017   \n",
       "Hotel_Name                   Britannia International Hotel Canary Wharf   \n",
       "Reviewer_Nationality                                    United Kingdom    \n",
       "Negative_Review                                             No Negative   \n",
       "Positive_Review                                             No Positive   \n",
       "Tags                  [' Leisure trip ', ' Couple ', ' Double Room '...   \n",
       "days_since_review                                                1 days   \n",
       "\n",
       "                        freq  \n",
       "Columns                       \n",
       "Hotel_Address           9578  \n",
       "Review_Date             5170  \n",
       "Hotel_Name              9578  \n",
       "Reviewer_Nationality  490492  \n",
       "Negative_Review       255780  \n",
       "Positive_Review        71892  \n",
       "Tags                   10202  \n",
       "days_since_review       5170  "
      ]
     },
     "execution_count": 14,
     "metadata": {},
     "output_type": "execute_result"
    }
   ],
   "source": [
    "df_hotel_review[non_numeric_column].describe(include=\"all\").T"
   ]
  },
  {
   "cell_type": "markdown",
   "metadata": {
    "hidden": true,
    "id": "rHViQa6Xs7Pf"
   },
   "source": [
    "According to the above two tables, the strategies adopted for non-numeric columns are as follows:\n",
    "1. The `Review_Date` column can be change to date time formate \n",
    "2. The `days_since_review` column can be converted into numeric value by extracting the  number of days and converting the data type into integer\n",
    "3. `Hotel_Address` column  can be dropped as it's representation is already done by the `lat` and `lon` column \n",
    "4. `Reviewer_Nationality` and `Tags` are the two columns which need further exploration to evaluate the potential of converting into numeric columns"
   ]
  },
  {
   "cell_type": "markdown",
   "metadata": {
    "heading_collapsed": true,
    "hidden": true,
    "id": "w5miSlXys7Pg"
   },
   "source": [
    "###### Exploring the `Reviewer_Nationality` column"
   ]
  },
  {
   "cell_type": "code",
   "execution_count": 15,
   "metadata": {
    "ExecuteTime": {
     "end_time": "2022-07-11T12:16:27.861905Z",
     "start_time": "2022-07-11T12:16:27.731675Z"
    },
    "hidden": true,
    "id": "7k6YIxPGs7Pg",
    "outputId": "970c677c-6d1b-4670-d895-51f4665f1b4a"
   },
   "outputs": [
    {
     "data": {
      "text/plain": [
       " United Kingdom               47.552439\n",
       " United States of America      6.871124\n",
       " Australia                     4.204848\n",
       " Ireland                       2.874909\n",
       " United Arab Emirates          1.984535\n",
       "                                ...    \n",
       " Svalbard Jan Mayen            0.000194\n",
       " Anguilla                      0.000194\n",
       " Cape Verde                    0.000194\n",
       " Comoros                       0.000194\n",
       " Palau                         0.000194\n",
       "Name: Reviewer_Nationality, Length: 227, dtype: float64"
      ]
     },
     "execution_count": 15,
     "metadata": {},
     "output_type": "execute_result"
    }
   ],
   "source": [
    "df_hotel_review[\"Reviewer_Nationality\"].value_counts()/df_hotel_review[\"Reviewer_Nationality\"].count()*100"
   ]
  },
  {
   "cell_type": "markdown",
   "metadata": {
    "hidden": true,
    "id": "sP5COM7Ps7Ph"
   },
   "source": [
    "Based on the above results ,out of 227 places ,47.55% of the reviewer are from United kingdom and the remaining are distributed among 226 places. Therefore, the `Reviewer_Nationality` column can be converted into numeric column using `1` and `0` where `1` represent reviewer from United Kingdom and `0` respresent reviewer from others places. "
   ]
  },
  {
   "cell_type": "markdown",
   "metadata": {
    "heading_collapsed": true,
    "hidden": true,
    "id": "WQFGngxms7Pi"
   },
   "source": [
    "###### Exploring the `Tags` column"
   ]
  },
  {
   "cell_type": "code",
   "execution_count": 16,
   "metadata": {
    "ExecuteTime": {
     "end_time": "2022-07-11T12:16:27.867116Z",
     "start_time": "2022-07-11T12:16:27.863773Z"
    },
    "hidden": true
   },
   "outputs": [],
   "source": [
    "# Function to understand the pattern of words in the Tag column \n",
    "def tag_Pattern(data):\n",
    "    bagofwords =[]\n",
    "    for index, text in enumerate(data):\n",
    "        text = re.sub(\" \",\"\",text)\n",
    "        text = re.findall(r\"'(.*?)'\", text)\n",
    "        for word in text:\n",
    "            if word not in bagofwords:\n",
    "                bagofwords.append(word)\n",
    "    return bagofwords"
   ]
  },
  {
   "cell_type": "code",
   "execution_count": 17,
   "metadata": {
    "ExecuteTime": {
     "end_time": "2022-07-11T12:16:47.956216Z",
     "start_time": "2022-07-11T12:16:27.869270Z"
    },
    "hidden": true
   },
   "outputs": [
    {
     "data": {
      "text/plain": [
       "['Leisuretrip',\n",
       " 'Couple',\n",
       " 'DuplexDoubleRoom',\n",
       " 'Stayed6nights',\n",
       " 'Stayed4nights',\n",
       " 'Familywithyoungchildren',\n",
       " 'Stayed3nights',\n",
       " 'Submittedfromamobiledevice',\n",
       " 'Solotraveler',\n",
       " 'Suite']"
      ]
     },
     "execution_count": 17,
     "metadata": {},
     "output_type": "execute_result"
    }
   ],
   "source": [
    "tag_Pattern(df_hotel_review[\"Tags\"])[0:10]"
   ]
  },
  {
   "cell_type": "markdown",
   "metadata": {
    "hidden": true
   },
   "source": [
    "On exploring bag of words made from the `Tags` Column , it was observed that the column contains six distinct features as mentioned .\n",
    "1. `Guest_with_pets`:Guest arrived with Pets or Not\n",
    "2. `Trip_type`: Purpose of the trip i.e. leisure or business\n",
    "3. `Guest_type`: Number of Guest per booking i.e \n",
    "4. `Room_type`:accommodation type of the guest\n",
    "5. `Trip_duration`: Total number of night spend by the Guest\n",
    "6. `Submitted_from_a_mobile_device`: Device used for giving the review is mobile or not"
   ]
  },
  {
   "cell_type": "markdown",
   "metadata": {
    "hidden": true
   },
   "source": [
    "Creating a new data frame `df_Tag` to include the feature from the a`Tag` column"
   ]
  },
  {
   "cell_type": "code",
   "execution_count": 18,
   "metadata": {
    "ExecuteTime": {
     "end_time": "2022-07-11T12:16:47.962452Z",
     "start_time": "2022-07-11T12:16:47.958313Z"
    },
    "hidden": true,
    "id": "0C9LHegftHVj"
   },
   "outputs": [],
   "source": [
    "# Function to seperate the vales of the tag column into a list of features.\n",
    "def tag(text):\n",
    "    text = text.lower()\n",
    "    text = re.sub(\" \",\"\",text)\n",
    "    text = re.findall(r\"'(.*?)'\", text)\n",
    "    if len(text) == 6:\n",
    "        return text\n",
    "    else:\n",
    "        if \"submittedfromamobiledevice\" not in text:\n",
    "            text.append(None)  \n",
    "        if \"withapet\" not in text:\n",
    "            text.insert(0,\"withoutapet\")\n",
    "        if \"leisuretrip\" not in text and \"businesstrip\" not in text:\n",
    "            text.insert(1,None)\n",
    "    return text\n",
    "\n"
   ]
  },
  {
   "cell_type": "code",
   "execution_count": 19,
   "metadata": {
    "ExecuteTime": {
     "end_time": "2022-07-11T12:17:05.941969Z",
     "start_time": "2022-07-11T12:16:47.964418Z"
    },
    "hidden": true
   },
   "outputs": [
    {
     "data": {
      "text/html": [
       "<div>\n",
       "<style scoped>\n",
       "    .dataframe tbody tr th:only-of-type {\n",
       "        vertical-align: middle;\n",
       "    }\n",
       "\n",
       "    .dataframe tbody tr th {\n",
       "        vertical-align: top;\n",
       "    }\n",
       "\n",
       "    .dataframe thead th {\n",
       "        text-align: right;\n",
       "    }\n",
       "</style>\n",
       "<table border=\"1\" class=\"dataframe\">\n",
       "  <thead>\n",
       "    <tr style=\"text-align: right;\">\n",
       "      <th></th>\n",
       "      <th>Guest_with_pets</th>\n",
       "      <th>Trip_type</th>\n",
       "      <th>Guest_type</th>\n",
       "      <th>Room_type</th>\n",
       "      <th>Trip_duration</th>\n",
       "      <th>Submitted_from_a_mobile_device</th>\n",
       "    </tr>\n",
       "  </thead>\n",
       "  <tbody>\n",
       "    <tr>\n",
       "      <th>600903</th>\n",
       "      <td>withoutapet</td>\n",
       "      <td>leisuretrip</td>\n",
       "      <td>solotraveler</td>\n",
       "      <td>executivekingroom</td>\n",
       "      <td>stayed3nights</td>\n",
       "      <td>submittedfromamobiledevice</td>\n",
       "    </tr>\n",
       "    <tr>\n",
       "      <th>167507</th>\n",
       "      <td>withoutapet</td>\n",
       "      <td>leisuretrip</td>\n",
       "      <td>familywithyoungchildren</td>\n",
       "      <td>standarddoubleroom</td>\n",
       "      <td>stayed2nights</td>\n",
       "      <td>submittedfromamobiledevice</td>\n",
       "    </tr>\n",
       "    <tr>\n",
       "      <th>777122</th>\n",
       "      <td>withoutapet</td>\n",
       "      <td>leisuretrip</td>\n",
       "      <td>couple</td>\n",
       "      <td>doubleroom</td>\n",
       "      <td>stayed1night</td>\n",
       "      <td>None</td>\n",
       "    </tr>\n",
       "    <tr>\n",
       "      <th>590952</th>\n",
       "      <td>withoutapet</td>\n",
       "      <td>leisuretrip</td>\n",
       "      <td>familywitholderchildren</td>\n",
       "      <td>superiordoubleroom</td>\n",
       "      <td>stayed2nights</td>\n",
       "      <td>submittedfromamobiledevice</td>\n",
       "    </tr>\n",
       "    <tr>\n",
       "      <th>192475</th>\n",
       "      <td>withoutapet</td>\n",
       "      <td>leisuretrip</td>\n",
       "      <td>couple</td>\n",
       "      <td>executivedoubleroom</td>\n",
       "      <td>stayed1night</td>\n",
       "      <td>None</td>\n",
       "    </tr>\n",
       "  </tbody>\n",
       "</table>\n",
       "</div>"
      ],
      "text/plain": [
       "       Guest_with_pets    Trip_type               Guest_type  \\\n",
       "600903     withoutapet  leisuretrip             solotraveler   \n",
       "167507     withoutapet  leisuretrip  familywithyoungchildren   \n",
       "777122     withoutapet  leisuretrip                   couple   \n",
       "590952     withoutapet  leisuretrip  familywitholderchildren   \n",
       "192475     withoutapet  leisuretrip                   couple   \n",
       "\n",
       "                  Room_type  Trip_duration Submitted_from_a_mobile_device  \n",
       "600903    executivekingroom  stayed3nights     submittedfromamobiledevice  \n",
       "167507   standarddoubleroom  stayed2nights     submittedfromamobiledevice  \n",
       "777122           doubleroom   stayed1night                           None  \n",
       "590952   superiordoubleroom  stayed2nights     submittedfromamobiledevice  \n",
       "192475  executivedoubleroom   stayed1night                           None  "
      ]
     },
     "execution_count": 19,
     "metadata": {},
     "output_type": "execute_result"
    }
   ],
   "source": [
    "columns= [\"Guest_with_pets\",\"Trip_type\",\"Guest_type\",\"Room_type\",\"Trip_duration\",\"Submitted_from_a_mobile_device\"]\n",
    "df_Tag = pd.DataFrame(df_hotel_review[\"Tags\"].apply( lambda x:tag(x)).to_list(), columns = columns)\n",
    "df_Tag.sample(5)"
   ]
  },
  {
   "cell_type": "code",
   "execution_count": 20,
   "metadata": {
    "ExecuteTime": {
     "end_time": "2022-07-11T12:17:07.215165Z",
     "start_time": "2022-07-11T12:17:05.943821Z"
    },
    "hidden": true,
    "scrolled": true
   },
   "outputs": [
    {
     "data": {
      "text/html": [
       "<div>\n",
       "<style scoped>\n",
       "    .dataframe tbody tr th:only-of-type {\n",
       "        vertical-align: middle;\n",
       "    }\n",
       "\n",
       "    .dataframe tbody tr th {\n",
       "        vertical-align: top;\n",
       "    }\n",
       "\n",
       "    .dataframe thead th {\n",
       "        text-align: right;\n",
       "    }\n",
       "</style>\n",
       "<table border=\"1\" class=\"dataframe\">\n",
       "  <thead>\n",
       "    <tr style=\"text-align: right;\">\n",
       "      <th></th>\n",
       "      <th>Guest_with_pets</th>\n",
       "      <th>Trip_type</th>\n",
       "      <th>Guest_type</th>\n",
       "      <th>Room_type</th>\n",
       "      <th>Trip_duration</th>\n",
       "      <th>Submitted_from_a_mobile_device</th>\n",
       "    </tr>\n",
       "  </thead>\n",
       "  <tbody>\n",
       "    <tr>\n",
       "      <th>count</th>\n",
       "      <td>1031476</td>\n",
       "      <td>1001434</td>\n",
       "      <td>1031476</td>\n",
       "      <td>1031302</td>\n",
       "      <td>1031092</td>\n",
       "      <td>615070</td>\n",
       "    </tr>\n",
       "    <tr>\n",
       "      <th>unique</th>\n",
       "      <td>2</td>\n",
       "      <td>2</td>\n",
       "      <td>6</td>\n",
       "      <td>2372</td>\n",
       "      <td>31</td>\n",
       "      <td>1</td>\n",
       "    </tr>\n",
       "    <tr>\n",
       "      <th>top</th>\n",
       "      <td>withoutapet</td>\n",
       "      <td>leisuretrip</td>\n",
       "      <td>couple</td>\n",
       "      <td>doubleroom</td>\n",
       "      <td>stayed1night</td>\n",
       "      <td>submittedfromamobiledevice</td>\n",
       "    </tr>\n",
       "    <tr>\n",
       "      <th>freq</th>\n",
       "      <td>1028666</td>\n",
       "      <td>835556</td>\n",
       "      <td>504588</td>\n",
       "      <td>70414</td>\n",
       "      <td>387290</td>\n",
       "      <td>615070</td>\n",
       "    </tr>\n",
       "  </tbody>\n",
       "</table>\n",
       "</div>"
      ],
      "text/plain": [
       "       Guest_with_pets    Trip_type Guest_type   Room_type Trip_duration  \\\n",
       "count          1031476      1001434    1031476     1031302       1031092   \n",
       "unique               2            2          6        2372            31   \n",
       "top        withoutapet  leisuretrip     couple  doubleroom  stayed1night   \n",
       "freq           1028666       835556     504588       70414        387290   \n",
       "\n",
       "       Submitted_from_a_mobile_device  \n",
       "count                          615070  \n",
       "unique                              1  \n",
       "top        submittedfromamobiledevice  \n",
       "freq                           615070  "
      ]
     },
     "execution_count": 20,
     "metadata": {},
     "output_type": "execute_result"
    }
   ],
   "source": [
    "df_Tag.describe(include=\"all\")"
   ]
  },
  {
   "cell_type": "markdown",
   "metadata": {
    "hidden": true
   },
   "source": [
    "From the above the results `Guest_with_pets`,`Trip_type`,`Guest_type`and `Trip_duration`  are the non numeric column which can be converted into numeric column."
   ]
  },
  {
   "cell_type": "markdown",
   "metadata": {
    "ExecuteTime": {
     "end_time": "2022-07-10T00:05:27.983209Z",
     "start_time": "2022-07-10T00:05:27.926695Z"
    },
    "heading_collapsed": true,
    "hidden": true
   },
   "source": [
    "##### Summary\n",
    "Based on the above analysis the following non-numeric column from the core data set can be converted into numeric columns\n",
    "1. Review_Date\n",
    "2. days_since_review\n",
    "3. Reviewer_Nationality\n",
    "\n",
    "and the among the new feature evolved from the `tags` column, following can be converted into numeric column\n",
    "1. Guest_with_pets\n",
    "2. Trip_type\n",
    "3. Guest_type\n",
    "5. Trip_duration\n",
    "\n"
   ]
  },
  {
   "cell_type": "markdown",
   "metadata": {},
   "source": [
    "### **Data Wrangling**<br>\n",
    "Build the proper dataset separation (Optional but recommended: The dataset is actually too big to run quickly on most laptops. Feel free to sample ~10% of the data as your dataset from this point on. Make sure all classes are included in your subsample.)\n",
    "   1. Convert the Reviewer_Score column into a binary column in the following way. Reviews that are below 9 should be encoded as 0 ('not good') and reviews with scores 9 and 10 as 1 ('good').\n",
    "   2. Convert the columns you identified in question 2 into numeric columns, and drop all non-numeric columns except Positive_Review and Negative_Review.\n",
    "   3. Split the data into train and test sets.\n",
    "   4. Use a count vectorizer to combine Positive_Review and Negative_Review with the numeric data (notice that this is done AFTER the train/test split). You should vectorize each column separately, ending up with two sparse matrixes, and then combine the three matrixes (numeric data, positive matrix, negative matrix). You may have to adjust the min_df parameter.\n",
    "   5. What does the min_df parameter do?\n",
    "\n"
   ]
  },
  {
   "cell_type": "markdown",
   "metadata": {
    "heading_collapsed": true
   },
   "source": [
    "#### Converting the Reviewer_Score column into a binary column"
   ]
  },
  {
   "cell_type": "code",
   "execution_count": 21,
   "metadata": {
    "ExecuteTime": {
     "end_time": "2022-07-11T12:17:07.511244Z",
     "start_time": "2022-07-11T12:17:07.217032Z"
    },
    "hidden": true
   },
   "outputs": [
    {
     "data": {
      "text/plain": [
       "1    586932\n",
       "0    444544\n",
       "Name: Reviewer_Score_modified, dtype: int64"
      ]
     },
     "execution_count": 21,
     "metadata": {},
     "output_type": "execute_result"
    }
   ],
   "source": [
    "df_hotel_review['Reviewer_Score_modified'] = df_hotel_review[\"Reviewer_Score_modified\"].map(lambda x: 0 if (x<9) else 1)\n",
    "df_hotel_review[\"Reviewer_Score_modified\"].value_counts()\n"
   ]
  },
  {
   "cell_type": "code",
   "execution_count": 22,
   "metadata": {
    "ExecuteTime": {
     "end_time": "2022-07-11T12:17:07.656697Z",
     "start_time": "2022-07-11T12:17:07.512964Z"
    },
    "hidden": true
   },
   "outputs": [
    {
     "data": {
      "image/png": "[encoded data removed]",
      "text/plain": [
       "<Figure size 1440x360 with 1 Axes>"
      ]
     },
     "metadata": {
      "needs_background": "light"
     },
     "output_type": "display_data"
    }
   ],
   "source": [
    "plt.figure(figsize=(20,5))\n",
    "df_hotel_review[\"Reviewer_Score_modified\"].value_counts().plot(kind=\"bar\")\n",
    "plt.xlabel(\"Review\")\n",
    "plt.ylabel(\"Reviewer Count\")\n",
    "plt.title(\"\")\n",
    "plt.show()"
   ]
  },
  {
   "cell_type": "markdown",
   "metadata": {
    "hidden": true
   },
   "source": [
    "After converting the `Reviewer_Score` into binary columns ,the overall dataset turned to be more balanced."
   ]
  },
  {
   "cell_type": "markdown",
   "metadata": {
    "heading_collapsed": true
   },
   "source": [
    "#### Converting the potential non-numeric columns  into numeric columns"
   ]
  },
  {
   "cell_type": "markdown",
   "metadata": {
    "heading_collapsed": true,
    "hidden": true
   },
   "source": [
    "##### Converting the Review_Date to Datetime formate"
   ]
  },
  {
   "cell_type": "code",
   "execution_count": 23,
   "metadata": {
    "ExecuteTime": {
     "end_time": "2022-07-11T12:17:08.185904Z",
     "start_time": "2022-07-11T12:17:07.658380Z"
    },
    "hidden": true
   },
   "outputs": [
    {
     "name": "stdout",
     "output_type": "stream",
     "text": [
      "<class 'pandas.core.frame.DataFrame'>\n",
      "Int64Index: 1031476 entries, 0 to 515737\n",
      "Data columns (total 18 columns):\n",
      " #   Column                                      Non-Null Count    Dtype         \n",
      "---  ------                                      --------------    -----         \n",
      " 0   Hotel_Address                               1031476 non-null  object        \n",
      " 1   Additional_Number_of_Scoring                1031476 non-null  int64         \n",
      " 2   Review_Date                                 1031476 non-null  datetime64[ns]\n",
      " 3   Average_Score                               1031476 non-null  float64       \n",
      " 4   Hotel_Name                                  1031476 non-null  object        \n",
      " 5   Reviewer_Nationality                        1031476 non-null  object        \n",
      " 6   Negative_Review                             1031476 non-null  object        \n",
      " 7   Review_Total_Negative_Word_Counts           1031476 non-null  int64         \n",
      " 8   Total_Number_of_Reviews                     1031476 non-null  int64         \n",
      " 9   Positive_Review                             1031476 non-null  object        \n",
      " 10  Review_Total_Positive_Word_Counts           1031476 non-null  int64         \n",
      " 11  Total_Number_of_Reviews_Reviewer_Has_Given  1031476 non-null  int64         \n",
      " 12  Reviewer_Score                              1031476 non-null  float64       \n",
      " 13  Tags                                        1031476 non-null  object        \n",
      " 14  days_since_review                           1031476 non-null  object        \n",
      " 15  lat                                         1024940 non-null  float64       \n",
      " 16  lng                                         1024940 non-null  float64       \n",
      " 17  Reviewer_Score_modified                     1031476 non-null  int64         \n",
      "dtypes: datetime64[ns](1), float64(4), int64(6), object(7)\n",
      "memory usage: 149.5+ MB\n"
     ]
    }
   ],
   "source": [
    "df_hotel_review[\"Review_Date\"] = pd.to_datetime(df_hotel_review['Review_Date'])\n",
    "df_hotel_review.info()"
   ]
  },
  {
   "cell_type": "markdown",
   "metadata": {
    "heading_collapsed": true,
    "hidden": true
   },
   "source": [
    "##### Converting the days_since_review to Numeric Column "
   ]
  },
  {
   "cell_type": "code",
   "execution_count": 24,
   "metadata": {
    "ExecuteTime": {
     "end_time": "2022-07-11T12:17:12.264923Z",
     "start_time": "2022-07-11T12:17:08.192774Z"
    },
    "hidden": true
   },
   "outputs": [
    {
     "data": {
      "text/plain": [
       "0     0\n",
       "1     0\n",
       "2     3\n",
       "3     3\n",
       "4    10\n",
       "Name: days_since_review, dtype: int64"
      ]
     },
     "execution_count": 24,
     "metadata": {},
     "output_type": "execute_result"
    }
   ],
   "source": [
    "df_hotel_review[\"days_since_review\"] = df_hotel_review[\"days_since_review\"].map(lambda x : int(re.findall(r'\\d+',x)[0]))\n",
    "df_hotel_review[\"days_since_review\"].head()"
   ]
  },
  {
   "cell_type": "markdown",
   "metadata": {
    "heading_collapsed": true,
    "hidden": true
   },
   "source": [
    "##### Converting the Reviewer_Nationality column into a binary column as concluded from the above analysis"
   ]
  },
  {
   "cell_type": "code",
   "execution_count": 25,
   "metadata": {
    "ExecuteTime": {
     "end_time": "2022-07-11T12:17:12.764181Z",
     "start_time": "2022-07-11T12:17:12.270689Z"
    },
    "hidden": true
   },
   "outputs": [
    {
     "data": {
      "text/plain": [
       "0    540984\n",
       "1    490492\n",
       "Name: Reviewer_Nationality, dtype: int64"
      ]
     },
     "execution_count": 25,
     "metadata": {},
     "output_type": "execute_result"
    }
   ],
   "source": [
    "df_hotel_review[\"Reviewer_Nationality\"]=df_hotel_review[\"Reviewer_Nationality\"].map(lambda x : 1 if (x.replace(\" \", \"\")==\"UnitedKingdom\") else 0)\n",
    "df_hotel_review[\"Reviewer_Nationality\"].value_counts()"
   ]
  },
  {
   "cell_type": "markdown",
   "metadata": {
    "heading_collapsed": true,
    "hidden": true
   },
   "source": [
    "##### Converting the  feature variable from the `Tag` columns into numeric data"
   ]
  },
  {
   "cell_type": "markdown",
   "metadata": {
    "hidden": true
   },
   "source": [
    "1. `Guest_with_pets` "
   ]
  },
  {
   "cell_type": "code",
   "execution_count": 26,
   "metadata": {
    "ExecuteTime": {
     "end_time": "2022-07-11T12:17:12.934033Z",
     "start_time": "2022-07-11T12:17:12.766256Z"
    },
    "hidden": true
   },
   "outputs": [
    {
     "data": {
      "image/png": "[encoded data removed]",
      "text/plain": [
       "<Figure size 1440x360 with 1 Axes>"
      ]
     },
     "metadata": {
      "needs_background": "light"
     },
     "output_type": "display_data"
    }
   ],
   "source": [
    "plt.figure(figsize=(20,5))\n",
    "df_Tag[\"Guest_with_pets\"].value_counts(normalize=True).plot(kind=\"barh\")\n",
    "plt.xlabel(\"%\")\n",
    "plt.title(\"Distribution of Guest_with_pets\")\n",
    "plt.xlim(0,1)\n",
    "plt.show()"
   ]
  },
  {
   "cell_type": "code",
   "execution_count": 27,
   "metadata": {
    "ExecuteTime": {
     "end_time": "2022-07-11T12:17:13.362662Z",
     "start_time": "2022-07-11T12:17:12.935888Z"
    },
    "hidden": true
   },
   "outputs": [
    {
     "data": {
      "text/plain": [
       "0    0.997276\n",
       "1    0.002724\n",
       "Name: Guest_with_pets, dtype: float64"
      ]
     },
     "execution_count": 27,
     "metadata": {},
     "output_type": "execute_result"
    }
   ],
   "source": [
    "df_Tag[\"Guest_with_pets\"] = df_Tag['Guest_with_pets'].map(lambda x :0 if (x ==\"withoutapet\") else 1 )\n",
    "df_Tag[\"Guest_with_pets\"].value_counts(normalize=True)"
   ]
  },
  {
   "cell_type": "markdown",
   "metadata": {
    "hidden": true
   },
   "source": [
    "As only 1% of the guest arrives with the pets and the rest without the pets,the overall distribution is very much tilted in one side. Therefore this feature can be dropped from the dataset for future analysis."
   ]
  },
  {
   "cell_type": "markdown",
   "metadata": {
    "hidden": true
   },
   "source": [
    "2. `Trip_Type`"
   ]
  },
  {
   "cell_type": "code",
   "execution_count": 28,
   "metadata": {
    "ExecuteTime": {
     "end_time": "2022-07-11T12:17:13.600852Z",
     "start_time": "2022-07-11T12:17:13.364818Z"
    },
    "hidden": true
   },
   "outputs": [
    {
     "data": {
      "image/png": "[encoded data removed]",
      "text/plain": [
       "<Figure size 1440x360 with 1 Axes>"
      ]
     },
     "metadata": {
      "needs_background": "light"
     },
     "output_type": "display_data"
    }
   ],
   "source": [
    "plt.figure(figsize=(20,5))\n",
    "df_Tag[\"Trip_type\"].value_counts(normalize=True).plot(kind=\"barh\")\n",
    "plt.xlabel(\"%\")\n",
    "plt.title(\"Distribution of Trip Type\")\n",
    "plt.xlim(0,1)\n",
    "plt.show()"
   ]
  },
  {
   "cell_type": "code",
   "execution_count": 29,
   "metadata": {
    "ExecuteTime": {
     "end_time": "2022-07-11T12:17:14.076879Z",
     "start_time": "2022-07-11T12:17:13.602792Z"
    },
    "hidden": true
   },
   "outputs": [
    {
     "data": {
      "text/plain": [
       "1    835556\n",
       "0    195920\n",
       "Name: Trip_type, dtype: int64"
      ]
     },
     "execution_count": 29,
     "metadata": {},
     "output_type": "execute_result"
    }
   ],
   "source": [
    "df_Tag[\"Trip_type\"] = df_Tag['Trip_type'].map(lambda x :1 if (x ==\"leisuretrip\") else 0 )\n",
    "df_Tag[\"Trip_type\"].value_counts()"
   ]
  },
  {
   "cell_type": "markdown",
   "metadata": {
    "hidden": true
   },
   "source": [
    "3.`Guest_Type`"
   ]
  },
  {
   "cell_type": "code",
   "execution_count": 30,
   "metadata": {
    "ExecuteTime": {
     "end_time": "2022-07-11T12:17:14.377023Z",
     "start_time": "2022-07-11T12:17:14.078938Z"
    },
    "hidden": true
   },
   "outputs": [
    {
     "data": {
      "image/png": "[encoded data removed]",
      "text/plain": [
       "<Figure size 1440x360 with 1 Axes>"
      ]
     },
     "metadata": {
      "needs_background": "light"
     },
     "output_type": "display_data"
    }
   ],
   "source": [
    "plt.figure(figsize=(20,5))\n",
    "df_Tag[\"Guest_type\"].value_counts(normalize=True).plot(kind=\"barh\")\n",
    "plt.xlabel(\"%\")\n",
    "plt.title(\"Distribution of Guest Type\")\n",
    "plt.xlim(0,1)\n",
    "plt.show()"
   ]
  },
  {
   "cell_type": "code",
   "execution_count": 31,
   "metadata": {
    "ExecuteTime": {
     "end_time": "2022-07-11T12:17:15.416940Z",
     "start_time": "2022-07-11T12:17:14.378820Z"
    },
    "hidden": true
   },
   "outputs": [
    {
     "data": {
      "text/plain": [
       "0    0.489190\n",
       "2    0.300344\n",
       "1    0.210465\n",
       "Name: Guest_type, dtype: float64"
      ]
     },
     "execution_count": 31,
     "metadata": {},
     "output_type": "execute_result"
    }
   ],
   "source": [
    "categories=[\"couple\",\"solotraveler\",\"group\",\"familywithyoungchildren\",\"familywitholderchildren\",\"travelerswithfriends\"]\n",
    "code=[0,1,2,2,2,2]\n",
    "df_Tag[\"Guest_type\"]=df_Tag[\"Guest_type\"].replace(categories,code)\n",
    "df_Tag[\"Guest_type\"].value_counts(normalize=True)"
   ]
  },
  {
   "cell_type": "markdown",
   "metadata": {
    "hidden": true
   },
   "source": [
    "Based on the above distribution of the `guest type`, the feature is divided into three categories\n",
    "`0` : Couple\n",
    "`1` : Solo traveler\n",
    "`2` : All of the rest , which includes group , family etc."
   ]
  },
  {
   "cell_type": "markdown",
   "metadata": {
    "hidden": true
   },
   "source": [
    "4.`Trip_duration`"
   ]
  },
  {
   "cell_type": "code",
   "execution_count": 32,
   "metadata": {
    "ExecuteTime": {
     "end_time": "2022-07-11T12:17:15.428031Z",
     "start_time": "2022-07-11T12:17:15.421866Z"
    },
    "hidden": true
   },
   "outputs": [
    {
     "data": {
      "text/plain": [
       "0    stayed6nights\n",
       "1    stayed4nights\n",
       "2    stayed3nights\n",
       "3    stayed3nights\n",
       "4    stayed2nights\n",
       "Name: Trip_duration, dtype: object"
      ]
     },
     "execution_count": 32,
     "metadata": {},
     "output_type": "execute_result"
    }
   ],
   "source": [
    "df_Tag[\"Trip_duration\"].head()"
   ]
  },
  {
   "cell_type": "code",
   "execution_count": 33,
   "metadata": {
    "ExecuteTime": {
     "end_time": "2022-07-11T12:17:19.614988Z",
     "start_time": "2022-07-11T12:17:15.430385Z"
    },
    "hidden": true
   },
   "outputs": [
    {
     "data": {
      "text/plain": [
       "0    6\n",
       "1    4\n",
       "2    3\n",
       "3    3\n",
       "4    2\n",
       "Name: Trip_duration, dtype: int64"
      ]
     },
     "execution_count": 33,
     "metadata": {},
     "output_type": "execute_result"
    }
   ],
   "source": [
    "def extract_digit(text):\n",
    "    if text ==None:\n",
    "        return 0\n",
    "    digit = re.findall(r'\\d',text)\n",
    "    digit = int((\"\".join(digit)))\n",
    "    return digit\n",
    "\n",
    "df_Tag[\"Trip_duration\"] = df_Tag[\"Trip_duration\"].apply(lambda x :extract_digit(x))\n",
    "df_Tag['Trip_duration'].head()"
   ]
  },
  {
   "cell_type": "markdown",
   "metadata": {},
   "source": [
    "#### Creating  a New data Frame with all  Numeric columns along with \"Positive and Negative review\" non-numeric column"
   ]
  },
  {
   "cell_type": "markdown",
   "metadata": {},
   "source": [
    "##### Merging the numeric columns  from hotel review core dataset and the new numeric feature  extracted from `Tags` column"
   ]
  },
  {
   "cell_type": "code",
   "execution_count": 34,
   "metadata": {
    "ExecuteTime": {
     "end_time": "2022-07-11T12:17:21.242349Z",
     "start_time": "2022-07-11T12:17:19.616990Z"
    }
   },
   "outputs": [
    {
     "data": {
      "text/html": [
       "<div>\n",
       "<style scoped>\n",
       "    .dataframe tbody tr th:only-of-type {\n",
       "        vertical-align: middle;\n",
       "    }\n",
       "\n",
       "    .dataframe tbody tr th {\n",
       "        vertical-align: top;\n",
       "    }\n",
       "\n",
       "    .dataframe thead th {\n",
       "        text-align: right;\n",
       "    }\n",
       "</style>\n",
       "<table border=\"1\" class=\"dataframe\">\n",
       "  <thead>\n",
       "    <tr style=\"text-align: right;\">\n",
       "      <th></th>\n",
       "      <th>count</th>\n",
       "      <th>mean</th>\n",
       "      <th>std</th>\n",
       "      <th>min</th>\n",
       "      <th>25%</th>\n",
       "      <th>50%</th>\n",
       "      <th>75%</th>\n",
       "      <th>max</th>\n",
       "    </tr>\n",
       "  </thead>\n",
       "  <tbody>\n",
       "    <tr>\n",
       "      <th>Additional_Number_of_Scoring</th>\n",
       "      <td>1031476.0</td>\n",
       "      <td>498.081836</td>\n",
       "      <td>500.538224</td>\n",
       "      <td>1.000000</td>\n",
       "      <td>169.000000</td>\n",
       "      <td>341.000000</td>\n",
       "      <td>660.000000</td>\n",
       "      <td>2682.000000</td>\n",
       "    </tr>\n",
       "    <tr>\n",
       "      <th>Average_Score</th>\n",
       "      <td>1031476.0</td>\n",
       "      <td>8.397487</td>\n",
       "      <td>0.548048</td>\n",
       "      <td>5.200000</td>\n",
       "      <td>8.100000</td>\n",
       "      <td>8.400000</td>\n",
       "      <td>8.800000</td>\n",
       "      <td>9.800000</td>\n",
       "    </tr>\n",
       "    <tr>\n",
       "      <th>Reviewer_Nationality</th>\n",
       "      <td>1031476.0</td>\n",
       "      <td>0.475524</td>\n",
       "      <td>0.499401</td>\n",
       "      <td>0.000000</td>\n",
       "      <td>0.000000</td>\n",
       "      <td>0.000000</td>\n",
       "      <td>1.000000</td>\n",
       "      <td>1.000000</td>\n",
       "    </tr>\n",
       "    <tr>\n",
       "      <th>Review_Total_Negative_Word_Counts</th>\n",
       "      <td>1031476.0</td>\n",
       "      <td>18.539450</td>\n",
       "      <td>29.690816</td>\n",
       "      <td>0.000000</td>\n",
       "      <td>2.000000</td>\n",
       "      <td>9.000000</td>\n",
       "      <td>23.000000</td>\n",
       "      <td>408.000000</td>\n",
       "    </tr>\n",
       "    <tr>\n",
       "      <th>Total_Number_of_Reviews</th>\n",
       "      <td>1031476.0</td>\n",
       "      <td>2743.743944</td>\n",
       "      <td>2317.463745</td>\n",
       "      <td>43.000000</td>\n",
       "      <td>1161.000000</td>\n",
       "      <td>2134.000000</td>\n",
       "      <td>3613.000000</td>\n",
       "      <td>16670.000000</td>\n",
       "    </tr>\n",
       "    <tr>\n",
       "      <th>Review_Total_Positive_Word_Counts</th>\n",
       "      <td>1031476.0</td>\n",
       "      <td>17.776458</td>\n",
       "      <td>21.804175</td>\n",
       "      <td>0.000000</td>\n",
       "      <td>5.000000</td>\n",
       "      <td>11.000000</td>\n",
       "      <td>22.000000</td>\n",
       "      <td>395.000000</td>\n",
       "    </tr>\n",
       "    <tr>\n",
       "      <th>Total_Number_of_Reviews_Reviewer_Has_Given</th>\n",
       "      <td>1031476.0</td>\n",
       "      <td>7.166001</td>\n",
       "      <td>11.040222</td>\n",
       "      <td>1.000000</td>\n",
       "      <td>1.000000</td>\n",
       "      <td>3.000000</td>\n",
       "      <td>8.000000</td>\n",
       "      <td>355.000000</td>\n",
       "    </tr>\n",
       "    <tr>\n",
       "      <th>days_since_review</th>\n",
       "      <td>1031476.0</td>\n",
       "      <td>354.441932</td>\n",
       "      <td>208.928023</td>\n",
       "      <td>0.000000</td>\n",
       "      <td>175.000000</td>\n",
       "      <td>353.000000</td>\n",
       "      <td>527.000000</td>\n",
       "      <td>730.000000</td>\n",
       "    </tr>\n",
       "    <tr>\n",
       "      <th>lat</th>\n",
       "      <td>1024940.0</td>\n",
       "      <td>49.442439</td>\n",
       "      <td>3.466324</td>\n",
       "      <td>41.328376</td>\n",
       "      <td>48.214662</td>\n",
       "      <td>51.499981</td>\n",
       "      <td>51.516288</td>\n",
       "      <td>52.400181</td>\n",
       "    </tr>\n",
       "    <tr>\n",
       "      <th>lng</th>\n",
       "      <td>1024940.0</td>\n",
       "      <td>2.823803</td>\n",
       "      <td>4.579423</td>\n",
       "      <td>-0.369758</td>\n",
       "      <td>-0.143372</td>\n",
       "      <td>0.010607</td>\n",
       "      <td>4.834443</td>\n",
       "      <td>16.429233</td>\n",
       "    </tr>\n",
       "    <tr>\n",
       "      <th>Reviewer_Score_modified</th>\n",
       "      <td>1031476.0</td>\n",
       "      <td>0.569021</td>\n",
       "      <td>0.495213</td>\n",
       "      <td>0.000000</td>\n",
       "      <td>0.000000</td>\n",
       "      <td>1.000000</td>\n",
       "      <td>1.000000</td>\n",
       "      <td>1.000000</td>\n",
       "    </tr>\n",
       "    <tr>\n",
       "      <th>Trip_type</th>\n",
       "      <td>1031476.0</td>\n",
       "      <td>0.810059</td>\n",
       "      <td>0.392255</td>\n",
       "      <td>0.000000</td>\n",
       "      <td>1.000000</td>\n",
       "      <td>1.000000</td>\n",
       "      <td>1.000000</td>\n",
       "      <td>1.000000</td>\n",
       "    </tr>\n",
       "    <tr>\n",
       "      <th>Guest_type</th>\n",
       "      <td>1031476.0</td>\n",
       "      <td>0.811154</td>\n",
       "      <td>0.868258</td>\n",
       "      <td>0.000000</td>\n",
       "      <td>0.000000</td>\n",
       "      <td>1.000000</td>\n",
       "      <td>2.000000</td>\n",
       "      <td>2.000000</td>\n",
       "    </tr>\n",
       "    <tr>\n",
       "      <th>Trip_duration</th>\n",
       "      <td>1031476.0</td>\n",
       "      <td>2.361377</td>\n",
       "      <td>1.647422</td>\n",
       "      <td>0.000000</td>\n",
       "      <td>1.000000</td>\n",
       "      <td>2.000000</td>\n",
       "      <td>3.000000</td>\n",
       "      <td>31.000000</td>\n",
       "    </tr>\n",
       "  </tbody>\n",
       "</table>\n",
       "</div>"
      ],
      "text/plain": [
       "                                                count         mean  \\\n",
       "Additional_Number_of_Scoring                1031476.0   498.081836   \n",
       "Average_Score                               1031476.0     8.397487   \n",
       "Reviewer_Nationality                        1031476.0     0.475524   \n",
       "Review_Total_Negative_Word_Counts           1031476.0    18.539450   \n",
       "Total_Number_of_Reviews                     1031476.0  2743.743944   \n",
       "Review_Total_Positive_Word_Counts           1031476.0    17.776458   \n",
       "Total_Number_of_Reviews_Reviewer_Has_Given  1031476.0     7.166001   \n",
       "days_since_review                           1031476.0   354.441932   \n",
       "lat                                         1024940.0    49.442439   \n",
       "lng                                         1024940.0     2.823803   \n",
       "Reviewer_Score_modified                     1031476.0     0.569021   \n",
       "Trip_type                                   1031476.0     0.810059   \n",
       "Guest_type                                  1031476.0     0.811154   \n",
       "Trip_duration                               1031476.0     2.361377   \n",
       "\n",
       "                                                    std        min  \\\n",
       "Additional_Number_of_Scoring                 500.538224   1.000000   \n",
       "Average_Score                                  0.548048   5.200000   \n",
       "Reviewer_Nationality                           0.499401   0.000000   \n",
       "Review_Total_Negative_Word_Counts             29.690816   0.000000   \n",
       "Total_Number_of_Reviews                     2317.463745  43.000000   \n",
       "Review_Total_Positive_Word_Counts             21.804175   0.000000   \n",
       "Total_Number_of_Reviews_Reviewer_Has_Given    11.040222   1.000000   \n",
       "days_since_review                            208.928023   0.000000   \n",
       "lat                                            3.466324  41.328376   \n",
       "lng                                            4.579423  -0.369758   \n",
       "Reviewer_Score_modified                        0.495213   0.000000   \n",
       "Trip_type                                      0.392255   0.000000   \n",
       "Guest_type                                     0.868258   0.000000   \n",
       "Trip_duration                                  1.647422   0.000000   \n",
       "\n",
       "                                                    25%          50%  \\\n",
       "Additional_Number_of_Scoring                 169.000000   341.000000   \n",
       "Average_Score                                  8.100000     8.400000   \n",
       "Reviewer_Nationality                           0.000000     0.000000   \n",
       "Review_Total_Negative_Word_Counts              2.000000     9.000000   \n",
       "Total_Number_of_Reviews                     1161.000000  2134.000000   \n",
       "Review_Total_Positive_Word_Counts              5.000000    11.000000   \n",
       "Total_Number_of_Reviews_Reviewer_Has_Given     1.000000     3.000000   \n",
       "days_since_review                            175.000000   353.000000   \n",
       "lat                                           48.214662    51.499981   \n",
       "lng                                           -0.143372     0.010607   \n",
       "Reviewer_Score_modified                        0.000000     1.000000   \n",
       "Trip_type                                      1.000000     1.000000   \n",
       "Guest_type                                     0.000000     1.000000   \n",
       "Trip_duration                                  1.000000     2.000000   \n",
       "\n",
       "                                                    75%           max  \n",
       "Additional_Number_of_Scoring                 660.000000   2682.000000  \n",
       "Average_Score                                  8.800000      9.800000  \n",
       "Reviewer_Nationality                           1.000000      1.000000  \n",
       "Review_Total_Negative_Word_Counts             23.000000    408.000000  \n",
       "Total_Number_of_Reviews                     3613.000000  16670.000000  \n",
       "Review_Total_Positive_Word_Counts             22.000000    395.000000  \n",
       "Total_Number_of_Reviews_Reviewer_Has_Given     8.000000    355.000000  \n",
       "days_since_review                            527.000000    730.000000  \n",
       "lat                                           51.516288     52.400181  \n",
       "lng                                            4.834443     16.429233  \n",
       "Reviewer_Score_modified                        1.000000      1.000000  \n",
       "Trip_type                                      1.000000      1.000000  \n",
       "Guest_type                                     2.000000      2.000000  \n",
       "Trip_duration                                  3.000000     31.000000  "
      ]
     },
     "execution_count": 34,
     "metadata": {},
     "output_type": "execute_result"
    }
   ],
   "source": [
    "df1= df_hotel_review.drop([\"Hotel_Address\",\"Hotel_Name\",\"Reviewer_Score\",\"Tags\"],axis=1)\n",
    "df2 =df_Tag[[\"Trip_type\",\"Guest_type\",\"Trip_duration\"]]\n",
    "df_hotel_review_processed = pd.merge(df1, df2,left_index=True, right_index=True)\n",
    "df_hotel_review_processed.describe().T"
   ]
  },
  {
   "cell_type": "markdown",
   "metadata": {},
   "source": [
    "##### Creating a sample dataset  with 10% of the over all data set"
   ]
  },
  {
   "cell_type": "code",
   "execution_count": 35,
   "metadata": {
    "ExecuteTime": {
     "end_time": "2022-07-11T12:17:21.403334Z",
     "start_time": "2022-07-11T12:17:21.243869Z"
    }
   },
   "outputs": [
    {
     "data": {
      "text/html": [
       "<div>\n",
       "<style scoped>\n",
       "    .dataframe tbody tr th:only-of-type {\n",
       "        vertical-align: middle;\n",
       "    }\n",
       "\n",
       "    .dataframe tbody tr th {\n",
       "        vertical-align: top;\n",
       "    }\n",
       "\n",
       "    .dataframe thead th {\n",
       "        text-align: right;\n",
       "    }\n",
       "</style>\n",
       "<table border=\"1\" class=\"dataframe\">\n",
       "  <thead>\n",
       "    <tr style=\"text-align: right;\">\n",
       "      <th></th>\n",
       "      <th>count</th>\n",
       "      <th>mean</th>\n",
       "      <th>std</th>\n",
       "      <th>min</th>\n",
       "      <th>25%</th>\n",
       "      <th>50%</th>\n",
       "      <th>75%</th>\n",
       "      <th>max</th>\n",
       "    </tr>\n",
       "  </thead>\n",
       "  <tbody>\n",
       "    <tr>\n",
       "      <th>Additional_Number_of_Scoring</th>\n",
       "      <td>103148.0</td>\n",
       "      <td>498.525546</td>\n",
       "      <td>501.649871</td>\n",
       "      <td>1.000000</td>\n",
       "      <td>168.000000</td>\n",
       "      <td>341.000000</td>\n",
       "      <td>660.000000</td>\n",
       "      <td>2682.000000</td>\n",
       "    </tr>\n",
       "    <tr>\n",
       "      <th>Average_Score</th>\n",
       "      <td>103148.0</td>\n",
       "      <td>8.395885</td>\n",
       "      <td>0.546675</td>\n",
       "      <td>5.200000</td>\n",
       "      <td>8.100000</td>\n",
       "      <td>8.400000</td>\n",
       "      <td>8.800000</td>\n",
       "      <td>9.800000</td>\n",
       "    </tr>\n",
       "    <tr>\n",
       "      <th>Reviewer_Nationality</th>\n",
       "      <td>103148.0</td>\n",
       "      <td>0.474086</td>\n",
       "      <td>0.499330</td>\n",
       "      <td>0.000000</td>\n",
       "      <td>0.000000</td>\n",
       "      <td>0.000000</td>\n",
       "      <td>1.000000</td>\n",
       "      <td>1.000000</td>\n",
       "    </tr>\n",
       "    <tr>\n",
       "      <th>Review_Total_Negative_Word_Counts</th>\n",
       "      <td>103148.0</td>\n",
       "      <td>18.365291</td>\n",
       "      <td>29.375830</td>\n",
       "      <td>0.000000</td>\n",
       "      <td>2.000000</td>\n",
       "      <td>9.000000</td>\n",
       "      <td>23.000000</td>\n",
       "      <td>403.000000</td>\n",
       "    </tr>\n",
       "    <tr>\n",
       "      <th>Total_Number_of_Reviews</th>\n",
       "      <td>103148.0</td>\n",
       "      <td>2751.177764</td>\n",
       "      <td>2330.118853</td>\n",
       "      <td>43.000000</td>\n",
       "      <td>1164.000000</td>\n",
       "      <td>2134.000000</td>\n",
       "      <td>3633.000000</td>\n",
       "      <td>16670.000000</td>\n",
       "    </tr>\n",
       "    <tr>\n",
       "      <th>Review_Total_Positive_Word_Counts</th>\n",
       "      <td>103148.0</td>\n",
       "      <td>17.786055</td>\n",
       "      <td>21.730807</td>\n",
       "      <td>0.000000</td>\n",
       "      <td>5.000000</td>\n",
       "      <td>11.000000</td>\n",
       "      <td>22.000000</td>\n",
       "      <td>378.000000</td>\n",
       "    </tr>\n",
       "    <tr>\n",
       "      <th>Total_Number_of_Reviews_Reviewer_Has_Given</th>\n",
       "      <td>103148.0</td>\n",
       "      <td>7.177153</td>\n",
       "      <td>10.959514</td>\n",
       "      <td>1.000000</td>\n",
       "      <td>1.000000</td>\n",
       "      <td>3.000000</td>\n",
       "      <td>8.000000</td>\n",
       "      <td>270.000000</td>\n",
       "    </tr>\n",
       "    <tr>\n",
       "      <th>days_since_review</th>\n",
       "      <td>103148.0</td>\n",
       "      <td>354.823215</td>\n",
       "      <td>208.459780</td>\n",
       "      <td>0.000000</td>\n",
       "      <td>176.000000</td>\n",
       "      <td>353.000000</td>\n",
       "      <td>527.000000</td>\n",
       "      <td>730.000000</td>\n",
       "    </tr>\n",
       "    <tr>\n",
       "      <th>lat</th>\n",
       "      <td>102492.0</td>\n",
       "      <td>49.444951</td>\n",
       "      <td>3.458033</td>\n",
       "      <td>41.328376</td>\n",
       "      <td>48.214662</td>\n",
       "      <td>51.499981</td>\n",
       "      <td>51.516288</td>\n",
       "      <td>52.400181</td>\n",
       "    </tr>\n",
       "    <tr>\n",
       "      <th>lng</th>\n",
       "      <td>102492.0</td>\n",
       "      <td>2.836590</td>\n",
       "      <td>4.596079</td>\n",
       "      <td>-0.369758</td>\n",
       "      <td>-0.143372</td>\n",
       "      <td>0.019886</td>\n",
       "      <td>4.834443</td>\n",
       "      <td>16.429233</td>\n",
       "    </tr>\n",
       "    <tr>\n",
       "      <th>Reviewer_Score_modified</th>\n",
       "      <td>103148.0</td>\n",
       "      <td>0.570123</td>\n",
       "      <td>0.495061</td>\n",
       "      <td>0.000000</td>\n",
       "      <td>0.000000</td>\n",
       "      <td>1.000000</td>\n",
       "      <td>1.000000</td>\n",
       "      <td>1.000000</td>\n",
       "    </tr>\n",
       "    <tr>\n",
       "      <th>Trip_type</th>\n",
       "      <td>103148.0</td>\n",
       "      <td>0.809730</td>\n",
       "      <td>0.392516</td>\n",
       "      <td>0.000000</td>\n",
       "      <td>1.000000</td>\n",
       "      <td>1.000000</td>\n",
       "      <td>1.000000</td>\n",
       "      <td>1.000000</td>\n",
       "    </tr>\n",
       "    <tr>\n",
       "      <th>Guest_type</th>\n",
       "      <td>103148.0</td>\n",
       "      <td>0.811649</td>\n",
       "      <td>0.867504</td>\n",
       "      <td>0.000000</td>\n",
       "      <td>0.000000</td>\n",
       "      <td>1.000000</td>\n",
       "      <td>2.000000</td>\n",
       "      <td>2.000000</td>\n",
       "    </tr>\n",
       "    <tr>\n",
       "      <th>Trip_duration</th>\n",
       "      <td>103148.0</td>\n",
       "      <td>2.357486</td>\n",
       "      <td>1.638421</td>\n",
       "      <td>0.000000</td>\n",
       "      <td>1.000000</td>\n",
       "      <td>2.000000</td>\n",
       "      <td>3.000000</td>\n",
       "      <td>30.000000</td>\n",
       "    </tr>\n",
       "  </tbody>\n",
       "</table>\n",
       "</div>"
      ],
      "text/plain": [
       "                                               count         mean  \\\n",
       "Additional_Number_of_Scoring                103148.0   498.525546   \n",
       "Average_Score                               103148.0     8.395885   \n",
       "Reviewer_Nationality                        103148.0     0.474086   \n",
       "Review_Total_Negative_Word_Counts           103148.0    18.365291   \n",
       "Total_Number_of_Reviews                     103148.0  2751.177764   \n",
       "Review_Total_Positive_Word_Counts           103148.0    17.786055   \n",
       "Total_Number_of_Reviews_Reviewer_Has_Given  103148.0     7.177153   \n",
       "days_since_review                           103148.0   354.823215   \n",
       "lat                                         102492.0    49.444951   \n",
       "lng                                         102492.0     2.836590   \n",
       "Reviewer_Score_modified                     103148.0     0.570123   \n",
       "Trip_type                                   103148.0     0.809730   \n",
       "Guest_type                                  103148.0     0.811649   \n",
       "Trip_duration                               103148.0     2.357486   \n",
       "\n",
       "                                                    std        min  \\\n",
       "Additional_Number_of_Scoring                 501.649871   1.000000   \n",
       "Average_Score                                  0.546675   5.200000   \n",
       "Reviewer_Nationality                           0.499330   0.000000   \n",
       "Review_Total_Negative_Word_Counts             29.375830   0.000000   \n",
       "Total_Number_of_Reviews                     2330.118853  43.000000   \n",
       "Review_Total_Positive_Word_Counts             21.730807   0.000000   \n",
       "Total_Number_of_Reviews_Reviewer_Has_Given    10.959514   1.000000   \n",
       "days_since_review                            208.459780   0.000000   \n",
       "lat                                            3.458033  41.328376   \n",
       "lng                                            4.596079  -0.369758   \n",
       "Reviewer_Score_modified                        0.495061   0.000000   \n",
       "Trip_type                                      0.392516   0.000000   \n",
       "Guest_type                                     0.867504   0.000000   \n",
       "Trip_duration                                  1.638421   0.000000   \n",
       "\n",
       "                                                    25%          50%  \\\n",
       "Additional_Number_of_Scoring                 168.000000   341.000000   \n",
       "Average_Score                                  8.100000     8.400000   \n",
       "Reviewer_Nationality                           0.000000     0.000000   \n",
       "Review_Total_Negative_Word_Counts              2.000000     9.000000   \n",
       "Total_Number_of_Reviews                     1164.000000  2134.000000   \n",
       "Review_Total_Positive_Word_Counts              5.000000    11.000000   \n",
       "Total_Number_of_Reviews_Reviewer_Has_Given     1.000000     3.000000   \n",
       "days_since_review                            176.000000   353.000000   \n",
       "lat                                           48.214662    51.499981   \n",
       "lng                                           -0.143372     0.019886   \n",
       "Reviewer_Score_modified                        0.000000     1.000000   \n",
       "Trip_type                                      1.000000     1.000000   \n",
       "Guest_type                                     0.000000     1.000000   \n",
       "Trip_duration                                  1.000000     2.000000   \n",
       "\n",
       "                                                    75%           max  \n",
       "Additional_Number_of_Scoring                 660.000000   2682.000000  \n",
       "Average_Score                                  8.800000      9.800000  \n",
       "Reviewer_Nationality                           1.000000      1.000000  \n",
       "Review_Total_Negative_Word_Counts             23.000000    403.000000  \n",
       "Total_Number_of_Reviews                     3633.000000  16670.000000  \n",
       "Review_Total_Positive_Word_Counts             22.000000    378.000000  \n",
       "Total_Number_of_Reviews_Reviewer_Has_Given     8.000000    270.000000  \n",
       "days_since_review                            527.000000    730.000000  \n",
       "lat                                           51.516288     52.400181  \n",
       "lng                                            4.834443     16.429233  \n",
       "Reviewer_Score_modified                        1.000000      1.000000  \n",
       "Trip_type                                      1.000000      1.000000  \n",
       "Guest_type                                     2.000000      2.000000  \n",
       "Trip_duration                                  3.000000     30.000000  "
      ]
     },
     "execution_count": 35,
     "metadata": {},
     "output_type": "execute_result"
    }
   ],
   "source": [
    "df_hotel_review_sample= df_hotel_review_processed.sample(frac=0.1, replace=False, random_state=1)\n",
    "df_hotel_review_sample.describe().T"
   ]
  },
  {
   "cell_type": "markdown",
   "metadata": {},
   "source": [
    "##### Splitting the data into train and test sets."
   ]
  },
  {
   "cell_type": "code",
   "execution_count": 36,
   "metadata": {
    "ExecuteTime": {
     "end_time": "2022-07-11T12:17:21.419608Z",
     "start_time": "2022-07-11T12:17:21.405306Z"
    }
   },
   "outputs": [
    {
     "name": "stdout",
     "output_type": "stream",
     "text": [
      "(103148, 16)\n",
      "(103148,)\n"
     ]
    }
   ],
   "source": [
    "X = df_hotel_review_sample.drop([\"Reviewer_Score_modified\"],axis=1)\n",
    "Y = df_hotel_review_sample[\"Reviewer_Score_modified\"]\n",
    "print(X.shape)\n",
    "print(Y.shape)"
   ]
  },
  {
   "cell_type": "code",
   "execution_count": 37,
   "metadata": {
    "ExecuteTime": {
     "end_time": "2022-07-11T12:17:21.453230Z",
     "start_time": "2022-07-11T12:17:21.422122Z"
    }
   },
   "outputs": [],
   "source": [
    "X_train, X_test, y_train, y_test = train_test_split(X, Y, test_size=0.25, random_state=42)"
   ]
  },
  {
   "cell_type": "markdown",
   "metadata": {},
   "source": [
    "#### Handling Text Data  for `Positive_Review` and `Negative_Review` columns\n",
    "\n",
    "Use a count vectorizer to combine Positive_Review and Negative_Review with the numeric data (notice that this is done AFTER the train/test split). You should vectorize each column separately, ending up with two sparse matrixes, and then combine the three matrixes (numeric data, positive matrix, negative matrix). You may have to adjust the min_df parameter.\n",
    "What does the min_df parameter do?"
   ]
  },
  {
   "cell_type": "markdown",
   "metadata": {},
   "source": [
    "##### Text Data preprocessing functions"
   ]
  },
  {
   "cell_type": "markdown",
   "metadata": {},
   "source": [
    "1. Removing unwanted and Non meaningful characters , symbols and removing of stop words and Lemmatization"
   ]
  },
  {
   "cell_type": "code",
   "execution_count": 38,
   "metadata": {
    "ExecuteTime": {
     "end_time": "2022-07-11T12:17:21.459302Z",
     "start_time": "2022-07-11T12:17:21.455119Z"
    }
   },
   "outputs": [],
   "source": [
    "def text_preprocessing(text):   \n",
    "    \n",
    "    text = text.lower()    \n",
    "    # removing any punctuation\n",
    "    text = re.sub('[%s]'%re.escape(string.punctuation),\" \",text)\n",
    "    \n",
    "    # removing any digits\n",
    "    text = re.sub('\\w*\\d\\w*',\" \",text)\n",
    "    \n",
    "    # Removing stopword from the text and word lemmatization\n",
    "    words = nltk.word_tokenize(text)\n",
    "    words = [lemmatizer.lemmatize(word) for word in words if word not in stop_words]\n",
    "\n",
    "    return words   "
   ]
  },
  {
   "cell_type": "markdown",
   "metadata": {},
   "source": [
    "2. Creating the Document Term matrix function "
   ]
  },
  {
   "cell_type": "code",
   "execution_count": 39,
   "metadata": {
    "ExecuteTime": {
     "end_time": "2022-07-11T12:17:21.466828Z",
     "start_time": "2022-07-11T12:17:21.461050Z"
    }
   },
   "outputs": [],
   "source": [
    "def doc_term_matrix(train,test,min_df,max_df,max_features):\n",
    "    \n",
    "    # Word vectorizer\n",
    "    bagofwords = CountVectorizer(min_df=min_df,\n",
    "                                 max_df=max_df,\n",
    "                                 max_features=max_features,\n",
    "                                 tokenizer = lambda x: text_preprocessing(x), \n",
    "                                 stop_words='english')\n",
    "    X_train_transformed = bagofwords.fit_transform(train)\n",
    "    X_test_transformed = bagofwords.transform(test)\n",
    "    \n",
    "    # creating the sparse matrixes for train and test data\n",
    "    word_counts_train = pd.DataFrame({\n",
    "        \"counts\": X_train_transformed.toarray().sum(axis=0)},\n",
    "        index=bagofwords.get_feature_names()).sort_values(\"counts\", ascending=False)\n",
    "    \n",
    "    word_counts_test = pd.DataFrame({\n",
    "        \"counts\": X_test_transformed.toarray().sum(axis=0)},\n",
    "        index=bagofwords.get_feature_names()).sort_values(\"counts\", ascending=False)\n",
    "    \n",
    "    # Plot the word frequency chart for train data\n",
    "    word_counts_train.head(10).plot(kind=\"bar\", figsize=(20, 5), legend=False)\n",
    "    plt.title(\"Top 10 frequently occurring words in train Data\")\n",
    "    plt.ylabel(\"Count\")\n",
    "    plt.xticks(rotation=45)\n",
    "    plt.show()\n",
    "    \n",
    "    # Plot the word frequency chart for test data\n",
    "    word_counts_test.head(10).plot(kind=\"bar\", figsize=(20, 5), legend=False)\n",
    "    plt.title(\"Top 10 frequently occurring words in test Data\")\n",
    "    plt.ylabel(\"Count\")\n",
    "    plt.xticks(rotation=45)\n",
    "    plt.show()\n",
    "    \n",
    "    #  return  document term martix and feature labels    \n",
    "    dtm = [X_train_transformed,X_test_transformed,bagofwords.get_feature_names()]\n",
    "    return dtm\n",
    "    "
   ]
  },
  {
   "cell_type": "markdown",
   "metadata": {},
   "source": [
    "#####  Handling `Positive Review` column"
   ]
  },
  {
   "cell_type": "code",
   "execution_count": 40,
   "metadata": {
    "ExecuteTime": {
     "end_time": "2022-07-11T12:17:42.589604Z",
     "start_time": "2022-07-11T12:17:21.468498Z"
    }
   },
   "outputs": [
    {
     "name": "stderr",
     "output_type": "stream",
     "text": [
      "/Users/apple/opt/anaconda3/lib/python3.8/site-packages/sklearn/feature_extraction/text.py:383: UserWarning: Your stop_words may be inconsistent with your preprocessing. Tokenizing the stop words generated tokens ['le', 'u'] not in stop_words.\n",
      "  warnings.warn('Your stop_words may be inconsistent with '\n"
     ]
    },
    {
     "data": {
      "image/png": "[encoded data removed]",
      "text/plain": [
       "<Figure size 1440x360 with 1 Axes>"
      ]
     },
     "metadata": {
      "needs_background": "light"
     },
     "output_type": "display_data"
    },
    {
     "data": {
      "image/png": "[encoded data removed]",
      "text/plain": [
       "<Figure size 1440x360 with 1 Axes>"
      ]
     },
     "metadata": {
      "needs_background": "light"
     },
     "output_type": "display_data"
    },
    {
     "name": "stdout",
     "output_type": "stream",
     "text": [
      "The training set of postive review document term matrix has 77361 row and 1000 columns\n",
      "The testing set of postive review document term matrix has 25787 row and 1000 columns\n"
     ]
    }
   ],
   "source": [
    "train_data = X_train['Positive_Review']\n",
    "test_data = X_test[\"Positive_Review\"]\n",
    "\n",
    "# the threshold % of appear too infrequently\n",
    "min_df = 10\n",
    "\n",
    "# the threshold % of appear too frequently\n",
    "max_df = .9\n",
    "\n",
    "# the number of feature\n",
    "max_feature = 1000\n",
    "\n",
    "X_train_tr_pos_review ,X_test_tr_pos_review,pos_review_feature = doc_term_matrix(train_data,test_data,\n",
    "                                                              min_df,\n",
    "                                                              max_df,\n",
    "                                                              max_feature)\n",
    "print(f\"The training set of postive review document term matrix has {X_train_tr_pos_review.shape[0]} row and {X_train_tr_pos_review.shape[1]} columns\")\n",
    "print(f\"The testing set of postive review document term matrix has {X_test_tr_pos_review.shape[0]} row and {X_test_tr_pos_review.shape[1]} columns\")\n"
   ]
  },
  {
   "cell_type": "markdown",
   "metadata": {},
   "source": [
    "#####  Handling `Negative Review` column"
   ]
  },
  {
   "cell_type": "code",
   "execution_count": 41,
   "metadata": {
    "ExecuteTime": {
     "end_time": "2022-07-11T12:18:03.582219Z",
     "start_time": "2022-07-11T12:17:42.591475Z"
    }
   },
   "outputs": [
    {
     "data": {
      "image/png": "[encoded data removed]",
      "text/plain": [
       "<Figure size 1440x360 with 1 Axes>"
      ]
     },
     "metadata": {
      "needs_background": "light"
     },
     "output_type": "display_data"
    },
    {
     "data": {
      "image/png": "[encoded data removed]",
      "text/plain": [
       "<Figure size 1440x360 with 1 Axes>"
      ]
     },
     "metadata": {
      "needs_background": "light"
     },
     "output_type": "display_data"
    },
    {
     "name": "stdout",
     "output_type": "stream",
     "text": [
      "The training set of postive review document term matrix has 77361 row and 1000 columns\n",
      "The testing set of postive review document term matrix has 25787 row and 1000 columns\n"
     ]
    }
   ],
   "source": [
    "train_data = X_train['Negative_Review']\n",
    "test_data = X_test[\"Negative_Review\"]\n",
    "\n",
    "# the threshold % of appear too infrequently\n",
    "min_df = 10\n",
    "\n",
    "# the threshold % of appear too frequently\n",
    "max_df = .9\n",
    "\n",
    "# the number of feature\n",
    "max_feature = 1000\n",
    "\n",
    "X_train_tr_neg_review ,X_test_tr_neg_review,neg_review_feature = doc_term_matrix(train_data,test_data ,\n",
    "                                                              min_df,\n",
    "                                                              max_df,\n",
    "                                                              max_feature)\n",
    "print(f\"The training set of postive review document term matrix has {X_train_tr_neg_review.shape[0]} row and {X_train_tr_neg_review.shape[1]} columns\")\n",
    "print(f\"The testing set of postive review document term matrix has {X_test_tr_neg_review.shape[0]} row and {X_test_tr_neg_review.shape[1]} columns\")"
   ]
  },
  {
   "cell_type": "markdown",
   "metadata": {},
   "source": [
    "#### Creating the processed Data set ,which includes sparse matrix of Positive Review ,sparse matrix of Negative column  and numeric columns"
   ]
  },
  {
   "cell_type": "markdown",
   "metadata": {},
   "source": [
    "##### Training Data"
   ]
  },
  {
   "cell_type": "code",
   "execution_count": 42,
   "metadata": {
    "ExecuteTime": {
     "end_time": "2022-07-11T12:18:05.121682Z",
     "start_time": "2022-07-11T12:18:03.584043Z"
    }
   },
   "outputs": [
    {
     "name": "stdout",
     "output_type": "stream",
     "text": [
      "For the training set there are 11695 row and 2014 columns\n"
     ]
    }
   ],
   "source": [
    "# Converting the sparse matrix to dataframe for postive review\n",
    "X_train_postive_review_dtm = pd.DataFrame.sparse.from_spmatrix(X_train_tr_pos_review)\n",
    "X_train_postive_review_dtm.columns = pos_review_feature\n",
    "\n",
    "# Converting the sparse matrix to dataframe for negative review\n",
    "X_train_negative_review_dtm = pd.DataFrame.sparse.from_spmatrix(X_train_tr_neg_review)\n",
    "X_train_negative_review_dtm.columns = neg_review_feature\n",
    "\n",
    "\n",
    "# Droping the text column \n",
    "X_train_numeric = X_train.drop(columns=[\"Positive_Review\",\"Negative_Review\"],axis=1)\n",
    "X_train_numeric.reset_index()\n",
    "\n",
    "\n",
    "# Combining the negative and postive  document matrix\n",
    "review_train_x = pd.merge(X_train_postive_review_dtm,X_train_negative_review_dtm,\n",
    "                                   left_index=True, \n",
    "                                   right_index=True)\n",
    "\n",
    "# Combining the document matrix and numerical columns to create the final training set\n",
    "train_X= pd.merge(X_train_numeric,review_train_x,\n",
    "                                   left_index=True, \n",
    "                                   right_index=True)\n",
    "\n",
    "\n",
    "print(f\"For the training set there are {train_X.shape[0]} row and {train_X.shape[1]} columns\")"
   ]
  },
  {
   "cell_type": "markdown",
   "metadata": {},
   "source": [
    "##### Testing Data"
   ]
  },
  {
   "cell_type": "code",
   "execution_count": 43,
   "metadata": {
    "ExecuteTime": {
     "end_time": "2022-07-11T12:18:05.813675Z",
     "start_time": "2022-07-11T12:18:05.123398Z"
    },
    "scrolled": true
   },
   "outputs": [
    {
     "name": "stdout",
     "output_type": "stream",
     "text": [
      "For the testing set there are 3908 row and 2014 columns\n"
     ]
    }
   ],
   "source": [
    "# Converting the sparse matrix to dataframe for postive review\n",
    "X_test_postive_review_dtm = pd.DataFrame.sparse.from_spmatrix(X_test_tr_pos_review)\n",
    "X_test_postive_review_dtm.columns = pos_review_feature\n",
    "\n",
    "# Converting the sparse matrix to dataframe for negative review\n",
    "X_test_negative_review_dtm = pd.DataFrame.sparse.from_spmatrix(X_test_tr_neg_review)\n",
    "X_test_negative_review_dtm.columns = neg_review_feature\n",
    "\n",
    "\n",
    "# Droping the text column \n",
    "X_test_numeric = X_test.drop(columns=[\"Positive_Review\",\"Negative_Review\"],axis=1)\n",
    "X_test_numeric.reset_index()\n",
    "\n",
    "\n",
    "# Combining the negative and postive  document matrix\n",
    "review_test_x = pd.merge(X_test_postive_review_dtm,X_test_negative_review_dtm,\n",
    "                                   left_index=True, \n",
    "                                   right_index=True)\n",
    "\n",
    "# Combining the document matrix and numerical columns to create the final training set\n",
    "test_X= pd.merge(X_test_numeric,review_train_x,\n",
    "                                   left_index=True, \n",
    "                                   right_index=True)\n",
    "\n",
    "\n",
    "print(f\"For the testing set there are {test_X.shape[0]} row and {test_X.shape[1]} columns\")"
   ]
  },
  {
   "cell_type": "markdown",
   "metadata": {
    "ExecuteTime": {
     "end_time": "2022-07-11T03:52:56.779504Z",
     "start_time": "2022-07-11T03:52:56.776253Z"
    }
   },
   "source": [
    "#### Summary\n",
    "- For the training set there are `11695` row and `2014` columns and for the testing set there are `3908` row and `2014` columns which includes :\n",
    " 1. 1000 feature from positive review \n",
    " 2. 1000 feature from negative review\n",
    " 3. 14  feature from numeric data\n",
    " <br><br>\n",
    "- The `min_df` of `10` is used for removing terms that appear too infrequently ie. terms that appear in less than 10 time of the documents\n",
    "\n",
    "- The `max_df` of `.9` is used for removing terms that appear too frequently ie. terms that appear in more than 90% of the documents\n",
    " "
   ]
  },
  {
   "cell_type": "code",
   "execution_count": null,
   "metadata": {},
   "outputs": [],
   "source": []
  }
 ],
 "metadata": {
  "colab": {
   "collapsed_sections": [],
   "name": "Hotel_Review.ipynb",
   "provenance": []
  },
  "kernelspec": {
   "display_name": "Python 3",
   "language": "python",
   "name": "python3"
  },
  "language_info": {
   "codemirror_mode": {
    "name": "ipython",
    "version": 3
   },
   "file_extension": ".py",
   "mimetype": "text/x-python",
   "name": "python",
   "nbconvert_exporter": "python",
   "pygments_lexer": "ipython3",
   "version": "3.8.5"
  },
  "toc": {
   "base_numbering": 1,
   "nav_menu": {},
   "number_sections": true,
   "sideBar": true,
   "skip_h1_title": false,
   "title_cell": "Table of Contents",
   "title_sidebar": "Contents",
   "toc_cell": false,
   "toc_position": {
    "height": "calc(100% - 180px)",
    "left": "10px",
    "top": "150px",
    "width": "343px"
   },
   "toc_section_display": true,
   "toc_window_display": true
  },
  "varInspector": {
   "cols": {
    "lenName": 16,
    "lenType": 16,
    "lenVar": 40
   },
   "kernels_config": {
    "python": {
     "delete_cmd_postfix": "",
     "delete_cmd_prefix": "del ",
     "library": "var_list.py",
     "varRefreshCmd": "print(var_dic_list())"
    },
    "r": {
     "delete_cmd_postfix": ") ",
     "delete_cmd_prefix": "rm(",
     "library": "var_list.r",
     "varRefreshCmd": "cat(var_dic_list()) "
    }
   },
   "types_to_exclude": [
    "module",
    "function",
    "builtin_function_or_method",
    "instance",
    "_Feature"
   ],
   "window_display": false
  }
 },
 "nbformat": 4,
 "nbformat_minor": 1
}
