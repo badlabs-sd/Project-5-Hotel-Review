{
 "cells": [
  {
   "cell_type": "markdown",
   "metadata": {
    "id": "0gNBk5ESK3PW"
   },
   "source": [
    "**NLP With Hotel Review Part 2**<br>\n",
    "Author: Sourish Dasgupta <br>\n",
    "Date : July-18,2022<br>"
   ]
  },
  {
   "cell_type": "markdown",
   "metadata": {
    "id": "dapNp9_3K3Pa"
   },
   "source": [
    "Modeling\n",
    "\n",
    "1. **Employ a linear classifier on this dataset:**\n",
    "    - Fit a logisitic regression model to this data with the solver set to `lbfgs`. \n",
    "    - What is the accuracy score on the test set?\n",
    "    - What are the 20 words most predictive of a good review (from the positive review column)? What are the 20 words most predictive with a bad review (from the negative review column)? Use the regression coefficients to answer this question\n",
    "    - Reduce the dimensionality of the dataset using PCA, what is the relationship between the number of dimensions and run-time for a logistic regression?\n",
    "    - List one advantage and one disadvantage of dimensionality reduction <br><br>\n",
    "\n",
    "2. **Employ a K-Nearest Neighbour classifier on this dataset:**\n",
    "    - Fit a KNN model to this data. What is the accuracy score on the test set?\n",
    "    - KNN is a computationally expensive model. Reduce the number of observations (data points) in the dataset.\n",
    "    - What is the relationship between the number of observations and run-time for KNN?\n",
    "    - List one advantage and one disadvantage of reducing the number of observations.\n",
    "    - Use the dataset to find an optimal value for K in the KNN algorithm. You will need to split your dataset into train and validation sets.\n",
    "    - What is the issue with splitting the data into train and validation sets after performing vectorization?<br><br>\n",
    "   \n",
    "3. **Employ a Decision Tree classifier on this dataset:**\n",
    "    - Fit a decision tree model to this data. What is the accuracy score on the test set?\n",
    "    - Use the data set (or a subsample) to find an optimal value for the maximum depth of the decision tree. You will need to split your data set into train and validation.\n",
    "    - Provide two advantages of decision trees over KNN. Provide two weaknesses of decision trees (classification or regression trees)<br><br>\n",
    "4. **What is the purpose of the validation set, i.e., how is it different than the test set?**<br><br>\n",
    "\n",
    "5. **Re-run a decision tree or logistic regression on the data again:**\n",
    "\n",
    "    - Perform a 5-fold cross validation to optimize the hyperparameters of your model.\n",
    "    - What does your confusion matrix look like for your best model on the test set?<br><br>\n",
    "\n",
    "6. **Create one new feature of your choice:**\n",
    "    - Explain your new feature and why you consider it will improve accuracy.\n",
    "    - Run the model from question 5 again. You will have to re-optimize your hyperparameters. \n",
    "    - Has the accuracy score of your best model improved on the test set after adding the new feature you created?\n"
   ]
  },
  {
   "cell_type": "markdown",
   "metadata": {
    "id": "v-qC0fl2K3Pc"
   },
   "source": [
    "### **Import Library**"
   ]
  },
  {
   "cell_type": "code",
   "execution_count": 1,
   "metadata": {
    "colab": {
     "base_uri": "https://localhost:8080/"
    },
    "id": "Zo-Qeh06K3Pc",
    "outputId": "b7f97ce4-227f-42ef-80f1-e9ec5802973e"
   },
   "outputs": [
    {
     "name": "stderr",
     "output_type": "stream",
     "text": [
      "[nltk_data] Downloading package wordnet to /root/nltk_data...\n",
      "[nltk_data]   Package wordnet is already up-to-date!\n",
      "[nltk_data] Downloading package omw-1.4 to /root/nltk_data...\n",
      "[nltk_data]   Package omw-1.4 is already up-to-date!\n",
      "[nltk_data] Downloading package stopwords to /root/nltk_data...\n",
      "[nltk_data]   Package stopwords is already up-to-date!\n",
      "[nltk_data] Downloading package punkt to /root/nltk_data...\n",
      "[nltk_data]   Package punkt is already up-to-date!\n"
     ]
    }
   ],
   "source": [
    "import numpy as np\n",
    "import pandas as pd\n",
    "import matplotlib.pyplot as plt\n",
    "import seaborn as sns\n",
    "import regex as re\n",
    "import string\n",
    "\n",
    "# sklearn \n",
    "from sklearn.model_selection import train_test_split\n",
    "from sklearn.feature_extraction.text import CountVectorizer\n",
    "\n",
    "# Handling sparse matrix\n",
    "import scipy.sparse    \n",
    "\n",
    "# nltk\n",
    "import nltk\n",
    "from nltk.corpus import stopwords\n",
    "from nltk.stem import WordNetLemmatizer\n",
    "\n",
    "nltk.download('wordnet')\n",
    "nltk.download('omw-1.4')\n",
    "nltk.download('stopwords')\n",
    "nltk.download('punkt')\n",
    "\n",
    "lemmatizer = WordNetLemmatizer()\n",
    "stop_words = set(stopwords.words('english'))\n",
    "\n",
    "from textblob import TextBlob\n"
   ]
  },
  {
   "cell_type": "code",
   "execution_count": 2,
   "metadata": {
    "id": "JtS0o8l3lyJl"
   },
   "outputs": [],
   "source": [
    "import warnings\n",
    "warnings.filterwarnings(\"ignore\")"
   ]
  },
  {
   "cell_type": "markdown",
   "metadata": {
    "id": "7xBQmBn6K3Pe"
   },
   "source": [
    "### **Import the data**"
   ]
  },
  {
   "cell_type": "markdown",
   "metadata": {
    "id": "v5NLiqhzK3Pf"
   },
   "source": [
    "#### Train Data"
   ]
  },
  {
   "cell_type": "code",
   "execution_count": 3,
   "metadata": {
    "colab": {
     "base_uri": "https://localhost:8080/",
     "height": 300
    },
    "id": "LUJmuLRKK3Pf",
    "outputId": "8856ea30-3f75-47be-d3a0-e1224a451a29"
   },
   "outputs": [
    {
     "data": {
      "text/html": [
       "\n",
       "  <div id=\"df-bf876857-5779-49e5-b564-3a200fcde3b3\">\n",
       "    <div class=\"colab-df-container\">\n",
       "      <div>\n",
       "<style scoped>\n",
       "    .dataframe tbody tr th:only-of-type {\n",
       "        vertical-align: middle;\n",
       "    }\n",
       "\n",
       "    .dataframe tbody tr th {\n",
       "        vertical-align: top;\n",
       "    }\n",
       "\n",
       "    .dataframe thead th {\n",
       "        text-align: right;\n",
       "    }\n",
       "</style>\n",
       "<table border=\"1\" class=\"dataframe\">\n",
       "  <thead>\n",
       "    <tr style=\"text-align: right;\">\n",
       "      <th></th>\n",
       "      <th>Additional_Number_of_Scoring</th>\n",
       "      <th>Average_Score</th>\n",
       "      <th>Review_Total_Negative_Word_Counts</th>\n",
       "      <th>Total_Number_of_Reviews</th>\n",
       "      <th>Review_Total_Positive_Word_Counts</th>\n",
       "      <th>Total_Number_of_Reviews_Reviewer_Has_Given</th>\n",
       "      <th>days_since_review</th>\n",
       "      <th>lat</th>\n",
       "      <th>lng</th>\n",
       "      <th>weekday_of_review</th>\n",
       "      <th>...</th>\n",
       "      <th>n_worry</th>\n",
       "      <th>n_worth</th>\n",
       "      <th>n_would</th>\n",
       "      <th>n_write</th>\n",
       "      <th>n_wrong</th>\n",
       "      <th>n_year</th>\n",
       "      <th>n_yes</th>\n",
       "      <th>n_yet</th>\n",
       "      <th>n_young</th>\n",
       "      <th>rating</th>\n",
       "    </tr>\n",
       "  </thead>\n",
       "  <tbody>\n",
       "    <tr>\n",
       "      <th>0</th>\n",
       "      <td>620</td>\n",
       "      <td>9.0</td>\n",
       "      <td>0</td>\n",
       "      <td>1974</td>\n",
       "      <td>164</td>\n",
       "      <td>1</td>\n",
       "      <td>562</td>\n",
       "      <td>51.506558</td>\n",
       "      <td>-0.004514</td>\n",
       "      <td>1</td>\n",
       "      <td>...</td>\n",
       "      <td>0</td>\n",
       "      <td>0</td>\n",
       "      <td>0</td>\n",
       "      <td>0</td>\n",
       "      <td>0</td>\n",
       "      <td>0</td>\n",
       "      <td>0</td>\n",
       "      <td>0</td>\n",
       "      <td>0</td>\n",
       "      <td>1</td>\n",
       "    </tr>\n",
       "    <tr>\n",
       "      <th>1</th>\n",
       "      <td>1258</td>\n",
       "      <td>9.4</td>\n",
       "      <td>6</td>\n",
       "      <td>4204</td>\n",
       "      <td>4</td>\n",
       "      <td>5</td>\n",
       "      <td>276</td>\n",
       "      <td>51.502435</td>\n",
       "      <td>-0.000250</td>\n",
       "      <td>0</td>\n",
       "      <td>...</td>\n",
       "      <td>0</td>\n",
       "      <td>0</td>\n",
       "      <td>0</td>\n",
       "      <td>0</td>\n",
       "      <td>0</td>\n",
       "      <td>0</td>\n",
       "      <td>0</td>\n",
       "      <td>0</td>\n",
       "      <td>0</td>\n",
       "      <td>1</td>\n",
       "    </tr>\n",
       "    <tr>\n",
       "      <th>2</th>\n",
       "      <td>995</td>\n",
       "      <td>8.1</td>\n",
       "      <td>2</td>\n",
       "      <td>3826</td>\n",
       "      <td>38</td>\n",
       "      <td>1</td>\n",
       "      <td>129</td>\n",
       "      <td>51.504348</td>\n",
       "      <td>-0.033444</td>\n",
       "      <td>0</td>\n",
       "      <td>...</td>\n",
       "      <td>0</td>\n",
       "      <td>0</td>\n",
       "      <td>0</td>\n",
       "      <td>0</td>\n",
       "      <td>0</td>\n",
       "      <td>0</td>\n",
       "      <td>0</td>\n",
       "      <td>0</td>\n",
       "      <td>0</td>\n",
       "      <td>1</td>\n",
       "    </tr>\n",
       "    <tr>\n",
       "      <th>3</th>\n",
       "      <td>853</td>\n",
       "      <td>8.4</td>\n",
       "      <td>7</td>\n",
       "      <td>2726</td>\n",
       "      <td>10</td>\n",
       "      <td>10</td>\n",
       "      <td>164</td>\n",
       "      <td>51.507377</td>\n",
       "      <td>0.038657</td>\n",
       "      <td>0</td>\n",
       "      <td>...</td>\n",
       "      <td>0</td>\n",
       "      <td>0</td>\n",
       "      <td>0</td>\n",
       "      <td>0</td>\n",
       "      <td>0</td>\n",
       "      <td>0</td>\n",
       "      <td>0</td>\n",
       "      <td>0</td>\n",
       "      <td>0</td>\n",
       "      <td>0</td>\n",
       "    </tr>\n",
       "    <tr>\n",
       "      <th>4</th>\n",
       "      <td>1243</td>\n",
       "      <td>8.1</td>\n",
       "      <td>11</td>\n",
       "      <td>6608</td>\n",
       "      <td>8</td>\n",
       "      <td>69</td>\n",
       "      <td>639</td>\n",
       "      <td>51.513556</td>\n",
       "      <td>-0.180002</td>\n",
       "      <td>1</td>\n",
       "      <td>...</td>\n",
       "      <td>0</td>\n",
       "      <td>0</td>\n",
       "      <td>0</td>\n",
       "      <td>0</td>\n",
       "      <td>0</td>\n",
       "      <td>0</td>\n",
       "      <td>0</td>\n",
       "      <td>0</td>\n",
       "      <td>0</td>\n",
       "      <td>0</td>\n",
       "    </tr>\n",
       "  </tbody>\n",
       "</table>\n",
       "<p>5 rows × 2744 columns</p>\n",
       "</div>\n",
       "      <button class=\"colab-df-convert\" onclick=\"convertToInteractive('df-bf876857-5779-49e5-b564-3a200fcde3b3')\"\n",
       "              title=\"Convert this dataframe to an interactive table.\"\n",
       "              style=\"display:none;\">\n",
       "        \n",
       "  <svg xmlns=\"http://www.w3.org/2000/svg\" height=\"24px\"viewBox=\"0 0 24 24\"\n",
       "       width=\"24px\">\n",
       "    <path d=\"M0 0h24v24H0V0z\" fill=\"none\"/>\n",
       "    <path d=\"M18.56 5.44l.94 2.06.94-2.06 2.06-.94-2.06-.94-.94-2.06-.94 2.06-2.06.94zm-11 1L8.5 8.5l.94-2.06 2.06-.94-2.06-.94L8.5 2.5l-.94 2.06-2.06.94zm10 10l.94 2.06.94-2.06 2.06-.94-2.06-.94-.94-2.06-.94 2.06-2.06.94z\"/><path d=\"M17.41 7.96l-1.37-1.37c-.4-.4-.92-.59-1.43-.59-.52 0-1.04.2-1.43.59L10.3 9.45l-7.72 7.72c-.78.78-.78 2.05 0 2.83L4 21.41c.39.39.9.59 1.41.59.51 0 1.02-.2 1.41-.59l7.78-7.78 2.81-2.81c.8-.78.8-2.07 0-2.86zM5.41 20L4 18.59l7.72-7.72 1.47 1.35L5.41 20z\"/>\n",
       "  </svg>\n",
       "      </button>\n",
       "      \n",
       "  <style>\n",
       "    .colab-df-container {\n",
       "      display:flex;\n",
       "      flex-wrap:wrap;\n",
       "      gap: 12px;\n",
       "    }\n",
       "\n",
       "    .colab-df-convert {\n",
       "      background-color: #E8F0FE;\n",
       "      border: none;\n",
       "      border-radius: 50%;\n",
       "      cursor: pointer;\n",
       "      display: none;\n",
       "      fill: #1967D2;\n",
       "      height: 32px;\n",
       "      padding: 0 0 0 0;\n",
       "      width: 32px;\n",
       "    }\n",
       "\n",
       "    .colab-df-convert:hover {\n",
       "      background-color: #E2EBFA;\n",
       "      box-shadow: 0px 1px 2px rgba(60, 64, 67, 0.3), 0px 1px 3px 1px rgba(60, 64, 67, 0.15);\n",
       "      fill: #174EA6;\n",
       "    }\n",
       "\n",
       "    [theme=dark] .colab-df-convert {\n",
       "      background-color: #3B4455;\n",
       "      fill: #D2E3FC;\n",
       "    }\n",
       "\n",
       "    [theme=dark] .colab-df-convert:hover {\n",
       "      background-color: #434B5C;\n",
       "      box-shadow: 0px 1px 3px 1px rgba(0, 0, 0, 0.15);\n",
       "      filter: drop-shadow(0px 1px 2px rgba(0, 0, 0, 0.3));\n",
       "      fill: #FFFFFF;\n",
       "    }\n",
       "  </style>\n",
       "\n",
       "      <script>\n",
       "        const buttonEl =\n",
       "          document.querySelector('#df-bf876857-5779-49e5-b564-3a200fcde3b3 button.colab-df-convert');\n",
       "        buttonEl.style.display =\n",
       "          google.colab.kernel.accessAllowed ? 'block' : 'none';\n",
       "\n",
       "        async function convertToInteractive(key) {\n",
       "          const element = document.querySelector('#df-bf876857-5779-49e5-b564-3a200fcde3b3');\n",
       "          const dataTable =\n",
       "            await google.colab.kernel.invokeFunction('convertToInteractive',\n",
       "                                                     [key], {});\n",
       "          if (!dataTable) return;\n",
       "\n",
       "          const docLinkHtml = 'Like what you see? Visit the ' +\n",
       "            '<a target=\"_blank\" href=https://colab.research.google.com/notebooks/data_table.ipynb>data table notebook</a>'\n",
       "            + ' to learn more about interactive tables.';\n",
       "          element.innerHTML = '';\n",
       "          dataTable['output_type'] = 'display_data';\n",
       "          await google.colab.output.renderOutput(dataTable, element);\n",
       "          const docLink = document.createElement('div');\n",
       "          docLink.innerHTML = docLinkHtml;\n",
       "          element.appendChild(docLink);\n",
       "        }\n",
       "      </script>\n",
       "    </div>\n",
       "  </div>\n",
       "  "
      ],
      "text/plain": [
       "   Additional_Number_of_Scoring  Average_Score  \\\n",
       "0                           620            9.0   \n",
       "1                          1258            9.4   \n",
       "2                           995            8.1   \n",
       "3                           853            8.4   \n",
       "4                          1243            8.1   \n",
       "\n",
       "   Review_Total_Negative_Word_Counts  Total_Number_of_Reviews  \\\n",
       "0                                  0                     1974   \n",
       "1                                  6                     4204   \n",
       "2                                  2                     3826   \n",
       "3                                  7                     2726   \n",
       "4                                 11                     6608   \n",
       "\n",
       "   Review_Total_Positive_Word_Counts  \\\n",
       "0                                164   \n",
       "1                                  4   \n",
       "2                                 38   \n",
       "3                                 10   \n",
       "4                                  8   \n",
       "\n",
       "   Total_Number_of_Reviews_Reviewer_Has_Given  days_since_review        lat  \\\n",
       "0                                           1                562  51.506558   \n",
       "1                                           5                276  51.502435   \n",
       "2                                           1                129  51.504348   \n",
       "3                                          10                164  51.507377   \n",
       "4                                          69                639  51.513556   \n",
       "\n",
       "        lng  weekday_of_review  ...  n_worry  n_worth  n_would  n_write  \\\n",
       "0 -0.004514                  1  ...        0        0        0        0   \n",
       "1 -0.000250                  0  ...        0        0        0        0   \n",
       "2 -0.033444                  0  ...        0        0        0        0   \n",
       "3  0.038657                  0  ...        0        0        0        0   \n",
       "4 -0.180002                  1  ...        0        0        0        0   \n",
       "\n",
       "   n_wrong  n_year  n_yes  n_yet  n_young  rating  \n",
       "0        0       0      0      0        0       1  \n",
       "1        0       0      0      0        0       1  \n",
       "2        0       0      0      0        0       1  \n",
       "3        0       0      0      0        0       0  \n",
       "4        0       0      0      0        0       0  \n",
       "\n",
       "[5 rows x 2744 columns]"
      ]
     },
     "execution_count": 3,
     "metadata": {},
     "output_type": "execute_result"
    }
   ],
   "source": [
    "path =\"clean_train_dataframe.csv\"\n",
    "train_data= pd.read_csv(path)\n",
    "train_data.head()"
   ]
  },
  {
   "cell_type": "code",
   "execution_count": 4,
   "metadata": {
    "colab": {
     "base_uri": "https://localhost:8080/"
    },
    "id": "6B8QcyBaMQvD",
    "outputId": "d3f9424e-0725-4e8d-8a69-951f32e4b0eb"
   },
   "outputs": [
    {
     "name": "stdout",
     "output_type": "stream",
     "text": [
      "For train dataset , total number of rows :12798\n",
      "For train dataset ,total number of columns :2744\n"
     ]
    }
   ],
   "source": [
    "shape = train_data.shape\n",
    "print(f\"For train dataset , total number of rows :{shape[0]}\")\n",
    "print(f\"For train dataset ,total number of columns :{shape[1]}\")"
   ]
  },
  {
   "cell_type": "markdown",
   "metadata": {
    "id": "9YcTkfJCNcYs"
   },
   "source": [
    "##### Setting the feature and target data for the training set"
   ]
  },
  {
   "cell_type": "code",
   "execution_count": 5,
   "metadata": {
    "colab": {
     "base_uri": "https://localhost:8080/"
    },
    "id": "Ksvjtdb7NU-7",
    "outputId": "ae9d3644-4163-405e-e072-71de030cf067"
   },
   "outputs": [
    {
     "name": "stdout",
     "output_type": "stream",
     "text": [
      "For the training data set ,the feature data has 12798 rows and 2743 columns\n",
      "For the training data set ,the target column `rating` has 12798 rows \n"
     ]
    }
   ],
   "source": [
    "X_train= train_data.drop([\"rating\"],axis =1)\n",
    "y_train = train_data[\"rating\"]\n",
    "\n",
    "print(f'For the training data set ,the feature data has {X_train.shape[0]} rows and {X_train.shape[1]} columns')\n",
    "print(f'For the training data set ,the target column `rating` has {y_train.shape[0]} rows ')"
   ]
  },
  {
   "cell_type": "markdown",
   "metadata": {
    "id": "ypOLZs43K3Pg"
   },
   "source": [
    "#### Test Data"
   ]
  },
  {
   "cell_type": "code",
   "execution_count": 6,
   "metadata": {
    "colab": {
     "base_uri": "https://localhost:8080/",
     "height": 300
    },
    "id": "F1ADn7agK3Ph",
    "outputId": "f58c5974-2633-47b1-c15d-2c273b0fb73f"
   },
   "outputs": [
    {
     "data": {
      "text/html": [
       "\n",
       "  <div id=\"df-95c4eced-bbac-4b9d-a13f-bc20e5e0cbd5\">\n",
       "    <div class=\"colab-df-container\">\n",
       "      <div>\n",
       "<style scoped>\n",
       "    .dataframe tbody tr th:only-of-type {\n",
       "        vertical-align: middle;\n",
       "    }\n",
       "\n",
       "    .dataframe tbody tr th {\n",
       "        vertical-align: top;\n",
       "    }\n",
       "\n",
       "    .dataframe thead th {\n",
       "        text-align: right;\n",
       "    }\n",
       "</style>\n",
       "<table border=\"1\" class=\"dataframe\">\n",
       "  <thead>\n",
       "    <tr style=\"text-align: right;\">\n",
       "      <th></th>\n",
       "      <th>Additional_Number_of_Scoring</th>\n",
       "      <th>Average_Score</th>\n",
       "      <th>Review_Total_Negative_Word_Counts</th>\n",
       "      <th>Total_Number_of_Reviews</th>\n",
       "      <th>Review_Total_Positive_Word_Counts</th>\n",
       "      <th>Total_Number_of_Reviews_Reviewer_Has_Given</th>\n",
       "      <th>days_since_review</th>\n",
       "      <th>lat</th>\n",
       "      <th>lng</th>\n",
       "      <th>weekday_of_review</th>\n",
       "      <th>...</th>\n",
       "      <th>n_worry</th>\n",
       "      <th>n_worth</th>\n",
       "      <th>n_would</th>\n",
       "      <th>n_write</th>\n",
       "      <th>n_wrong</th>\n",
       "      <th>n_year</th>\n",
       "      <th>n_yes</th>\n",
       "      <th>n_yet</th>\n",
       "      <th>n_young</th>\n",
       "      <th>rating</th>\n",
       "    </tr>\n",
       "  </thead>\n",
       "  <tbody>\n",
       "    <tr>\n",
       "      <th>0</th>\n",
       "      <td>1005</td>\n",
       "      <td>8.3</td>\n",
       "      <td>0</td>\n",
       "      <td>3469</td>\n",
       "      <td>6</td>\n",
       "      <td>2</td>\n",
       "      <td>297</td>\n",
       "      <td>51.559096</td>\n",
       "      <td>-0.284704</td>\n",
       "      <td>0</td>\n",
       "      <td>...</td>\n",
       "      <td>0</td>\n",
       "      <td>0</td>\n",
       "      <td>0</td>\n",
       "      <td>0</td>\n",
       "      <td>0</td>\n",
       "      <td>0</td>\n",
       "      <td>0</td>\n",
       "      <td>0</td>\n",
       "      <td>0</td>\n",
       "      <td>0</td>\n",
       "    </tr>\n",
       "    <tr>\n",
       "      <th>1</th>\n",
       "      <td>487</td>\n",
       "      <td>8.8</td>\n",
       "      <td>46</td>\n",
       "      <td>1805</td>\n",
       "      <td>121</td>\n",
       "      <td>1</td>\n",
       "      <td>4</td>\n",
       "      <td>51.474469</td>\n",
       "      <td>-0.019428</td>\n",
       "      <td>6</td>\n",
       "      <td>...</td>\n",
       "      <td>0</td>\n",
       "      <td>0</td>\n",
       "      <td>0</td>\n",
       "      <td>0</td>\n",
       "      <td>0</td>\n",
       "      <td>0</td>\n",
       "      <td>0</td>\n",
       "      <td>0</td>\n",
       "      <td>0</td>\n",
       "      <td>1</td>\n",
       "    </tr>\n",
       "    <tr>\n",
       "      <th>2</th>\n",
       "      <td>570</td>\n",
       "      <td>9.3</td>\n",
       "      <td>0</td>\n",
       "      <td>2319</td>\n",
       "      <td>9</td>\n",
       "      <td>1</td>\n",
       "      <td>590</td>\n",
       "      <td>51.505696</td>\n",
       "      <td>-0.101525</td>\n",
       "      <td>1</td>\n",
       "      <td>...</td>\n",
       "      <td>0</td>\n",
       "      <td>0</td>\n",
       "      <td>0</td>\n",
       "      <td>0</td>\n",
       "      <td>0</td>\n",
       "      <td>0</td>\n",
       "      <td>0</td>\n",
       "      <td>0</td>\n",
       "      <td>0</td>\n",
       "      <td>1</td>\n",
       "    </tr>\n",
       "    <tr>\n",
       "      <th>3</th>\n",
       "      <td>2623</td>\n",
       "      <td>8.7</td>\n",
       "      <td>19</td>\n",
       "      <td>12158</td>\n",
       "      <td>0</td>\n",
       "      <td>2</td>\n",
       "      <td>269</td>\n",
       "      <td>51.500961</td>\n",
       "      <td>-0.116591</td>\n",
       "      <td>0</td>\n",
       "      <td>...</td>\n",
       "      <td>0</td>\n",
       "      <td>0</td>\n",
       "      <td>0</td>\n",
       "      <td>0</td>\n",
       "      <td>0</td>\n",
       "      <td>0</td>\n",
       "      <td>0</td>\n",
       "      <td>0</td>\n",
       "      <td>0</td>\n",
       "      <td>0</td>\n",
       "    </tr>\n",
       "    <tr>\n",
       "      <th>4</th>\n",
       "      <td>365</td>\n",
       "      <td>8.1</td>\n",
       "      <td>13</td>\n",
       "      <td>1567</td>\n",
       "      <td>0</td>\n",
       "      <td>2</td>\n",
       "      <td>373</td>\n",
       "      <td>51.515125</td>\n",
       "      <td>-0.160066</td>\n",
       "      <td>1</td>\n",
       "      <td>...</td>\n",
       "      <td>0</td>\n",
       "      <td>0</td>\n",
       "      <td>0</td>\n",
       "      <td>0</td>\n",
       "      <td>0</td>\n",
       "      <td>0</td>\n",
       "      <td>0</td>\n",
       "      <td>0</td>\n",
       "      <td>0</td>\n",
       "      <td>0</td>\n",
       "    </tr>\n",
       "  </tbody>\n",
       "</table>\n",
       "<p>5 rows × 2744 columns</p>\n",
       "</div>\n",
       "      <button class=\"colab-df-convert\" onclick=\"convertToInteractive('df-95c4eced-bbac-4b9d-a13f-bc20e5e0cbd5')\"\n",
       "              title=\"Convert this dataframe to an interactive table.\"\n",
       "              style=\"display:none;\">\n",
       "        \n",
       "  <svg xmlns=\"http://www.w3.org/2000/svg\" height=\"24px\"viewBox=\"0 0 24 24\"\n",
       "       width=\"24px\">\n",
       "    <path d=\"M0 0h24v24H0V0z\" fill=\"none\"/>\n",
       "    <path d=\"M18.56 5.44l.94 2.06.94-2.06 2.06-.94-2.06-.94-.94-2.06-.94 2.06-2.06.94zm-11 1L8.5 8.5l.94-2.06 2.06-.94-2.06-.94L8.5 2.5l-.94 2.06-2.06.94zm10 10l.94 2.06.94-2.06 2.06-.94-2.06-.94-.94-2.06-.94 2.06-2.06.94z\"/><path d=\"M17.41 7.96l-1.37-1.37c-.4-.4-.92-.59-1.43-.59-.52 0-1.04.2-1.43.59L10.3 9.45l-7.72 7.72c-.78.78-.78 2.05 0 2.83L4 21.41c.39.39.9.59 1.41.59.51 0 1.02-.2 1.41-.59l7.78-7.78 2.81-2.81c.8-.78.8-2.07 0-2.86zM5.41 20L4 18.59l7.72-7.72 1.47 1.35L5.41 20z\"/>\n",
       "  </svg>\n",
       "      </button>\n",
       "      \n",
       "  <style>\n",
       "    .colab-df-container {\n",
       "      display:flex;\n",
       "      flex-wrap:wrap;\n",
       "      gap: 12px;\n",
       "    }\n",
       "\n",
       "    .colab-df-convert {\n",
       "      background-color: #E8F0FE;\n",
       "      border: none;\n",
       "      border-radius: 50%;\n",
       "      cursor: pointer;\n",
       "      display: none;\n",
       "      fill: #1967D2;\n",
       "      height: 32px;\n",
       "      padding: 0 0 0 0;\n",
       "      width: 32px;\n",
       "    }\n",
       "\n",
       "    .colab-df-convert:hover {\n",
       "      background-color: #E2EBFA;\n",
       "      box-shadow: 0px 1px 2px rgba(60, 64, 67, 0.3), 0px 1px 3px 1px rgba(60, 64, 67, 0.15);\n",
       "      fill: #174EA6;\n",
       "    }\n",
       "\n",
       "    [theme=dark] .colab-df-convert {\n",
       "      background-color: #3B4455;\n",
       "      fill: #D2E3FC;\n",
       "    }\n",
       "\n",
       "    [theme=dark] .colab-df-convert:hover {\n",
       "      background-color: #434B5C;\n",
       "      box-shadow: 0px 1px 3px 1px rgba(0, 0, 0, 0.15);\n",
       "      filter: drop-shadow(0px 1px 2px rgba(0, 0, 0, 0.3));\n",
       "      fill: #FFFFFF;\n",
       "    }\n",
       "  </style>\n",
       "\n",
       "      <script>\n",
       "        const buttonEl =\n",
       "          document.querySelector('#df-95c4eced-bbac-4b9d-a13f-bc20e5e0cbd5 button.colab-df-convert');\n",
       "        buttonEl.style.display =\n",
       "          google.colab.kernel.accessAllowed ? 'block' : 'none';\n",
       "\n",
       "        async function convertToInteractive(key) {\n",
       "          const element = document.querySelector('#df-95c4eced-bbac-4b9d-a13f-bc20e5e0cbd5');\n",
       "          const dataTable =\n",
       "            await google.colab.kernel.invokeFunction('convertToInteractive',\n",
       "                                                     [key], {});\n",
       "          if (!dataTable) return;\n",
       "\n",
       "          const docLinkHtml = 'Like what you see? Visit the ' +\n",
       "            '<a target=\"_blank\" href=https://colab.research.google.com/notebooks/data_table.ipynb>data table notebook</a>'\n",
       "            + ' to learn more about interactive tables.';\n",
       "          element.innerHTML = '';\n",
       "          dataTable['output_type'] = 'display_data';\n",
       "          await google.colab.output.renderOutput(dataTable, element);\n",
       "          const docLink = document.createElement('div');\n",
       "          docLink.innerHTML = docLinkHtml;\n",
       "          element.appendChild(docLink);\n",
       "        }\n",
       "      </script>\n",
       "    </div>\n",
       "  </div>\n",
       "  "
      ],
      "text/plain": [
       "   Additional_Number_of_Scoring  Average_Score  \\\n",
       "0                          1005            8.3   \n",
       "1                           487            8.8   \n",
       "2                           570            9.3   \n",
       "3                          2623            8.7   \n",
       "4                           365            8.1   \n",
       "\n",
       "   Review_Total_Negative_Word_Counts  Total_Number_of_Reviews  \\\n",
       "0                                  0                     3469   \n",
       "1                                 46                     1805   \n",
       "2                                  0                     2319   \n",
       "3                                 19                    12158   \n",
       "4                                 13                     1567   \n",
       "\n",
       "   Review_Total_Positive_Word_Counts  \\\n",
       "0                                  6   \n",
       "1                                121   \n",
       "2                                  9   \n",
       "3                                  0   \n",
       "4                                  0   \n",
       "\n",
       "   Total_Number_of_Reviews_Reviewer_Has_Given  days_since_review        lat  \\\n",
       "0                                           2                297  51.559096   \n",
       "1                                           1                  4  51.474469   \n",
       "2                                           1                590  51.505696   \n",
       "3                                           2                269  51.500961   \n",
       "4                                           2                373  51.515125   \n",
       "\n",
       "        lng  weekday_of_review  ...  n_worry  n_worth  n_would  n_write  \\\n",
       "0 -0.284704                  0  ...        0        0        0        0   \n",
       "1 -0.019428                  6  ...        0        0        0        0   \n",
       "2 -0.101525                  1  ...        0        0        0        0   \n",
       "3 -0.116591                  0  ...        0        0        0        0   \n",
       "4 -0.160066                  1  ...        0        0        0        0   \n",
       "\n",
       "   n_wrong  n_year  n_yes  n_yet  n_young  rating  \n",
       "0        0       0      0      0        0       0  \n",
       "1        0       0      0      0        0       1  \n",
       "2        0       0      0      0        0       1  \n",
       "3        0       0      0      0        0       0  \n",
       "4        0       0      0      0        0       0  \n",
       "\n",
       "[5 rows x 2744 columns]"
      ]
     },
     "execution_count": 6,
     "metadata": {},
     "output_type": "execute_result"
    }
   ],
   "source": [
    "path =\"clean_test_dataframe.csv\"\n",
    "test_data= pd.read_csv(path)\n",
    "test_data.head()"
   ]
  },
  {
   "cell_type": "code",
   "execution_count": 7,
   "metadata": {
    "colab": {
     "base_uri": "https://localhost:8080/"
    },
    "id": "0vM32fJRMjGt",
    "outputId": "17b3aabb-2773-422d-fd95-af847ae66d4c"
   },
   "outputs": [
    {
     "name": "stdout",
     "output_type": "stream",
     "text": [
      "For test dataset , total number of rows :4267\n",
      "For test dataset ,total number of columns :2744\n"
     ]
    }
   ],
   "source": [
    "shape= test_data.shape\n",
    "print(f\"For test dataset , total number of rows :{shape[0]}\")\n",
    "print(f\"For test dataset ,total number of columns :{shape[1]}\")"
   ]
  },
  {
   "cell_type": "markdown",
   "metadata": {
    "id": "JFntEQcSOYXU"
   },
   "source": [
    "##### Setting the feature and target data for the testing set"
   ]
  },
  {
   "cell_type": "code",
   "execution_count": 8,
   "metadata": {
    "colab": {
     "base_uri": "https://localhost:8080/"
    },
    "id": "50Fe0LS9ObgO",
    "outputId": "87f3f980-78a5-4ecd-9b62-1fc4f5ba6190"
   },
   "outputs": [
    {
     "name": "stdout",
     "output_type": "stream",
     "text": [
      "For the training data set ,the feature data has 4267 rows and 2743 columns\n",
      "For the training data set ,the target column `rating` has 4267 rows \n"
     ]
    }
   ],
   "source": [
    "X_test= test_data.drop([\"rating\"],axis =1)\n",
    "y_test = test_data[\"rating\"]\n",
    "\n",
    "print(f'For the training data set ,the feature data has {X_test.shape[0]} rows and {X_test.shape[1]} columns')\n",
    "print(f'For the training data set ,the target column `rating` has {y_test.shape[0]} rows ')"
   ]
  },
  {
   "cell_type": "markdown",
   "metadata": {
    "id": "TI0V4j_lK3Ph"
   },
   "source": [
    "### **Modeling**"
   ]
  },
  {
   "cell_type": "markdown",
   "metadata": {
    "id": "P5KIC7UDK3Pi"
   },
   "source": [
    "#### **Employ a linear classifier on this dataset:**"
   ]
  },
  {
   "cell_type": "markdown",
   "metadata": {
    "id": "NHIfTKAcO_hi"
   },
   "source": [
    "##### **Fit a logisitic regression model to this data with the solver set to `lbfgs`**. "
   ]
  },
  {
   "cell_type": "code",
   "execution_count": 9,
   "metadata": {
    "id": "oBM9e5jQfZac"
   },
   "outputs": [],
   "source": [
    "# importing the Sklearn library fro logisttic Regression\n",
    "from sklearn.linear_model import LogisticRegression"
   ]
  },
  {
   "cell_type": "code",
   "execution_count": 10,
   "metadata": {
    "colab": {
     "base_uri": "https://localhost:8080/"
    },
    "id": "iRpHG0iAK3Pi",
    "outputId": "4a8bec42-234e-4bbc-be4c-c529f326b024"
   },
   "outputs": [
    {
     "data": {
      "text/plain": [
       "LogisticRegression(random_state=42)"
      ]
     },
     "execution_count": 10,
     "metadata": {},
     "output_type": "execute_result"
    }
   ],
   "source": [
    "lm_model = LogisticRegression( solver=\"lbfgs\", random_state=42)\n",
    "lm_model.fit( X_train, y_train)"
   ]
  },
  {
   "cell_type": "markdown",
   "metadata": {
    "id": "KD-uwD1agnG7"
   },
   "source": [
    "##### **What is the accuracy score on the test set?**"
   ]
  },
  {
   "cell_type": "code",
   "execution_count": 11,
   "metadata": {
    "colab": {
     "base_uri": "https://localhost:8080/"
    },
    "id": "DaafjfZQgIUy",
    "outputId": "fd38ec1c-e004-4f71-d7c0-8f18f14d89cd"
   },
   "outputs": [
    {
     "data": {
      "text/plain": [
       "0.7176001874853527"
      ]
     },
     "execution_count": 11,
     "metadata": {},
     "output_type": "execute_result"
    }
   ],
   "source": [
    "lm_model.score(X_test,y_test)"
   ]
  },
  {
   "cell_type": "markdown",
   "metadata": {
    "id": "ckAV96GiqN7f"
   },
   "source": [
    "The Accuracy score of the Logistic regression model on the test data set  is 73.37% "
   ]
  },
  {
   "cell_type": "markdown",
   "metadata": {
    "id": "nbm9_Oxlqqmo"
   },
   "source": [
    "##### **What are the 20 words most predictive of a good review (from the positive review column)? What are the 20 words most predictive with a bad review (from the negative review column)?Use the regression coefficients to answer this question**"
   ]
  },
  {
   "cell_type": "markdown",
   "metadata": {
    "id": "2n-DOfirtRVQ"
   },
   "source": [
    "Mapping the coefficent of the model with respect to the feature labels"
   ]
  },
  {
   "cell_type": "code",
   "execution_count": 12,
   "metadata": {
    "colab": {
     "base_uri": "https://localhost:8080/",
     "height": 206
    },
    "id": "HDNMjy14rAwc",
    "outputId": "e81795a1-7431-4400-cf21-c65a5ee2802c"
   },
   "outputs": [
    {
     "data": {
      "text/html": [
       "\n",
       "  <div id=\"df-09e23ecd-3108-44cc-a752-703baf04c714\">\n",
       "    <div class=\"colab-df-container\">\n",
       "      <div>\n",
       "<style scoped>\n",
       "    .dataframe tbody tr th:only-of-type {\n",
       "        vertical-align: middle;\n",
       "    }\n",
       "\n",
       "    .dataframe tbody tr th {\n",
       "        vertical-align: top;\n",
       "    }\n",
       "\n",
       "    .dataframe thead th {\n",
       "        text-align: right;\n",
       "    }\n",
       "</style>\n",
       "<table border=\"1\" class=\"dataframe\">\n",
       "  <thead>\n",
       "    <tr style=\"text-align: right;\">\n",
       "      <th></th>\n",
       "      <th>coefficent</th>\n",
       "    </tr>\n",
       "  </thead>\n",
       "  <tbody>\n",
       "    <tr>\n",
       "      <th>Additional_Number_of_Scoring</th>\n",
       "      <td>0.000473</td>\n",
       "    </tr>\n",
       "    <tr>\n",
       "      <th>Average_Score</th>\n",
       "      <td>0.077899</td>\n",
       "    </tr>\n",
       "    <tr>\n",
       "      <th>Review_Total_Negative_Word_Counts</th>\n",
       "      <td>-0.046972</td>\n",
       "    </tr>\n",
       "    <tr>\n",
       "      <th>Total_Number_of_Reviews</th>\n",
       "      <td>-0.000167</td>\n",
       "    </tr>\n",
       "    <tr>\n",
       "      <th>Review_Total_Positive_Word_Counts</th>\n",
       "      <td>0.044760</td>\n",
       "    </tr>\n",
       "  </tbody>\n",
       "</table>\n",
       "</div>\n",
       "      <button class=\"colab-df-convert\" onclick=\"convertToInteractive('df-09e23ecd-3108-44cc-a752-703baf04c714')\"\n",
       "              title=\"Convert this dataframe to an interactive table.\"\n",
       "              style=\"display:none;\">\n",
       "        \n",
       "  <svg xmlns=\"http://www.w3.org/2000/svg\" height=\"24px\"viewBox=\"0 0 24 24\"\n",
       "       width=\"24px\">\n",
       "    <path d=\"M0 0h24v24H0V0z\" fill=\"none\"/>\n",
       "    <path d=\"M18.56 5.44l.94 2.06.94-2.06 2.06-.94-2.06-.94-.94-2.06-.94 2.06-2.06.94zm-11 1L8.5 8.5l.94-2.06 2.06-.94-2.06-.94L8.5 2.5l-.94 2.06-2.06.94zm10 10l.94 2.06.94-2.06 2.06-.94-2.06-.94-.94-2.06-.94 2.06-2.06.94z\"/><path d=\"M17.41 7.96l-1.37-1.37c-.4-.4-.92-.59-1.43-.59-.52 0-1.04.2-1.43.59L10.3 9.45l-7.72 7.72c-.78.78-.78 2.05 0 2.83L4 21.41c.39.39.9.59 1.41.59.51 0 1.02-.2 1.41-.59l7.78-7.78 2.81-2.81c.8-.78.8-2.07 0-2.86zM5.41 20L4 18.59l7.72-7.72 1.47 1.35L5.41 20z\"/>\n",
       "  </svg>\n",
       "      </button>\n",
       "      \n",
       "  <style>\n",
       "    .colab-df-container {\n",
       "      display:flex;\n",
       "      flex-wrap:wrap;\n",
       "      gap: 12px;\n",
       "    }\n",
       "\n",
       "    .colab-df-convert {\n",
       "      background-color: #E8F0FE;\n",
       "      border: none;\n",
       "      border-radius: 50%;\n",
       "      cursor: pointer;\n",
       "      display: none;\n",
       "      fill: #1967D2;\n",
       "      height: 32px;\n",
       "      padding: 0 0 0 0;\n",
       "      width: 32px;\n",
       "    }\n",
       "\n",
       "    .colab-df-convert:hover {\n",
       "      background-color: #E2EBFA;\n",
       "      box-shadow: 0px 1px 2px rgba(60, 64, 67, 0.3), 0px 1px 3px 1px rgba(60, 64, 67, 0.15);\n",
       "      fill: #174EA6;\n",
       "    }\n",
       "\n",
       "    [theme=dark] .colab-df-convert {\n",
       "      background-color: #3B4455;\n",
       "      fill: #D2E3FC;\n",
       "    }\n",
       "\n",
       "    [theme=dark] .colab-df-convert:hover {\n",
       "      background-color: #434B5C;\n",
       "      box-shadow: 0px 1px 3px 1px rgba(0, 0, 0, 0.15);\n",
       "      filter: drop-shadow(0px 1px 2px rgba(0, 0, 0, 0.3));\n",
       "      fill: #FFFFFF;\n",
       "    }\n",
       "  </style>\n",
       "\n",
       "      <script>\n",
       "        const buttonEl =\n",
       "          document.querySelector('#df-09e23ecd-3108-44cc-a752-703baf04c714 button.colab-df-convert');\n",
       "        buttonEl.style.display =\n",
       "          google.colab.kernel.accessAllowed ? 'block' : 'none';\n",
       "\n",
       "        async function convertToInteractive(key) {\n",
       "          const element = document.querySelector('#df-09e23ecd-3108-44cc-a752-703baf04c714');\n",
       "          const dataTable =\n",
       "            await google.colab.kernel.invokeFunction('convertToInteractive',\n",
       "                                                     [key], {});\n",
       "          if (!dataTable) return;\n",
       "\n",
       "          const docLinkHtml = 'Like what you see? Visit the ' +\n",
       "            '<a target=\"_blank\" href=https://colab.research.google.com/notebooks/data_table.ipynb>data table notebook</a>'\n",
       "            + ' to learn more about interactive tables.';\n",
       "          element.innerHTML = '';\n",
       "          dataTable['output_type'] = 'display_data';\n",
       "          await google.colab.output.renderOutput(dataTable, element);\n",
       "          const docLink = document.createElement('div');\n",
       "          docLink.innerHTML = docLinkHtml;\n",
       "          element.appendChild(docLink);\n",
       "        }\n",
       "      </script>\n",
       "    </div>\n",
       "  </div>\n",
       "  "
      ],
      "text/plain": [
       "                                   coefficent\n",
       "Additional_Number_of_Scoring         0.000473\n",
       "Average_Score                        0.077899\n",
       "Review_Total_Negative_Word_Counts   -0.046972\n",
       "Total_Number_of_Reviews             -0.000167\n",
       "Review_Total_Positive_Word_Counts    0.044760"
      ]
     },
     "execution_count": 12,
     "metadata": {},
     "output_type": "execute_result"
    }
   ],
   "source": [
    "lm_coeff_df= pd.DataFrame(lm_model.coef_,columns = X_train.columns)\n",
    "lm_coeff_df=lm_coeff_df.T\n",
    "lm_coeff_df.columns =[\"coefficent\"]\n",
    "lm_coeff_df.head()"
   ]
  },
  {
   "cell_type": "markdown",
   "metadata": {
    "id": "G2fApPWUufNf"
   },
   "source": [
    "Filtering out the words most predictive with a postive review based on regression coefficient"
   ]
  },
  {
   "cell_type": "code",
   "execution_count": 13,
   "metadata": {
    "colab": {
     "base_uri": "https://localhost:8080/",
     "height": 174
    },
    "id": "8Ftwo6h7gywG",
    "outputId": "99d280a9-c85e-4e7d-dd69-30a367750d25"
   },
   "outputs": [
    {
     "data": {
      "text/html": [
       "\n",
       "  <div id=\"df-17378177-201a-4d20-9614-859953ae6bef\">\n",
       "    <div class=\"colab-df-container\">\n",
       "      <div>\n",
       "<style scoped>\n",
       "    .dataframe tbody tr th:only-of-type {\n",
       "        vertical-align: middle;\n",
       "    }\n",
       "\n",
       "    .dataframe tbody tr th {\n",
       "        vertical-align: top;\n",
       "    }\n",
       "\n",
       "    .dataframe thead th {\n",
       "        text-align: right;\n",
       "    }\n",
       "</style>\n",
       "<table border=\"1\" class=\"dataframe\">\n",
       "  <thead>\n",
       "    <tr style=\"text-align: right;\">\n",
       "      <th></th>\n",
       "      <th>p_staff</th>\n",
       "      <th>p_excellent</th>\n",
       "      <th>p_lovely</th>\n",
       "      <th>p_great</th>\n",
       "      <th>p_friendly</th>\n",
       "      <th>p_helpful</th>\n",
       "      <th>p_room</th>\n",
       "      <th>p_everything</th>\n",
       "      <th>p_hotel</th>\n",
       "      <th>p_amaze</th>\n",
       "      <th>...</th>\n",
       "      <th>p_fantastic</th>\n",
       "      <th>p_comfy</th>\n",
       "      <th>p_bed</th>\n",
       "      <th>p_love</th>\n",
       "      <th>p_perfect</th>\n",
       "      <th>p_service</th>\n",
       "      <th>p_beautiful</th>\n",
       "      <th>p_stay</th>\n",
       "      <th>p_really</th>\n",
       "      <th>p_facility</th>\n",
       "    </tr>\n",
       "  </thead>\n",
       "  <tbody>\n",
       "    <tr>\n",
       "      <th>coefficent</th>\n",
       "      <td>0.027357</td>\n",
       "      <td>0.016375</td>\n",
       "      <td>0.012891</td>\n",
       "      <td>0.012273</td>\n",
       "      <td>0.011797</td>\n",
       "      <td>0.010595</td>\n",
       "      <td>0.009284</td>\n",
       "      <td>0.009193</td>\n",
       "      <td>0.008794</td>\n",
       "      <td>0.006786</td>\n",
       "      <td>...</td>\n",
       "      <td>0.005545</td>\n",
       "      <td>0.005202</td>\n",
       "      <td>0.005017</td>\n",
       "      <td>0.004967</td>\n",
       "      <td>0.004788</td>\n",
       "      <td>0.004664</td>\n",
       "      <td>0.004159</td>\n",
       "      <td>0.004132</td>\n",
       "      <td>0.003418</td>\n",
       "      <td>0.003294</td>\n",
       "    </tr>\n",
       "  </tbody>\n",
       "</table>\n",
       "<p>1 rows × 21 columns</p>\n",
       "</div>\n",
       "      <button class=\"colab-df-convert\" onclick=\"convertToInteractive('df-17378177-201a-4d20-9614-859953ae6bef')\"\n",
       "              title=\"Convert this dataframe to an interactive table.\"\n",
       "              style=\"display:none;\">\n",
       "        \n",
       "  <svg xmlns=\"http://www.w3.org/2000/svg\" height=\"24px\"viewBox=\"0 0 24 24\"\n",
       "       width=\"24px\">\n",
       "    <path d=\"M0 0h24v24H0V0z\" fill=\"none\"/>\n",
       "    <path d=\"M18.56 5.44l.94 2.06.94-2.06 2.06-.94-2.06-.94-.94-2.06-.94 2.06-2.06.94zm-11 1L8.5 8.5l.94-2.06 2.06-.94-2.06-.94L8.5 2.5l-.94 2.06-2.06.94zm10 10l.94 2.06.94-2.06 2.06-.94-2.06-.94-.94-2.06-.94 2.06-2.06.94z\"/><path d=\"M17.41 7.96l-1.37-1.37c-.4-.4-.92-.59-1.43-.59-.52 0-1.04.2-1.43.59L10.3 9.45l-7.72 7.72c-.78.78-.78 2.05 0 2.83L4 21.41c.39.39.9.59 1.41.59.51 0 1.02-.2 1.41-.59l7.78-7.78 2.81-2.81c.8-.78.8-2.07 0-2.86zM5.41 20L4 18.59l7.72-7.72 1.47 1.35L5.41 20z\"/>\n",
       "  </svg>\n",
       "      </button>\n",
       "      \n",
       "  <style>\n",
       "    .colab-df-container {\n",
       "      display:flex;\n",
       "      flex-wrap:wrap;\n",
       "      gap: 12px;\n",
       "    }\n",
       "\n",
       "    .colab-df-convert {\n",
       "      background-color: #E8F0FE;\n",
       "      border: none;\n",
       "      border-radius: 50%;\n",
       "      cursor: pointer;\n",
       "      display: none;\n",
       "      fill: #1967D2;\n",
       "      height: 32px;\n",
       "      padding: 0 0 0 0;\n",
       "      width: 32px;\n",
       "    }\n",
       "\n",
       "    .colab-df-convert:hover {\n",
       "      background-color: #E2EBFA;\n",
       "      box-shadow: 0px 1px 2px rgba(60, 64, 67, 0.3), 0px 1px 3px 1px rgba(60, 64, 67, 0.15);\n",
       "      fill: #174EA6;\n",
       "    }\n",
       "\n",
       "    [theme=dark] .colab-df-convert {\n",
       "      background-color: #3B4455;\n",
       "      fill: #D2E3FC;\n",
       "    }\n",
       "\n",
       "    [theme=dark] .colab-df-convert:hover {\n",
       "      background-color: #434B5C;\n",
       "      box-shadow: 0px 1px 3px 1px rgba(0, 0, 0, 0.15);\n",
       "      filter: drop-shadow(0px 1px 2px rgba(0, 0, 0, 0.3));\n",
       "      fill: #FFFFFF;\n",
       "    }\n",
       "  </style>\n",
       "\n",
       "      <script>\n",
       "        const buttonEl =\n",
       "          document.querySelector('#df-17378177-201a-4d20-9614-859953ae6bef button.colab-df-convert');\n",
       "        buttonEl.style.display =\n",
       "          google.colab.kernel.accessAllowed ? 'block' : 'none';\n",
       "\n",
       "        async function convertToInteractive(key) {\n",
       "          const element = document.querySelector('#df-17378177-201a-4d20-9614-859953ae6bef');\n",
       "          const dataTable =\n",
       "            await google.colab.kernel.invokeFunction('convertToInteractive',\n",
       "                                                     [key], {});\n",
       "          if (!dataTable) return;\n",
       "\n",
       "          const docLinkHtml = 'Like what you see? Visit the ' +\n",
       "            '<a target=\"_blank\" href=https://colab.research.google.com/notebooks/data_table.ipynb>data table notebook</a>'\n",
       "            + ' to learn more about interactive tables.';\n",
       "          element.innerHTML = '';\n",
       "          dataTable['output_type'] = 'display_data';\n",
       "          await google.colab.output.renderOutput(dataTable, element);\n",
       "          const docLink = document.createElement('div');\n",
       "          docLink.innerHTML = docLinkHtml;\n",
       "          element.appendChild(docLink);\n",
       "        }\n",
       "      </script>\n",
       "    </div>\n",
       "  </div>\n",
       "  "
      ],
      "text/plain": [
       "             p_staff  p_excellent  p_lovely   p_great  p_friendly  p_helpful  \\\n",
       "coefficent  0.027357     0.016375  0.012891  0.012273    0.011797   0.010595   \n",
       "\n",
       "              p_room  p_everything   p_hotel   p_amaze  ...  p_fantastic  \\\n",
       "coefficent  0.009284      0.009193  0.008794  0.006786  ...     0.005545   \n",
       "\n",
       "             p_comfy     p_bed    p_love  p_perfect  p_service  p_beautiful  \\\n",
       "coefficent  0.005202  0.005017  0.004967   0.004788   0.004664     0.004159   \n",
       "\n",
       "              p_stay  p_really  p_facility  \n",
       "coefficent  0.004132  0.003418    0.003294  \n",
       "\n",
       "[1 rows x 21 columns]"
      ]
     },
     "execution_count": 13,
     "metadata": {},
     "output_type": "execute_result"
    }
   ],
   "source": [
    "postive_words = lm_coeff_df.loc[lm_coeff_df.index.str.contains('^p_[a-z].')]\n",
    "top_20_postive_words = postive_words.sort_values(by=\"coefficent\",ascending =False).head(21)\n",
    "top_20_postive_words.T"
   ]
  },
  {
   "cell_type": "markdown",
   "metadata": {
    "id": "bfFaUKxrIwLe"
   },
   "source": [
    "Visualizing the Top 20 postive words based on their regression coefficient"
   ]
  },
  {
   "cell_type": "code",
   "execution_count": 14,
   "metadata": {
    "colab": {
     "base_uri": "https://localhost:8080/",
     "height": 277
    },
    "id": "pPPdegAMIdhZ",
    "outputId": "b0c38e64-e97b-4843-be76-dd13aba1bfc8"
   },
   "outputs": [
    {
     "data": {
      "image/png": "[encoded data removed]",
      "text/plain": [
       "<Figure size 1440x360 with 1 Axes>"
      ]
     },
     "metadata": {
      "needs_background": "light"
     },
     "output_type": "display_data"
    }
   ],
   "source": [
    "top_20_postive_words.plot(kind=\"bar\",figsize=(20,5))\n",
    "plt.xlabel('words most predictive with a negative review')\n",
    "plt.ylabel(\"Coefficient\")\n",
    "plt.title(\"Top 20 words most predictive of a good review based on regression coefficients\")\n",
    "plt.show()"
   ]
  },
  {
   "cell_type": "markdown",
   "metadata": {
    "id": "cMri4DkSzgAu"
   },
   "source": [
    "Filtering out the words most predictive with a bad review based on regression coefficient"
   ]
  },
  {
   "cell_type": "code",
   "execution_count": 15,
   "metadata": {
    "colab": {
     "base_uri": "https://localhost:8080/",
     "height": 174
    },
    "id": "V0ifrnzNhUqc",
    "outputId": "b1abea9a-0cb6-4cfd-e87f-340b0982d1a5"
   },
   "outputs": [
    {
     "data": {
      "text/html": [
       "\n",
       "  <div id=\"df-8626726f-3e9b-49e6-bbad-69d74c35febb\">\n",
       "    <div class=\"colab-df-container\">\n",
       "      <div>\n",
       "<style scoped>\n",
       "    .dataframe tbody tr th:only-of-type {\n",
       "        vertical-align: middle;\n",
       "    }\n",
       "\n",
       "    .dataframe tbody tr th {\n",
       "        vertical-align: top;\n",
       "    }\n",
       "\n",
       "    .dataframe thead th {\n",
       "        text-align: right;\n",
       "    }\n",
       "</style>\n",
       "<table border=\"1\" class=\"dataframe\">\n",
       "  <thead>\n",
       "    <tr style=\"text-align: right;\">\n",
       "      <th></th>\n",
       "      <th>n_negative</th>\n",
       "      <th>n_nothing</th>\n",
       "      <th>n_would</th>\n",
       "      <th>n_however</th>\n",
       "      <th>n_great</th>\n",
       "      <th>n_could</th>\n",
       "      <th>n_day</th>\n",
       "      <th>n_park</th>\n",
       "      <th>n_thing</th>\n",
       "      <th>n_like</th>\n",
       "      <th>...</th>\n",
       "      <th>n_go</th>\n",
       "      <th>n_drink</th>\n",
       "      <th>n_nice</th>\n",
       "      <th>n_table</th>\n",
       "      <th>n_think</th>\n",
       "      <th>n_breakfast</th>\n",
       "      <th>n_tea</th>\n",
       "      <th>n_say</th>\n",
       "      <th>n_stay</th>\n",
       "      <th>n_ask</th>\n",
       "    </tr>\n",
       "  </thead>\n",
       "  <tbody>\n",
       "    <tr>\n",
       "      <th>coefficent</th>\n",
       "      <td>0.02482</td>\n",
       "      <td>0.016881</td>\n",
       "      <td>0.007062</td>\n",
       "      <td>0.002646</td>\n",
       "      <td>0.002481</td>\n",
       "      <td>0.00247</td>\n",
       "      <td>0.002447</td>\n",
       "      <td>0.002305</td>\n",
       "      <td>0.002132</td>\n",
       "      <td>0.002053</td>\n",
       "      <td>...</td>\n",
       "      <td>0.001987</td>\n",
       "      <td>0.001974</td>\n",
       "      <td>0.001864</td>\n",
       "      <td>0.001838</td>\n",
       "      <td>0.001803</td>\n",
       "      <td>0.001721</td>\n",
       "      <td>0.001671</td>\n",
       "      <td>0.001637</td>\n",
       "      <td>0.00153</td>\n",
       "      <td>0.001506</td>\n",
       "    </tr>\n",
       "  </tbody>\n",
       "</table>\n",
       "<p>1 rows × 21 columns</p>\n",
       "</div>\n",
       "      <button class=\"colab-df-convert\" onclick=\"convertToInteractive('df-8626726f-3e9b-49e6-bbad-69d74c35febb')\"\n",
       "              title=\"Convert this dataframe to an interactive table.\"\n",
       "              style=\"display:none;\">\n",
       "        \n",
       "  <svg xmlns=\"http://www.w3.org/2000/svg\" height=\"24px\"viewBox=\"0 0 24 24\"\n",
       "       width=\"24px\">\n",
       "    <path d=\"M0 0h24v24H0V0z\" fill=\"none\"/>\n",
       "    <path d=\"M18.56 5.44l.94 2.06.94-2.06 2.06-.94-2.06-.94-.94-2.06-.94 2.06-2.06.94zm-11 1L8.5 8.5l.94-2.06 2.06-.94-2.06-.94L8.5 2.5l-.94 2.06-2.06.94zm10 10l.94 2.06.94-2.06 2.06-.94-2.06-.94-.94-2.06-.94 2.06-2.06.94z\"/><path d=\"M17.41 7.96l-1.37-1.37c-.4-.4-.92-.59-1.43-.59-.52 0-1.04.2-1.43.59L10.3 9.45l-7.72 7.72c-.78.78-.78 2.05 0 2.83L4 21.41c.39.39.9.59 1.41.59.51 0 1.02-.2 1.41-.59l7.78-7.78 2.81-2.81c.8-.78.8-2.07 0-2.86zM5.41 20L4 18.59l7.72-7.72 1.47 1.35L5.41 20z\"/>\n",
       "  </svg>\n",
       "      </button>\n",
       "      \n",
       "  <style>\n",
       "    .colab-df-container {\n",
       "      display:flex;\n",
       "      flex-wrap:wrap;\n",
       "      gap: 12px;\n",
       "    }\n",
       "\n",
       "    .colab-df-convert {\n",
       "      background-color: #E8F0FE;\n",
       "      border: none;\n",
       "      border-radius: 50%;\n",
       "      cursor: pointer;\n",
       "      display: none;\n",
       "      fill: #1967D2;\n",
       "      height: 32px;\n",
       "      padding: 0 0 0 0;\n",
       "      width: 32px;\n",
       "    }\n",
       "\n",
       "    .colab-df-convert:hover {\n",
       "      background-color: #E2EBFA;\n",
       "      box-shadow: 0px 1px 2px rgba(60, 64, 67, 0.3), 0px 1px 3px 1px rgba(60, 64, 67, 0.15);\n",
       "      fill: #174EA6;\n",
       "    }\n",
       "\n",
       "    [theme=dark] .colab-df-convert {\n",
       "      background-color: #3B4455;\n",
       "      fill: #D2E3FC;\n",
       "    }\n",
       "\n",
       "    [theme=dark] .colab-df-convert:hover {\n",
       "      background-color: #434B5C;\n",
       "      box-shadow: 0px 1px 3px 1px rgba(0, 0, 0, 0.15);\n",
       "      filter: drop-shadow(0px 1px 2px rgba(0, 0, 0, 0.3));\n",
       "      fill: #FFFFFF;\n",
       "    }\n",
       "  </style>\n",
       "\n",
       "      <script>\n",
       "        const buttonEl =\n",
       "          document.querySelector('#df-8626726f-3e9b-49e6-bbad-69d74c35febb button.colab-df-convert');\n",
       "        buttonEl.style.display =\n",
       "          google.colab.kernel.accessAllowed ? 'block' : 'none';\n",
       "\n",
       "        async function convertToInteractive(key) {\n",
       "          const element = document.querySelector('#df-8626726f-3e9b-49e6-bbad-69d74c35febb');\n",
       "          const dataTable =\n",
       "            await google.colab.kernel.invokeFunction('convertToInteractive',\n",
       "                                                     [key], {});\n",
       "          if (!dataTable) return;\n",
       "\n",
       "          const docLinkHtml = 'Like what you see? Visit the ' +\n",
       "            '<a target=\"_blank\" href=https://colab.research.google.com/notebooks/data_table.ipynb>data table notebook</a>'\n",
       "            + ' to learn more about interactive tables.';\n",
       "          element.innerHTML = '';\n",
       "          dataTable['output_type'] = 'display_data';\n",
       "          await google.colab.output.renderOutput(dataTable, element);\n",
       "          const docLink = document.createElement('div');\n",
       "          docLink.innerHTML = docLinkHtml;\n",
       "          element.appendChild(docLink);\n",
       "        }\n",
       "      </script>\n",
       "    </div>\n",
       "  </div>\n",
       "  "
      ],
      "text/plain": [
       "            n_negative  n_nothing   n_would  n_however   n_great  n_could  \\\n",
       "coefficent     0.02482   0.016881  0.007062   0.002646  0.002481  0.00247   \n",
       "\n",
       "               n_day    n_park   n_thing    n_like  ...      n_go   n_drink  \\\n",
       "coefficent  0.002447  0.002305  0.002132  0.002053  ...  0.001987  0.001974   \n",
       "\n",
       "              n_nice   n_table   n_think  n_breakfast     n_tea     n_say  \\\n",
       "coefficent  0.001864  0.001838  0.001803     0.001721  0.001671  0.001637   \n",
       "\n",
       "             n_stay     n_ask  \n",
       "coefficent  0.00153  0.001506  \n",
       "\n",
       "[1 rows x 21 columns]"
      ]
     },
     "execution_count": 15,
     "metadata": {},
     "output_type": "execute_result"
    }
   ],
   "source": [
    "negative_words = lm_coeff_df.loc[lm_coeff_df.index.str.contains('^n_[a-z].')]\n",
    "top_20_negative_words = negative_words.sort_values(by=\"coefficent\",ascending =False).head(21)\n",
    "top_20_negative_words.T\n"
   ]
  },
  {
   "cell_type": "markdown",
   "metadata": {
    "id": "UYvhboooI-2Q"
   },
   "source": [
    "Visualizing the Top 20 Negative words based on their regression coefficient"
   ]
  },
  {
   "cell_type": "code",
   "execution_count": 16,
   "metadata": {
    "colab": {
     "base_uri": "https://localhost:8080/",
     "height": 268
    },
    "id": "FlzMzsO8IO3e",
    "outputId": "d8585705-d750-4bd1-de27-bf9c3b70e940"
   },
   "outputs": [
    {
     "data": {
      "image/png": "[encoded data removed]",
      "text/plain": [
       "<Figure size 1440x360 with 1 Axes>"
      ]
     },
     "metadata": {
      "needs_background": "light"
     },
     "output_type": "display_data"
    }
   ],
   "source": [
    "top_20_negative_words.plot(kind=\"bar\",figsize=(20,5))\n",
    "plt.xlabel('words most predictive with a bad review')\n",
    "plt.ylabel(\"Coefficient\")\n",
    "plt.title(\"Top 20 words most predictive of a bad review based on regression coefficients\")\n",
    "plt.show()"
   ]
  },
  {
   "cell_type": "markdown",
   "metadata": {
    "id": "bRU-IxbQUD99"
   },
   "source": [
    "**Note**<br>\n",
    "Based on the above two visuals for top 20 words most predictive with a positive review as well negative review, it was observed that there are certain words like `staff` ,`would`, `could`, `day`, `room`, `hotel` etc. occur very frequently which can be used independently for both the positive and negative review categories. Therefore it can be treated as **Stop Word** and dropped from the corpus"
   ]
  },
  {
   "cell_type": "markdown",
   "metadata": {
    "id": "aFtsyqqC1AUx"
   },
   "source": [
    "##### **Reduce the dimensionality of the dataset using PCA, what is the relationship between the number of dimensions and run-time for a logistic regression?**"
   ]
  },
  {
   "cell_type": "code",
   "execution_count": 17,
   "metadata": {
    "id": "7aEF8v1f1IEU"
   },
   "outputs": [],
   "source": [
    "# importing the PCA Library\n",
    "from sklearn.decomposition import PCA\n",
    "from sklearn.preprocessing import StandardScaler\n",
    "import time"
   ]
  },
  {
   "cell_type": "markdown",
   "metadata": {
    "id": "HxJhgcDrgFnB"
   },
   "source": [
    "###### calculating the run-time of logistisc regression model using  range of `n-componenet` values"
   ]
  },
  {
   "cell_type": "markdown",
   "metadata": {
    "id": "R2QzAubCi6k9"
   },
   "source": [
    "Function to return the run time of the logistic regression "
   ]
  },
  {
   "cell_type": "code",
   "execution_count": 18,
   "metadata": {
    "id": "rkUeFWPZjIVF"
   },
   "outputs": [],
   "source": [
    "def lm_run_time(X_train,y_train,X_test,y_text):\n",
    "  # get the start time\n",
    "  st = time.time()\n",
    "  lm_model = LogisticRegression()\n",
    "  lm_model.fit(X_train,y_train)\n",
    "  score = lm_model.score(X_test,y_text)\n",
    "\n",
    "  # get the start time\n",
    "  et = time.time()\n",
    "\n",
    "  # Calculating the runtime \n",
    "  runtime = et-st\n",
    "  result = (score,runtime)\n",
    "  return result"
   ]
  },
  {
   "cell_type": "markdown",
   "metadata": {
    "id": "447NTJrZwtc1"
   },
   "source": [
    "Scaling the Data"
   ]
  },
  {
   "cell_type": "code",
   "execution_count": 19,
   "metadata": {
    "id": "H8ta-mlAwsAs"
   },
   "outputs": [],
   "source": [
    "# Scale Data\n",
    "scaler = StandardScaler()\n",
    "scaler.fit(X_train)\n",
    "X_train_scaled = scaler.transform(X_train)\n",
    "X_test_scaled = scaler.transform(X_test)"
   ]
  },
  {
   "cell_type": "markdown",
   "metadata": {
    "id": "6hRHvMRyk3y0"
   },
   "source": [
    "Calculating  run time using range of 'n' number of PC"
   ]
  },
  {
   "cell_type": "code",
   "execution_count": 20,
   "metadata": {
    "id": "zdfcCh7ffshV"
   },
   "outputs": [],
   "source": [
    "# Create the n_component range between 0.05 - 1 variance\n",
    "n_components_range = list(np.linspace(0.05,0.95,19))\n",
    "n_components_range=[ round(elem, 2) for elem in n_components_range ]\n",
    "n_components_range.append(1)\n",
    "\n",
    "run_time_lm =[]\n",
    "score_lm =[]\n",
    "n_components_=[]\n",
    "\n",
    "for n in n_components_range:\n",
    "  my_PCA = PCA(n_components=n)\n",
    " \n",
    "  # transform data \n",
    "  X_train_PCA = my_PCA.fit_transform(X_train_scaled)\n",
    "  X_test_PCA = my_PCA.transform(X_test_scaled)\n",
    "  n_components_.append(len(my_PCA.explained_variance_ratio_))\n",
    "\n",
    "  # calculating the run time after appliying  pca on the dataset\n",
    "  score, run_time = lm_run_time(X_train_PCA,y_train,X_test_PCA,y_test)\n",
    "  score_lm.append(score)\n",
    "  run_time_lm.append(run_time)\n"
   ]
  },
  {
   "cell_type": "markdown",
   "metadata": {
    "id": "CzP5A-DRRFey"
   },
   "source": [
    "Converting the results into dataframe and visualized tha  n-components with respect to runtime"
   ]
  },
  {
   "cell_type": "code",
   "execution_count": 21,
   "metadata": {
    "colab": {
     "base_uri": "https://localhost:8080/",
     "height": 206
    },
    "id": "xA7aYPaSONXR",
    "outputId": "4cd82f56-151d-41cb-c9ae-11517723eaf7"
   },
   "outputs": [
    {
     "data": {
      "text/html": [
       "\n",
       "  <div id=\"df-778597bf-209c-4880-bc62-767f8aebe05a\">\n",
       "    <div class=\"colab-df-container\">\n",
       "      <div>\n",
       "<style scoped>\n",
       "    .dataframe tbody tr th:only-of-type {\n",
       "        vertical-align: middle;\n",
       "    }\n",
       "\n",
       "    .dataframe tbody tr th {\n",
       "        vertical-align: top;\n",
       "    }\n",
       "\n",
       "    .dataframe thead th {\n",
       "        text-align: right;\n",
       "    }\n",
       "</style>\n",
       "<table border=\"1\" class=\"dataframe\">\n",
       "  <thead>\n",
       "    <tr style=\"text-align: right;\">\n",
       "      <th></th>\n",
       "      <th>variance</th>\n",
       "      <th>n_components</th>\n",
       "      <th>runtime</th>\n",
       "      <th>accuracy_Score</th>\n",
       "    </tr>\n",
       "  </thead>\n",
       "  <tbody>\n",
       "    <tr>\n",
       "      <th>0</th>\n",
       "      <td>0.05</td>\n",
       "      <td>27</td>\n",
       "      <td>0.059919</td>\n",
       "      <td>0.776892</td>\n",
       "    </tr>\n",
       "    <tr>\n",
       "      <th>1</th>\n",
       "      <td>0.10</td>\n",
       "      <td>70</td>\n",
       "      <td>0.059765</td>\n",
       "      <td>0.774783</td>\n",
       "    </tr>\n",
       "    <tr>\n",
       "      <th>2</th>\n",
       "      <td>0.15</td>\n",
       "      <td>120</td>\n",
       "      <td>0.076069</td>\n",
       "      <td>0.780642</td>\n",
       "    </tr>\n",
       "    <tr>\n",
       "      <th>3</th>\n",
       "      <td>0.20</td>\n",
       "      <td>177</td>\n",
       "      <td>0.090045</td>\n",
       "      <td>0.780642</td>\n",
       "    </tr>\n",
       "    <tr>\n",
       "      <th>4</th>\n",
       "      <td>0.25</td>\n",
       "      <td>240</td>\n",
       "      <td>0.084241</td>\n",
       "      <td>0.782751</td>\n",
       "    </tr>\n",
       "  </tbody>\n",
       "</table>\n",
       "</div>\n",
       "      <button class=\"colab-df-convert\" onclick=\"convertToInteractive('df-778597bf-209c-4880-bc62-767f8aebe05a')\"\n",
       "              title=\"Convert this dataframe to an interactive table.\"\n",
       "              style=\"display:none;\">\n",
       "        \n",
       "  <svg xmlns=\"http://www.w3.org/2000/svg\" height=\"24px\"viewBox=\"0 0 24 24\"\n",
       "       width=\"24px\">\n",
       "    <path d=\"M0 0h24v24H0V0z\" fill=\"none\"/>\n",
       "    <path d=\"M18.56 5.44l.94 2.06.94-2.06 2.06-.94-2.06-.94-.94-2.06-.94 2.06-2.06.94zm-11 1L8.5 8.5l.94-2.06 2.06-.94-2.06-.94L8.5 2.5l-.94 2.06-2.06.94zm10 10l.94 2.06.94-2.06 2.06-.94-2.06-.94-.94-2.06-.94 2.06-2.06.94z\"/><path d=\"M17.41 7.96l-1.37-1.37c-.4-.4-.92-.59-1.43-.59-.52 0-1.04.2-1.43.59L10.3 9.45l-7.72 7.72c-.78.78-.78 2.05 0 2.83L4 21.41c.39.39.9.59 1.41.59.51 0 1.02-.2 1.41-.59l7.78-7.78 2.81-2.81c.8-.78.8-2.07 0-2.86zM5.41 20L4 18.59l7.72-7.72 1.47 1.35L5.41 20z\"/>\n",
       "  </svg>\n",
       "      </button>\n",
       "      \n",
       "  <style>\n",
       "    .colab-df-container {\n",
       "      display:flex;\n",
       "      flex-wrap:wrap;\n",
       "      gap: 12px;\n",
       "    }\n",
       "\n",
       "    .colab-df-convert {\n",
       "      background-color: #E8F0FE;\n",
       "      border: none;\n",
       "      border-radius: 50%;\n",
       "      cursor: pointer;\n",
       "      display: none;\n",
       "      fill: #1967D2;\n",
       "      height: 32px;\n",
       "      padding: 0 0 0 0;\n",
       "      width: 32px;\n",
       "    }\n",
       "\n",
       "    .colab-df-convert:hover {\n",
       "      background-color: #E2EBFA;\n",
       "      box-shadow: 0px 1px 2px rgba(60, 64, 67, 0.3), 0px 1px 3px 1px rgba(60, 64, 67, 0.15);\n",
       "      fill: #174EA6;\n",
       "    }\n",
       "\n",
       "    [theme=dark] .colab-df-convert {\n",
       "      background-color: #3B4455;\n",
       "      fill: #D2E3FC;\n",
       "    }\n",
       "\n",
       "    [theme=dark] .colab-df-convert:hover {\n",
       "      background-color: #434B5C;\n",
       "      box-shadow: 0px 1px 3px 1px rgba(0, 0, 0, 0.15);\n",
       "      filter: drop-shadow(0px 1px 2px rgba(0, 0, 0, 0.3));\n",
       "      fill: #FFFFFF;\n",
       "    }\n",
       "  </style>\n",
       "\n",
       "      <script>\n",
       "        const buttonEl =\n",
       "          document.querySelector('#df-778597bf-209c-4880-bc62-767f8aebe05a button.colab-df-convert');\n",
       "        buttonEl.style.display =\n",
       "          google.colab.kernel.accessAllowed ? 'block' : 'none';\n",
       "\n",
       "        async function convertToInteractive(key) {\n",
       "          const element = document.querySelector('#df-778597bf-209c-4880-bc62-767f8aebe05a');\n",
       "          const dataTable =\n",
       "            await google.colab.kernel.invokeFunction('convertToInteractive',\n",
       "                                                     [key], {});\n",
       "          if (!dataTable) return;\n",
       "\n",
       "          const docLinkHtml = 'Like what you see? Visit the ' +\n",
       "            '<a target=\"_blank\" href=https://colab.research.google.com/notebooks/data_table.ipynb>data table notebook</a>'\n",
       "            + ' to learn more about interactive tables.';\n",
       "          element.innerHTML = '';\n",
       "          dataTable['output_type'] = 'display_data';\n",
       "          await google.colab.output.renderOutput(dataTable, element);\n",
       "          const docLink = document.createElement('div');\n",
       "          docLink.innerHTML = docLinkHtml;\n",
       "          element.appendChild(docLink);\n",
       "        }\n",
       "      </script>\n",
       "    </div>\n",
       "  </div>\n",
       "  "
      ],
      "text/plain": [
       "   variance  n_components   runtime  accuracy_Score\n",
       "0      0.05            27  0.059919        0.776892\n",
       "1      0.10            70  0.059765        0.774783\n",
       "2      0.15           120  0.076069        0.780642\n",
       "3      0.20           177  0.090045        0.780642\n",
       "4      0.25           240  0.084241        0.782751"
      ]
     },
     "execution_count": 21,
     "metadata": {},
     "output_type": "execute_result"
    }
   ],
   "source": [
    "lm_analysis = pd.DataFrame({\"variance\":n_components_range,\n",
    "                            \"n_components\":n_components_,\n",
    "                            \"runtime\":run_time_lm,\n",
    "                            \"accuracy_Score\":score_lm,\n",
    "                            })\n",
    "lm_analysis.head()"
   ]
  },
  {
   "cell_type": "code",
   "execution_count": 22,
   "metadata": {
    "colab": {
     "base_uri": "https://localhost:8080/",
     "height": 239
    },
    "id": "hh3ldxQDIPpA",
    "outputId": "c0e2a0af-6a63-46a3-ff59-c6076642b1a5"
   },
   "outputs": [
    {
     "data": {
      "image/png": "[encoded data removed]",
      "text/plain": [
       "<Figure size 1440x360 with 1 Axes>"
      ]
     },
     "metadata": {
      "needs_background": "light"
     },
     "output_type": "display_data"
    }
   ],
   "source": [
    "# Ploting the runtime with repsect to n components value in the range of 0-1\n",
    "plt.figure(figsize=(20,5))\n",
    "sns.lineplot(data =lm_analysis,x=\"n_components\",y=\"runtime\",marker =\"*\" , color=\"red\")\n",
    "plt.xlabel(\"Number of PCs\")\n",
    "plt.ylabel(\"Run time (s)\")\n",
    "plt.title(\"Run time Vs n-components \")\n",
    "for index, row in lm_analysis.iterrows():\n",
    "  if index % 3 ==0:\n",
    "    text = f'Var% : {row[\"variance\"]}\\n score:{ round(row[\"accuracy_Score\"],3)}'\n",
    "    plt.annotate(text, (row['n_components'],row['runtime']+.25))\n",
    "plt.show()\n"
   ]
  },
  {
   "cell_type": "markdown",
   "metadata": {
    "id": "4EyYNsKURMqX"
   },
   "source": [
    "Based on the above line plot , it can be concluded that the run time increase with the increase in the number of Principal components,however there is no significant increase in the model score"
   ]
  },
  {
   "cell_type": "markdown",
   "metadata": {
    "id": "JBeJHw6O2B1g"
   },
   "source": [
    "##### **List one advantage and one disadvantage of dimensionality reduction**"
   ]
  },
  {
   "cell_type": "markdown",
   "metadata": {
    "id": "1NfWJYzzYmpo"
   },
   "source": [
    "Exploring the Correlation between features "
   ]
  },
  {
   "cell_type": "code",
   "execution_count": 23,
   "metadata": {
    "colab": {
     "base_uri": "https://localhost:8080/",
     "height": 335
    },
    "id": "IRZn5NRMKx1C",
    "outputId": "7ad32508-b911-4101-a40e-32d38c49ca98"
   },
   "outputs": [
    {
     "data": {
      "image/png": "[encoded data removed]",
      "text/plain": [
       "<Figure size 1440x360 with 4 Axes>"
      ]
     },
     "metadata": {
      "needs_background": "light"
     },
     "output_type": "display_data"
    }
   ],
   "source": [
    "my_PCA = PCA(n_components=10)\n",
    "X_train_PCA = my_PCA.fit_transform(X_train_scaled)\n",
    "X_train_scaled_df = pd.DataFrame(X_train_PCA)\n",
    "plt.subplots(1,2,figsize=(20,5))\n",
    "\n",
    "plt.subplot(1,2,1)\n",
    "sns.heatmap(X_train.iloc[:,0:10].corr())\n",
    "plt.title(\"Correlation matrix before appling PCA\")\n",
    "\n",
    "plt.subplot(1,2,2)\n",
    "sns.heatmap(X_train_scaled_df.corr())\n",
    "plt.title(\"Correlation matrix after appling PCA\")\n",
    "plt.show()"
   ]
  },
  {
   "cell_type": "markdown",
   "metadata": {
    "id": "LVU8ON0KwZXi"
   },
   "source": [
    "Advantage:\n",
    "- As per the correlation matrix  of the data set before and after applying pca , it can be concluded that the reducing the dimensionality of the dataset using PCA,helps to reduce the correlation between the features and therefore it can be treated independent to each other .It also reduces the runtime of the model as observed in `Runtime vs n_components` plot.\n",
    " \n",
    "Disadvantage:\n",
    "- As observed in the `Runtime vs n_components` plot ,the score increases with the increase in the number of principal components. This leads to  the conclusion that though Principal Components tries to cover maximum variance among the features in a dataset, it may miss some information as compared to the original list of features which eventually  impacts the model score."
   ]
  },
  {
   "cell_type": "markdown",
   "metadata": {
    "id": "t4-ni0XQD-ju"
   },
   "source": [
    "#### **Employ a K-Nearest Neighbour classifier on this dataset:**"
   ]
  },
  {
   "cell_type": "code",
   "execution_count": 24,
   "metadata": {
    "id": "kaPZWWSADEnt"
   },
   "outputs": [],
   "source": [
    "from sklearn.neighbors import KNeighborsClassifier"
   ]
  },
  {
   "cell_type": "markdown",
   "metadata": {
    "id": "-ddMPkOOzlc2"
   },
   "source": [
    "###### **Fit a KNN model to this data. What is the accuracy score on the test set?**"
   ]
  },
  {
   "cell_type": "code",
   "execution_count": 25,
   "metadata": {
    "colab": {
     "base_uri": "https://localhost:8080/"
    },
    "id": "NIZ_IlHRJoeF",
    "outputId": "bb887d69-28bb-406d-dd5b-fadf3b3bb8ee"
   },
   "outputs": [
    {
     "name": "stdout",
     "output_type": "stream",
     "text": [
      "The accuracy score : 0.6367471291305367\n"
     ]
    }
   ],
   "source": [
    "KNN_model = KNeighborsClassifier(n_neighbors=5)\n",
    "KNN_model.fit(X_train_scaled, y_train)\n",
    "score = KNN_model.score(X_test_scaled,y_test)\n",
    "print(f\"The accuracy score : {score}\")"
   ]
  },
  {
   "cell_type": "markdown",
   "metadata": {
    "id": "hIdNwwNHWR02"
   },
   "source": [
    "For the KNN model,the accuracy score on the test set is 0.64%"
   ]
  },
  {
   "cell_type": "markdown",
   "metadata": {
    "id": "KJKxlUUMz0aN"
   },
   "source": [
    "###### **KNN is a computationally expensive model. Reduce the number of observations (data points) in the dataset.What is the relationship between the number of observations and run-time for KNN?**"
   ]
  },
  {
   "cell_type": "markdown",
   "metadata": {
    "id": "v5Ia8BQS4iic"
   },
   "source": [
    "Function to calculate the model computation time "
   ]
  },
  {
   "cell_type": "code",
   "execution_count": 26,
   "metadata": {
    "id": "qcWpxDlYuUlS"
   },
   "outputs": [],
   "source": [
    "def knn_run_time(X_train,y_train,X_test,y_text):\n",
    "  # get the start time\n",
    "  st = time.time()\n",
    "  KNN_model = KNeighborsClassifier(n_neighbors=5)\n",
    "  KNN_model.fit(X_train,y_train)\n",
    "  score_train = KNN_model.score(X_train,y_train)\n",
    "  score_test = KNN_model.score(X_test,y_text)\n",
    "\n",
    "  # get the start time\n",
    "  et = time.time()\n",
    "\n",
    "  # Calculating the runtime \n",
    "  runtime = et-st\n",
    "  result =(score_train,score_test,runtime)\n",
    "  return result"
   ]
  },
  {
   "cell_type": "markdown",
   "metadata": {
    "id": "4TkaPTEuWgxy"
   },
   "source": [
    "Calculating the model run time with different data size"
   ]
  },
  {
   "cell_type": "code",
   "execution_count": 27,
   "metadata": {
    "id": "H5ZvTiY-4GIl"
   },
   "outputs": [],
   "source": [
    "# Percentage of Data Reduction \n",
    "data_reduction_percentage = list(range(10,100,10))\n",
    "run_time_knn =[]\n",
    "score_train_knn =[]\n",
    "score_test_knn =[]\n",
    "sample_size_=[]\n",
    "\n",
    "for n in data_reduction_percentage:\n",
    "  # transform data \n",
    "  sample_size = int(len(X_train_scaled)*n/100)\n",
    "  sample_size_.append(sample_size)\n",
    "  X_train_sample =X_train_scaled[0:sample_size]\n",
    "\n",
    "  # calculating the run time after appliying  pca on the dataset\n",
    "  score_train,score_test,run_time = knn_run_time(X_train_sample,y_train[0:sample_size],X_test_scaled,y_test)\n",
    "\n",
    "  score_train_knn.append(score_train)\n",
    "  score_test_knn.append(score_test)\n",
    "  run_time_knn.append(run_time)"
   ]
  },
  {
   "cell_type": "code",
   "execution_count": 28,
   "metadata": {
    "colab": {
     "base_uri": "https://localhost:8080/",
     "height": 206
    },
    "id": "KEO-Y8GoIjjF",
    "outputId": "6c8e2118-e841-4052-83a3-c150a8069230"
   },
   "outputs": [
    {
     "data": {
      "text/html": [
       "\n",
       "  <div id=\"df-d238271f-b5ce-4a81-9ec8-c94a5666764e\">\n",
       "    <div class=\"colab-df-container\">\n",
       "      <div>\n",
       "<style scoped>\n",
       "    .dataframe tbody tr th:only-of-type {\n",
       "        vertical-align: middle;\n",
       "    }\n",
       "\n",
       "    .dataframe tbody tr th {\n",
       "        vertical-align: top;\n",
       "    }\n",
       "\n",
       "    .dataframe thead th {\n",
       "        text-align: right;\n",
       "    }\n",
       "</style>\n",
       "<table border=\"1\" class=\"dataframe\">\n",
       "  <thead>\n",
       "    <tr style=\"text-align: right;\">\n",
       "      <th></th>\n",
       "      <th>data_set_size</th>\n",
       "      <th>sample_size</th>\n",
       "      <th>runtime</th>\n",
       "      <th>accuracy_Score_train</th>\n",
       "      <th>accuracy_Score_test</th>\n",
       "    </tr>\n",
       "  </thead>\n",
       "  <tbody>\n",
       "    <tr>\n",
       "      <th>0</th>\n",
       "      <td>10</td>\n",
       "      <td>1279</td>\n",
       "      <td>0.997327</td>\n",
       "      <td>0.814699</td>\n",
       "      <td>0.655261</td>\n",
       "    </tr>\n",
       "    <tr>\n",
       "      <th>1</th>\n",
       "      <td>20</td>\n",
       "      <td>2559</td>\n",
       "      <td>2.291378</td>\n",
       "      <td>0.772177</td>\n",
       "      <td>0.660183</td>\n",
       "    </tr>\n",
       "    <tr>\n",
       "      <th>2</th>\n",
       "      <td>30</td>\n",
       "      <td>3839</td>\n",
       "      <td>4.642965</td>\n",
       "      <td>0.760615</td>\n",
       "      <td>0.650340</td>\n",
       "    </tr>\n",
       "    <tr>\n",
       "      <th>3</th>\n",
       "      <td>40</td>\n",
       "      <td>5119</td>\n",
       "      <td>5.626485</td>\n",
       "      <td>0.773589</td>\n",
       "      <td>0.646824</td>\n",
       "    </tr>\n",
       "    <tr>\n",
       "      <th>4</th>\n",
       "      <td>50</td>\n",
       "      <td>6399</td>\n",
       "      <td>5.626257</td>\n",
       "      <td>0.747461</td>\n",
       "      <td>0.641200</td>\n",
       "    </tr>\n",
       "  </tbody>\n",
       "</table>\n",
       "</div>\n",
       "      <button class=\"colab-df-convert\" onclick=\"convertToInteractive('df-d238271f-b5ce-4a81-9ec8-c94a5666764e')\"\n",
       "              title=\"Convert this dataframe to an interactive table.\"\n",
       "              style=\"display:none;\">\n",
       "        \n",
       "  <svg xmlns=\"http://www.w3.org/2000/svg\" height=\"24px\"viewBox=\"0 0 24 24\"\n",
       "       width=\"24px\">\n",
       "    <path d=\"M0 0h24v24H0V0z\" fill=\"none\"/>\n",
       "    <path d=\"M18.56 5.44l.94 2.06.94-2.06 2.06-.94-2.06-.94-.94-2.06-.94 2.06-2.06.94zm-11 1L8.5 8.5l.94-2.06 2.06-.94-2.06-.94L8.5 2.5l-.94 2.06-2.06.94zm10 10l.94 2.06.94-2.06 2.06-.94-2.06-.94-.94-2.06-.94 2.06-2.06.94z\"/><path d=\"M17.41 7.96l-1.37-1.37c-.4-.4-.92-.59-1.43-.59-.52 0-1.04.2-1.43.59L10.3 9.45l-7.72 7.72c-.78.78-.78 2.05 0 2.83L4 21.41c.39.39.9.59 1.41.59.51 0 1.02-.2 1.41-.59l7.78-7.78 2.81-2.81c.8-.78.8-2.07 0-2.86zM5.41 20L4 18.59l7.72-7.72 1.47 1.35L5.41 20z\"/>\n",
       "  </svg>\n",
       "      </button>\n",
       "      \n",
       "  <style>\n",
       "    .colab-df-container {\n",
       "      display:flex;\n",
       "      flex-wrap:wrap;\n",
       "      gap: 12px;\n",
       "    }\n",
       "\n",
       "    .colab-df-convert {\n",
       "      background-color: #E8F0FE;\n",
       "      border: none;\n",
       "      border-radius: 50%;\n",
       "      cursor: pointer;\n",
       "      display: none;\n",
       "      fill: #1967D2;\n",
       "      height: 32px;\n",
       "      padding: 0 0 0 0;\n",
       "      width: 32px;\n",
       "    }\n",
       "\n",
       "    .colab-df-convert:hover {\n",
       "      background-color: #E2EBFA;\n",
       "      box-shadow: 0px 1px 2px rgba(60, 64, 67, 0.3), 0px 1px 3px 1px rgba(60, 64, 67, 0.15);\n",
       "      fill: #174EA6;\n",
       "    }\n",
       "\n",
       "    [theme=dark] .colab-df-convert {\n",
       "      background-color: #3B4455;\n",
       "      fill: #D2E3FC;\n",
       "    }\n",
       "\n",
       "    [theme=dark] .colab-df-convert:hover {\n",
       "      background-color: #434B5C;\n",
       "      box-shadow: 0px 1px 3px 1px rgba(0, 0, 0, 0.15);\n",
       "      filter: drop-shadow(0px 1px 2px rgba(0, 0, 0, 0.3));\n",
       "      fill: #FFFFFF;\n",
       "    }\n",
       "  </style>\n",
       "\n",
       "      <script>\n",
       "        const buttonEl =\n",
       "          document.querySelector('#df-d238271f-b5ce-4a81-9ec8-c94a5666764e button.colab-df-convert');\n",
       "        buttonEl.style.display =\n",
       "          google.colab.kernel.accessAllowed ? 'block' : 'none';\n",
       "\n",
       "        async function convertToInteractive(key) {\n",
       "          const element = document.querySelector('#df-d238271f-b5ce-4a81-9ec8-c94a5666764e');\n",
       "          const dataTable =\n",
       "            await google.colab.kernel.invokeFunction('convertToInteractive',\n",
       "                                                     [key], {});\n",
       "          if (!dataTable) return;\n",
       "\n",
       "          const docLinkHtml = 'Like what you see? Visit the ' +\n",
       "            '<a target=\"_blank\" href=https://colab.research.google.com/notebooks/data_table.ipynb>data table notebook</a>'\n",
       "            + ' to learn more about interactive tables.';\n",
       "          element.innerHTML = '';\n",
       "          dataTable['output_type'] = 'display_data';\n",
       "          await google.colab.output.renderOutput(dataTable, element);\n",
       "          const docLink = document.createElement('div');\n",
       "          docLink.innerHTML = docLinkHtml;\n",
       "          element.appendChild(docLink);\n",
       "        }\n",
       "      </script>\n",
       "    </div>\n",
       "  </div>\n",
       "  "
      ],
      "text/plain": [
       "   data_set_size  sample_size   runtime  accuracy_Score_train  \\\n",
       "0             10         1279  0.997327              0.814699   \n",
       "1             20         2559  2.291378              0.772177   \n",
       "2             30         3839  4.642965              0.760615   \n",
       "3             40         5119  5.626485              0.773589   \n",
       "4             50         6399  5.626257              0.747461   \n",
       "\n",
       "   accuracy_Score_test  \n",
       "0             0.655261  \n",
       "1             0.660183  \n",
       "2             0.650340  \n",
       "3             0.646824  \n",
       "4             0.641200  "
      ]
     },
     "execution_count": 28,
     "metadata": {},
     "output_type": "execute_result"
    }
   ],
   "source": [
    "Knn_analysis = pd.DataFrame({\n",
    "                            \"data_set_size\":data_reduction_percentage,\n",
    "                            \"sample_size\":sample_size_,\n",
    "                            \"runtime\":run_time_knn,\n",
    "                            \"accuracy_Score_train\":score_train_knn,\n",
    "                            \"accuracy_Score_test\":score_test_knn,\n",
    "                            })\n",
    "Knn_analysis.head()"
   ]
  },
  {
   "cell_type": "markdown",
   "metadata": {
    "id": "XZDco2SDObo6"
   },
   "source": [
    "Ploting the runtime with repsect to n components value in the range of 0-1"
   ]
  },
  {
   "cell_type": "code",
   "execution_count": 29,
   "metadata": {
    "colab": {
     "base_uri": "https://localhost:8080/",
     "height": 241
    },
    "id": "TxZ4Z7Ex4Fc3",
    "outputId": "5a320238-6157-47fe-a4ec-51939219416d"
   },
   "outputs": [
    {
     "data": {
      "image/png": "[encoded data removed]",
      "text/plain": [
       "<Figure size 1440x360 with 1 Axes>"
      ]
     },
     "metadata": {
      "needs_background": "light"
     },
     "output_type": "display_data"
    }
   ],
   "source": [
    "plt.figure(figsize=(20,5))\n",
    "sns.lineplot(data =Knn_analysis,x=\"data_set_size\",y=\"runtime\",marker =\"*\" , color=\"red\")\n",
    "plt.xlabel(\"Data size (%)\")\n",
    "plt.ylabel(\"Run time (s)\")\n",
    "plt.title(\" n-components vs Run time  \")\n",
    "for index, row in Knn_analysis.iterrows():\n",
    "  if index % 1 ==0:\n",
    "    text = f'size :{row[\"sample_size\"]}\\nscore_train:{ round(row[\"accuracy_Score_train\"],3)}\\n score_test:{ round(row[\"accuracy_Score_test\"],3)}'\n",
    "    plt.annotate(text, (row['data_set_size'],row['runtime']+.5))\n",
    "plt.show()"
   ]
  },
  {
   "cell_type": "markdown",
   "metadata": {
    "id": "i735HDJxKagL"
   },
   "source": [
    "Based on the above line plot,the runtime of the KNN model increase , when the size of the data increase."
   ]
  },
  {
   "cell_type": "markdown",
   "metadata": {
    "id": "IrmvEUm9KRud"
   },
   "source": [
    "##### **List one advantage and one disadvantage of reducing the number of observations**"
   ]
  },
  {
   "cell_type": "markdown",
   "metadata": {
    "id": "-nqI6R4GWxn7"
   },
   "source": [
    "Advantage\n",
    "- The advantage of reducing the number of observations is to have a low calculation time and less sensitive to noisy data,and outliers\n",
    " \n",
    "Disadvantage<br>\n",
    "- The main disadvantage of having less dataset is to compromise over the predictive power of the model as the KNN model can never predict values outside the range it has seen in the training set."
   ]
  },
  {
   "cell_type": "markdown",
   "metadata": {
    "id": "jGLf2NjQ30ew"
   },
   "source": [
    "##### **Use the dataset to find an optimal value for K in the KNN algorithm. You will need to split your dataset into train and validation sets.**"
   ]
  },
  {
   "cell_type": "code",
   "execution_count": 30,
   "metadata": {
    "id": "P8SEX-CZJV9E"
   },
   "outputs": [],
   "source": [
    "from sklearn.model_selection import train_test_split"
   ]
  },
  {
   "cell_type": "markdown",
   "metadata": {
    "id": "Qr51ASg2KR3n"
   },
   "source": [
    "Splititng the data in train and validation set"
   ]
  },
  {
   "cell_type": "code",
   "execution_count": 31,
   "metadata": {
    "colab": {
     "base_uri": "https://localhost:8080/"
    },
    "id": "7Dg9wJuAIy-c",
    "outputId": "3ad72aff-d987-43d3-af31-21a1a61e2482"
   },
   "outputs": [
    {
     "name": "stdout",
     "output_type": "stream",
     "text": [
      "The shape of the feature for the training Data set is 9598 rows & 2743 columns\n",
      "The shape of the feature for the Validation Data set is 3200 rows & 2743 columns\n",
      "The shape of the target for the training Data set is 9598 rows \n",
      "The shape of the target for the Validation Data set is 3200 rows\n"
     ]
    }
   ],
   "source": [
    "# Splititng the data in train and validation set \n",
    "train_x,validation_x,train_y,validation_y = train_test_split(X_train_scaled,y_train,test_size=.25)\n",
    "\n",
    "print(f\"The shape of the feature for the training Data set is {train_x.shape[0]} rows & {train_x.shape[1]} columns\")\n",
    "print(f\"The shape of the feature for the Validation Data set is {validation_x.shape[0]} rows & {validation_x.shape[1]} columns\")\n",
    "\n",
    "print(f\"The shape of the target for the training Data set is {train_y.shape[0]} rows \")\n",
    "print(f\"The shape of the target for the Validation Data set is {validation_y.shape[0]} rows\")\n"
   ]
  },
  {
   "cell_type": "markdown",
   "metadata": {
    "id": "7JbHtx6IP7ZI"
   },
   "source": [
    "Exploring the optimal `n_neighbour` value for KNN model"
   ]
  },
  {
   "cell_type": "code",
   "execution_count": 32,
   "metadata": {
    "colab": {
     "base_uri": "https://localhost:8080/",
     "height": 206
    },
    "id": "6uWxRFphJLgE",
    "outputId": "1765f3fe-f2d4-4d22-c4c3-3221e158f401"
   },
   "outputs": [
    {
     "data": {
      "text/html": [
       "\n",
       "  <div id=\"df-ea11e22b-1aa2-4009-9937-8b676b14f8a9\">\n",
       "    <div class=\"colab-df-container\">\n",
       "      <div>\n",
       "<style scoped>\n",
       "    .dataframe tbody tr th:only-of-type {\n",
       "        vertical-align: middle;\n",
       "    }\n",
       "\n",
       "    .dataframe tbody tr th {\n",
       "        vertical-align: top;\n",
       "    }\n",
       "\n",
       "    .dataframe thead th {\n",
       "        text-align: right;\n",
       "    }\n",
       "</style>\n",
       "<table border=\"1\" class=\"dataframe\">\n",
       "  <thead>\n",
       "    <tr style=\"text-align: right;\">\n",
       "      <th></th>\n",
       "      <th>n_neighbors</th>\n",
       "      <th>train_accuracy</th>\n",
       "      <th>validation_accuracy</th>\n",
       "    </tr>\n",
       "  </thead>\n",
       "  <tbody>\n",
       "    <tr>\n",
       "      <th>0</th>\n",
       "      <td>1</td>\n",
       "      <td>1.000000</td>\n",
       "      <td>0.640938</td>\n",
       "    </tr>\n",
       "    <tr>\n",
       "      <th>1</th>\n",
       "      <td>3</td>\n",
       "      <td>0.795061</td>\n",
       "      <td>0.639375</td>\n",
       "    </tr>\n",
       "    <tr>\n",
       "      <th>2</th>\n",
       "      <td>5</td>\n",
       "      <td>0.758075</td>\n",
       "      <td>0.656563</td>\n",
       "    </tr>\n",
       "    <tr>\n",
       "      <th>3</th>\n",
       "      <td>7</td>\n",
       "      <td>0.736612</td>\n",
       "      <td>0.665937</td>\n",
       "    </tr>\n",
       "    <tr>\n",
       "      <th>4</th>\n",
       "      <td>9</td>\n",
       "      <td>0.732444</td>\n",
       "      <td>0.667500</td>\n",
       "    </tr>\n",
       "  </tbody>\n",
       "</table>\n",
       "</div>\n",
       "      <button class=\"colab-df-convert\" onclick=\"convertToInteractive('df-ea11e22b-1aa2-4009-9937-8b676b14f8a9')\"\n",
       "              title=\"Convert this dataframe to an interactive table.\"\n",
       "              style=\"display:none;\">\n",
       "        \n",
       "  <svg xmlns=\"http://www.w3.org/2000/svg\" height=\"24px\"viewBox=\"0 0 24 24\"\n",
       "       width=\"24px\">\n",
       "    <path d=\"M0 0h24v24H0V0z\" fill=\"none\"/>\n",
       "    <path d=\"M18.56 5.44l.94 2.06.94-2.06 2.06-.94-2.06-.94-.94-2.06-.94 2.06-2.06.94zm-11 1L8.5 8.5l.94-2.06 2.06-.94-2.06-.94L8.5 2.5l-.94 2.06-2.06.94zm10 10l.94 2.06.94-2.06 2.06-.94-2.06-.94-.94-2.06-.94 2.06-2.06.94z\"/><path d=\"M17.41 7.96l-1.37-1.37c-.4-.4-.92-.59-1.43-.59-.52 0-1.04.2-1.43.59L10.3 9.45l-7.72 7.72c-.78.78-.78 2.05 0 2.83L4 21.41c.39.39.9.59 1.41.59.51 0 1.02-.2 1.41-.59l7.78-7.78 2.81-2.81c.8-.78.8-2.07 0-2.86zM5.41 20L4 18.59l7.72-7.72 1.47 1.35L5.41 20z\"/>\n",
       "  </svg>\n",
       "      </button>\n",
       "      \n",
       "  <style>\n",
       "    .colab-df-container {\n",
       "      display:flex;\n",
       "      flex-wrap:wrap;\n",
       "      gap: 12px;\n",
       "    }\n",
       "\n",
       "    .colab-df-convert {\n",
       "      background-color: #E8F0FE;\n",
       "      border: none;\n",
       "      border-radius: 50%;\n",
       "      cursor: pointer;\n",
       "      display: none;\n",
       "      fill: #1967D2;\n",
       "      height: 32px;\n",
       "      padding: 0 0 0 0;\n",
       "      width: 32px;\n",
       "    }\n",
       "\n",
       "    .colab-df-convert:hover {\n",
       "      background-color: #E2EBFA;\n",
       "      box-shadow: 0px 1px 2px rgba(60, 64, 67, 0.3), 0px 1px 3px 1px rgba(60, 64, 67, 0.15);\n",
       "      fill: #174EA6;\n",
       "    }\n",
       "\n",
       "    [theme=dark] .colab-df-convert {\n",
       "      background-color: #3B4455;\n",
       "      fill: #D2E3FC;\n",
       "    }\n",
       "\n",
       "    [theme=dark] .colab-df-convert:hover {\n",
       "      background-color: #434B5C;\n",
       "      box-shadow: 0px 1px 3px 1px rgba(0, 0, 0, 0.15);\n",
       "      filter: drop-shadow(0px 1px 2px rgba(0, 0, 0, 0.3));\n",
       "      fill: #FFFFFF;\n",
       "    }\n",
       "  </style>\n",
       "\n",
       "      <script>\n",
       "        const buttonEl =\n",
       "          document.querySelector('#df-ea11e22b-1aa2-4009-9937-8b676b14f8a9 button.colab-df-convert');\n",
       "        buttonEl.style.display =\n",
       "          google.colab.kernel.accessAllowed ? 'block' : 'none';\n",
       "\n",
       "        async function convertToInteractive(key) {\n",
       "          const element = document.querySelector('#df-ea11e22b-1aa2-4009-9937-8b676b14f8a9');\n",
       "          const dataTable =\n",
       "            await google.colab.kernel.invokeFunction('convertToInteractive',\n",
       "                                                     [key], {});\n",
       "          if (!dataTable) return;\n",
       "\n",
       "          const docLinkHtml = 'Like what you see? Visit the ' +\n",
       "            '<a target=\"_blank\" href=https://colab.research.google.com/notebooks/data_table.ipynb>data table notebook</a>'\n",
       "            + ' to learn more about interactive tables.';\n",
       "          element.innerHTML = '';\n",
       "          dataTable['output_type'] = 'display_data';\n",
       "          await google.colab.output.renderOutput(dataTable, element);\n",
       "          const docLink = document.createElement('div');\n",
       "          docLink.innerHTML = docLinkHtml;\n",
       "          element.appendChild(docLink);\n",
       "        }\n",
       "      </script>\n",
       "    </div>\n",
       "  </div>\n",
       "  "
      ],
      "text/plain": [
       "   n_neighbors  train_accuracy  validation_accuracy\n",
       "0            1        1.000000             0.640938\n",
       "1            3        0.795061             0.639375\n",
       "2            5        0.758075             0.656563\n",
       "3            7        0.736612             0.665937\n",
       "4            9        0.732444             0.667500"
      ]
     },
     "execution_count": 32,
     "metadata": {},
     "output_type": "execute_result"
    }
   ],
   "source": [
    "accuracy_train =[]\n",
    "accuracy_validation =[]\n",
    "n_range = list(range(1,50,2))\n",
    "for i in n_range:\n",
    "      KNN_model = KNeighborsClassifier(n_neighbors=i )\n",
    "      KNN_model.fit(train_x, train_y)\n",
    "\n",
    "      #test_predictions = KNN_model.predict(X_test)\n",
    "      train_accuracy = KNN_model.score(train_x,train_y)\n",
    "      accuracy_train.append(train_accuracy)\n",
    "\n",
    "      validation_accuracy = KNN_model.score(validation_x, validation_y)\n",
    "      accuracy_validation.append(validation_accuracy)\n",
    "\n",
    "knn_df = pd.DataFrame({\"n_neighbors\":n_range,\n",
    "                       \"train_accuracy\":accuracy_train,\n",
    "                       \"validation_accuracy\":accuracy_validation})\n",
    "knn_df.head()"
   ]
  },
  {
   "cell_type": "markdown",
   "metadata": {
    "id": "8POys0G-8u9R"
   },
   "source": [
    "Evaluating the maximum validation score"
   ]
  },
  {
   "cell_type": "code",
   "execution_count": 33,
   "metadata": {
    "colab": {
     "base_uri": "https://localhost:8080/",
     "height": 81
    },
    "id": "eXDDgL0w7qdV",
    "outputId": "4a0cf626-08c0-4950-f563-2699ba7cdd24"
   },
   "outputs": [
    {
     "data": {
      "text/html": [
       "\n",
       "  <div id=\"df-56008b85-e0f8-4959-b442-a56b988546a8\">\n",
       "    <div class=\"colab-df-container\">\n",
       "      <div>\n",
       "<style scoped>\n",
       "    .dataframe tbody tr th:only-of-type {\n",
       "        vertical-align: middle;\n",
       "    }\n",
       "\n",
       "    .dataframe tbody tr th {\n",
       "        vertical-align: top;\n",
       "    }\n",
       "\n",
       "    .dataframe thead th {\n",
       "        text-align: right;\n",
       "    }\n",
       "</style>\n",
       "<table border=\"1\" class=\"dataframe\">\n",
       "  <thead>\n",
       "    <tr style=\"text-align: right;\">\n",
       "      <th></th>\n",
       "      <th>n_neighbors</th>\n",
       "      <th>train_accuracy</th>\n",
       "      <th>validation_accuracy</th>\n",
       "    </tr>\n",
       "  </thead>\n",
       "  <tbody>\n",
       "    <tr>\n",
       "      <th>9</th>\n",
       "      <td>19</td>\n",
       "      <td>0.718796</td>\n",
       "      <td>0.698438</td>\n",
       "    </tr>\n",
       "  </tbody>\n",
       "</table>\n",
       "</div>\n",
       "      <button class=\"colab-df-convert\" onclick=\"convertToInteractive('df-56008b85-e0f8-4959-b442-a56b988546a8')\"\n",
       "              title=\"Convert this dataframe to an interactive table.\"\n",
       "              style=\"display:none;\">\n",
       "        \n",
       "  <svg xmlns=\"http://www.w3.org/2000/svg\" height=\"24px\"viewBox=\"0 0 24 24\"\n",
       "       width=\"24px\">\n",
       "    <path d=\"M0 0h24v24H0V0z\" fill=\"none\"/>\n",
       "    <path d=\"M18.56 5.44l.94 2.06.94-2.06 2.06-.94-2.06-.94-.94-2.06-.94 2.06-2.06.94zm-11 1L8.5 8.5l.94-2.06 2.06-.94-2.06-.94L8.5 2.5l-.94 2.06-2.06.94zm10 10l.94 2.06.94-2.06 2.06-.94-2.06-.94-.94-2.06-.94 2.06-2.06.94z\"/><path d=\"M17.41 7.96l-1.37-1.37c-.4-.4-.92-.59-1.43-.59-.52 0-1.04.2-1.43.59L10.3 9.45l-7.72 7.72c-.78.78-.78 2.05 0 2.83L4 21.41c.39.39.9.59 1.41.59.51 0 1.02-.2 1.41-.59l7.78-7.78 2.81-2.81c.8-.78.8-2.07 0-2.86zM5.41 20L4 18.59l7.72-7.72 1.47 1.35L5.41 20z\"/>\n",
       "  </svg>\n",
       "      </button>\n",
       "      \n",
       "  <style>\n",
       "    .colab-df-container {\n",
       "      display:flex;\n",
       "      flex-wrap:wrap;\n",
       "      gap: 12px;\n",
       "    }\n",
       "\n",
       "    .colab-df-convert {\n",
       "      background-color: #E8F0FE;\n",
       "      border: none;\n",
       "      border-radius: 50%;\n",
       "      cursor: pointer;\n",
       "      display: none;\n",
       "      fill: #1967D2;\n",
       "      height: 32px;\n",
       "      padding: 0 0 0 0;\n",
       "      width: 32px;\n",
       "    }\n",
       "\n",
       "    .colab-df-convert:hover {\n",
       "      background-color: #E2EBFA;\n",
       "      box-shadow: 0px 1px 2px rgba(60, 64, 67, 0.3), 0px 1px 3px 1px rgba(60, 64, 67, 0.15);\n",
       "      fill: #174EA6;\n",
       "    }\n",
       "\n",
       "    [theme=dark] .colab-df-convert {\n",
       "      background-color: #3B4455;\n",
       "      fill: #D2E3FC;\n",
       "    }\n",
       "\n",
       "    [theme=dark] .colab-df-convert:hover {\n",
       "      background-color: #434B5C;\n",
       "      box-shadow: 0px 1px 3px 1px rgba(0, 0, 0, 0.15);\n",
       "      filter: drop-shadow(0px 1px 2px rgba(0, 0, 0, 0.3));\n",
       "      fill: #FFFFFF;\n",
       "    }\n",
       "  </style>\n",
       "\n",
       "      <script>\n",
       "        const buttonEl =\n",
       "          document.querySelector('#df-56008b85-e0f8-4959-b442-a56b988546a8 button.colab-df-convert');\n",
       "        buttonEl.style.display =\n",
       "          google.colab.kernel.accessAllowed ? 'block' : 'none';\n",
       "\n",
       "        async function convertToInteractive(key) {\n",
       "          const element = document.querySelector('#df-56008b85-e0f8-4959-b442-a56b988546a8');\n",
       "          const dataTable =\n",
       "            await google.colab.kernel.invokeFunction('convertToInteractive',\n",
       "                                                     [key], {});\n",
       "          if (!dataTable) return;\n",
       "\n",
       "          const docLinkHtml = 'Like what you see? Visit the ' +\n",
       "            '<a target=\"_blank\" href=https://colab.research.google.com/notebooks/data_table.ipynb>data table notebook</a>'\n",
       "            + ' to learn more about interactive tables.';\n",
       "          element.innerHTML = '';\n",
       "          dataTable['output_type'] = 'display_data';\n",
       "          await google.colab.output.renderOutput(dataTable, element);\n",
       "          const docLink = document.createElement('div');\n",
       "          docLink.innerHTML = docLinkHtml;\n",
       "          element.appendChild(docLink);\n",
       "        }\n",
       "      </script>\n",
       "    </div>\n",
       "  </div>\n",
       "  "
      ],
      "text/plain": [
       "   n_neighbors  train_accuracy  validation_accuracy\n",
       "9           19        0.718796             0.698438"
      ]
     },
     "execution_count": 33,
     "metadata": {},
     "output_type": "execute_result"
    }
   ],
   "source": [
    "knn_df[knn_df[\"validation_accuracy\"]==knn_df[\"validation_accuracy\"].max()]"
   ]
  },
  {
   "cell_type": "code",
   "execution_count": 34,
   "metadata": {
    "colab": {
     "base_uri": "https://localhost:8080/",
     "height": 227
    },
    "id": "qob0FSLCPNGl",
    "outputId": "450d67d8-9dc1-48fd-c932-b6e8807e5f06"
   },
   "outputs": [
    {
     "data": {
      "image/png": "[encoded data removed]",
      "text/plain": [
       "<Figure size 1440x360 with 1 Axes>"
      ]
     },
     "metadata": {
      "needs_background": "light"
     },
     "output_type": "display_data"
    }
   ],
   "source": [
    "\n",
    "plt.figure(figsize=(20,5))\n",
    "sns.lineplot(data = knn_df,x=\"n_neighbors\", y =\"train_accuracy\",label=\"Train accuarcy\")\n",
    "sns.lineplot(data = knn_df,x=\"n_neighbors\", y =\"validation_accuracy\",label=\"Validation_accuracy\")\n",
    "plt.xlabel(\"No.of Neighbours\")\n",
    "plt.xticks(list(knn_df[\"n_neighbors\"]))\n",
    "plt.ylabel(\"Accuracy\")\n",
    "plt.legend()\n",
    "plt.grid()\n",
    "plt.show()"
   ]
  },
  {
   "cell_type": "markdown",
   "metadata": {
    "id": "frW9nq9T7etn"
   },
   "source": [
    " For the KNN  model ,the accuracy score [.6875] on the validation data set is maximum  when the  value of n_neighbors is 23. Therefore it can be treated as the optimal n_neighbors value for the model in the given dataset "
   ]
  },
  {
   "cell_type": "markdown",
   "metadata": {
    "id": "2owV5okO4E82"
   },
   "source": [
    "##### **What is the issue with splitting the data into train and validation sets after performing vectorization?**"
   ]
  },
  {
   "cell_type": "markdown",
   "metadata": {
    "id": "njjek6TgXGbb"
   },
   "source": [
    "Applying the fit method of the vectorizer in all datasets might introduce some data leakage. As a principle, the model shouldn't see the test data. So to guarantee that the model will not see test data on the training stage, it should  be split first, vectorizer after."
   ]
  },
  {
   "cell_type": "markdown",
   "metadata": {
    "id": "4PQREIYrYST-"
   },
   "source": [
    "#### **Employ a Decision Tree classifier on this dataset:**"
   ]
  },
  {
   "cell_type": "markdown",
   "metadata": {
    "id": "lndJZyppF8wU"
   },
   "source": [
    "##### **Fit a decision tree model to this data. What is the accuracy score on the test set?**"
   ]
  },
  {
   "cell_type": "code",
   "execution_count": 35,
   "metadata": {
    "id": "qWIPwctOF_gC"
   },
   "outputs": [],
   "source": [
    "from sklearn.tree import DecisionTreeClassifier"
   ]
  },
  {
   "cell_type": "code",
   "execution_count": 36,
   "metadata": {
    "colab": {
     "base_uri": "https://localhost:8080/"
    },
    "id": "bSkW_NWubjJa",
    "outputId": "07738aaf-9886-4be5-d1bb-66124743aaf7"
   },
   "outputs": [
    {
     "name": "stdout",
     "output_type": "stream",
     "text": [
      "Accuracy Score:0.7047105694867588\n"
     ]
    }
   ],
   "source": [
    "# Instantiate the decision stump and fit the model\n",
    "DT_model = DecisionTreeClassifier(random_state=42)\n",
    "DT_model.fit(X_train, y_train);\n",
    "score =DT_model.score(X_test,y_test)\n",
    "\n",
    "print(f\"Accuracy Score:{score}\")"
   ]
  },
  {
   "cell_type": "markdown",
   "metadata": {
    "id": "s3u_GS8JdP9h"
   },
   "source": [
    "For the decision tree model,the accuracy on the test set is 70.47%"
   ]
  },
  {
   "cell_type": "markdown",
   "metadata": {
    "id": "aPOqhu2adhsA"
   },
   "source": [
    "##### **Use the data set (or a subsample) to find an optimal value for the maximum depth of the decision tree. You will need to split your data set into train and validation.**"
   ]
  },
  {
   "cell_type": "markdown",
   "metadata": {
    "id": "iKu4XYtHpHqD"
   },
   "source": [
    "Spliting the data into train and validation"
   ]
  },
  {
   "cell_type": "code",
   "execution_count": 37,
   "metadata": {
    "colab": {
     "base_uri": "https://localhost:8080/"
    },
    "id": "3F9-z03bpPB6",
    "outputId": "33cb1710-86ab-43ea-b252-a0b77c00ba8d"
   },
   "outputs": [
    {
     "name": "stdout",
     "output_type": "stream",
     "text": [
      "The shape of the feature for the training Data set is 9598 rows & 2743 columns\n",
      "The shape of the feature for the Validation Data set is 3200 rows & 2743 columns\n",
      "The shape of the target for the training Data set is 9598 rows \n",
      "The shape of the target for the Validation Data set is 3200 rows\n"
     ]
    }
   ],
   "source": [
    "train_x,vaidation_x,train_y,validation_y = train_test_split(X_train,y_train,test_size=.25,stratify=y_train)\n",
    "\n",
    "print(f\"The shape of the feature for the training Data set is {train_x.shape[0]} rows & {train_x.shape[1]} columns\")\n",
    "print(f\"The shape of the feature for the Validation Data set is {validation_x.shape[0]} rows & {validation_x.shape[1]} columns\")\n",
    "\n",
    "print(f\"The shape of the target for the training Data set is {train_y.shape[0]} rows \")\n",
    "print(f\"The shape of the target for the Validation Data set is {validation_y.shape[0]} rows\")"
   ]
  },
  {
   "cell_type": "code",
   "execution_count": 38,
   "metadata": {
    "colab": {
     "base_uri": "https://localhost:8080/",
     "height": 206
    },
    "id": "kCMrtwOab5X7",
    "outputId": "73070c7f-ecae-4606-847e-cee630700c26"
   },
   "outputs": [
    {
     "data": {
      "text/html": [
       "\n",
       "  <div id=\"df-71477945-ef7c-4c40-bd30-4e6fa3aed99c\">\n",
       "    <div class=\"colab-df-container\">\n",
       "      <div>\n",
       "<style scoped>\n",
       "    .dataframe tbody tr th:only-of-type {\n",
       "        vertical-align: middle;\n",
       "    }\n",
       "\n",
       "    .dataframe tbody tr th {\n",
       "        vertical-align: top;\n",
       "    }\n",
       "\n",
       "    .dataframe thead th {\n",
       "        text-align: right;\n",
       "    }\n",
       "</style>\n",
       "<table border=\"1\" class=\"dataframe\">\n",
       "  <thead>\n",
       "    <tr style=\"text-align: right;\">\n",
       "      <th></th>\n",
       "      <th>max_depth</th>\n",
       "      <th>accuracy_validation</th>\n",
       "      <th>accuracy_test</th>\n",
       "    </tr>\n",
       "  </thead>\n",
       "  <tbody>\n",
       "    <tr>\n",
       "      <th>0</th>\n",
       "      <td>1</td>\n",
       "      <td>0.649687</td>\n",
       "      <td>0.631826</td>\n",
       "    </tr>\n",
       "    <tr>\n",
       "      <th>1</th>\n",
       "      <td>2</td>\n",
       "      <td>0.715000</td>\n",
       "      <td>0.708460</td>\n",
       "    </tr>\n",
       "    <tr>\n",
       "      <th>2</th>\n",
       "      <td>3</td>\n",
       "      <td>0.735000</td>\n",
       "      <td>0.720881</td>\n",
       "    </tr>\n",
       "    <tr>\n",
       "      <th>3</th>\n",
       "      <td>4</td>\n",
       "      <td>0.728750</td>\n",
       "      <td>0.736583</td>\n",
       "    </tr>\n",
       "    <tr>\n",
       "      <th>4</th>\n",
       "      <td>5</td>\n",
       "      <td>0.738125</td>\n",
       "      <td>0.741973</td>\n",
       "    </tr>\n",
       "  </tbody>\n",
       "</table>\n",
       "</div>\n",
       "      <button class=\"colab-df-convert\" onclick=\"convertToInteractive('df-71477945-ef7c-4c40-bd30-4e6fa3aed99c')\"\n",
       "              title=\"Convert this dataframe to an interactive table.\"\n",
       "              style=\"display:none;\">\n",
       "        \n",
       "  <svg xmlns=\"http://www.w3.org/2000/svg\" height=\"24px\"viewBox=\"0 0 24 24\"\n",
       "       width=\"24px\">\n",
       "    <path d=\"M0 0h24v24H0V0z\" fill=\"none\"/>\n",
       "    <path d=\"M18.56 5.44l.94 2.06.94-2.06 2.06-.94-2.06-.94-.94-2.06-.94 2.06-2.06.94zm-11 1L8.5 8.5l.94-2.06 2.06-.94-2.06-.94L8.5 2.5l-.94 2.06-2.06.94zm10 10l.94 2.06.94-2.06 2.06-.94-2.06-.94-.94-2.06-.94 2.06-2.06.94z\"/><path d=\"M17.41 7.96l-1.37-1.37c-.4-.4-.92-.59-1.43-.59-.52 0-1.04.2-1.43.59L10.3 9.45l-7.72 7.72c-.78.78-.78 2.05 0 2.83L4 21.41c.39.39.9.59 1.41.59.51 0 1.02-.2 1.41-.59l7.78-7.78 2.81-2.81c.8-.78.8-2.07 0-2.86zM5.41 20L4 18.59l7.72-7.72 1.47 1.35L5.41 20z\"/>\n",
       "  </svg>\n",
       "      </button>\n",
       "      \n",
       "  <style>\n",
       "    .colab-df-container {\n",
       "      display:flex;\n",
       "      flex-wrap:wrap;\n",
       "      gap: 12px;\n",
       "    }\n",
       "\n",
       "    .colab-df-convert {\n",
       "      background-color: #E8F0FE;\n",
       "      border: none;\n",
       "      border-radius: 50%;\n",
       "      cursor: pointer;\n",
       "      display: none;\n",
       "      fill: #1967D2;\n",
       "      height: 32px;\n",
       "      padding: 0 0 0 0;\n",
       "      width: 32px;\n",
       "    }\n",
       "\n",
       "    .colab-df-convert:hover {\n",
       "      background-color: #E2EBFA;\n",
       "      box-shadow: 0px 1px 2px rgba(60, 64, 67, 0.3), 0px 1px 3px 1px rgba(60, 64, 67, 0.15);\n",
       "      fill: #174EA6;\n",
       "    }\n",
       "\n",
       "    [theme=dark] .colab-df-convert {\n",
       "      background-color: #3B4455;\n",
       "      fill: #D2E3FC;\n",
       "    }\n",
       "\n",
       "    [theme=dark] .colab-df-convert:hover {\n",
       "      background-color: #434B5C;\n",
       "      box-shadow: 0px 1px 3px 1px rgba(0, 0, 0, 0.15);\n",
       "      filter: drop-shadow(0px 1px 2px rgba(0, 0, 0, 0.3));\n",
       "      fill: #FFFFFF;\n",
       "    }\n",
       "  </style>\n",
       "\n",
       "      <script>\n",
       "        const buttonEl =\n",
       "          document.querySelector('#df-71477945-ef7c-4c40-bd30-4e6fa3aed99c button.colab-df-convert');\n",
       "        buttonEl.style.display =\n",
       "          google.colab.kernel.accessAllowed ? 'block' : 'none';\n",
       "\n",
       "        async function convertToInteractive(key) {\n",
       "          const element = document.querySelector('#df-71477945-ef7c-4c40-bd30-4e6fa3aed99c');\n",
       "          const dataTable =\n",
       "            await google.colab.kernel.invokeFunction('convertToInteractive',\n",
       "                                                     [key], {});\n",
       "          if (!dataTable) return;\n",
       "\n",
       "          const docLinkHtml = 'Like what you see? Visit the ' +\n",
       "            '<a target=\"_blank\" href=https://colab.research.google.com/notebooks/data_table.ipynb>data table notebook</a>'\n",
       "            + ' to learn more about interactive tables.';\n",
       "          element.innerHTML = '';\n",
       "          dataTable['output_type'] = 'display_data';\n",
       "          await google.colab.output.renderOutput(dataTable, element);\n",
       "          const docLink = document.createElement('div');\n",
       "          docLink.innerHTML = docLinkHtml;\n",
       "          element.appendChild(docLink);\n",
       "        }\n",
       "      </script>\n",
       "    </div>\n",
       "  </div>\n",
       "  "
      ],
      "text/plain": [
       "   max_depth  accuracy_validation  accuracy_test\n",
       "0          1             0.649687       0.631826\n",
       "1          2             0.715000       0.708460\n",
       "2          3             0.735000       0.720881\n",
       "3          4             0.728750       0.736583\n",
       "4          5             0.738125       0.741973"
      ]
     },
     "execution_count": 38,
     "metadata": {},
     "output_type": "execute_result"
    }
   ],
   "source": [
    "max_depth=list(range(1,10))\n",
    "dt_accuracy_validation=[]\n",
    "dt_accuracy_test=[]\n",
    "for d in max_depth:\n",
    "  DT_model = DecisionTreeClassifier(max_depth=d,random_state=42 )\n",
    "  DT_model.fit(train_x, train_y);\n",
    "  dt_accuracy_validation.append(DT_model.score(vaidation_x,validation_y))\n",
    "  dt_accuracy_test.append(DT_model.score(X_test,y_test))\n",
    "\n",
    "dt_df = pd.DataFrame({\"max_depth\":max_depth,\"accuracy_validation\":dt_accuracy_validation,\"accuracy_test\":dt_accuracy_test,})\n",
    "dt_df.head()\n"
   ]
  },
  {
   "cell_type": "code",
   "execution_count": 39,
   "metadata": {
    "colab": {
     "base_uri": "https://localhost:8080/",
     "height": 239
    },
    "id": "wgx_jIlTqKa9",
    "outputId": "be5b7f4d-fa82-4a9c-c1b9-fb7b6299cb95"
   },
   "outputs": [
    {
     "data": {
      "image/png": "[encoded data removed]",
      "text/plain": [
       "<Figure size 1440x360 with 1 Axes>"
      ]
     },
     "metadata": {
      "needs_background": "light"
     },
     "output_type": "display_data"
    }
   ],
   "source": [
    "plt.figure(figsize=(20,5))\n",
    "sns.lineplot(data=dt_df,x=\"max_depth\",y=\"accuracy_validation\",label=\"validation\")\n",
    "sns.lineplot(data=dt_df,x=\"max_depth\",y=\"accuracy_test\",label=\"test\")\n",
    "plt.axvline(dt_df[\"max_depth\"].iloc[dt_df[\"accuracy_validation\"].idxmax()], c=\"red\",label=\"Optimal Max_depth\")\n",
    "plt.ylabel(\"Accuracy\")\n",
    "plt.title(\"max_depth Vs Model Accuracy Score\")\n",
    "plt.grid()\n",
    "plt.legend()\n",
    "plt.show()"
   ]
  },
  {
   "cell_type": "markdown",
   "metadata": {
    "id": "7yn1-p3pvNcm"
   },
   "source": [
    "Based on the above plot ,the optimal value for the maximum depth of the decision tree is 6"
   ]
  },
  {
   "cell_type": "markdown",
   "metadata": {
    "id": "YY-iEASbBHrm"
   },
   "source": [
    "##### **Provide two advantages of decision trees over KNN. Provide two weaknesses of decision trees (classification or regression trees)**"
   ]
  },
  {
   "cell_type": "markdown",
   "metadata": {
    "id": "nzNzO6IU3ejQ"
   },
   "source": [
    "Advantages of Decision Tree over KNN  are as follows:\n",
    "1. Normalization is not required for Decision Tree model as compare to KNN as KNN model is very sensitive to unit scale\n",
    "2. In the case  of the Decision tree, the overall model is made of several simple classifiers , therefore it can ignore features of less importance ,whereas  KNN  is a distance based model , where each feature  and each data point contributes in making the prediction. Therefore it treats all feature equally. This overall makes the KNN model computationally expensive for real time data.\n",
    " \n",
    "Weakness of Decision Tree are as follows:\n",
    "1. Decision trees are largely unstable. A small change in the data can result in a major change in the structure of the decision tree, which can convey a different result.\n",
    "2. Decision tree model cannot predict values outside the range it has seen in the training set.It's limit range between the maximum and minimum value of the datapoint seen in the training set."
   ]
  },
  {
   "cell_type": "markdown",
   "metadata": {
    "id": "B5rIPBaxBSis"
   },
   "source": [
    " #### **What is the purpose of the validation set, i.e., how is it different than the test set**"
   ]
  },
  {
   "cell_type": "markdown",
   "metadata": {
    "id": "cS_U1llZMcJ8"
   },
   "source": [
    "The purpose of the validation set is to provide an unbiased evaluation of a model fit on the training data set while tuning model hyperparameters.It also helps to evaluate the overfitting of the model.\n",
    " \n",
    "The test set is different from the validation set as the test data is always curated. i.e , the test date is balanced with respect to the target variable.  The test data is always ideally exposed to the final model where as the validation set is used to make the model achieve its best performance "
   ]
  },
  {
   "cell_type": "markdown",
   "metadata": {
    "id": "vQmL1GxABgs5"
   },
   "source": [
    "####**Re-run a decision tree or logistic regression on the data again:**"
   ]
  },
  {
   "cell_type": "markdown",
   "metadata": {
    "id": "h-BZJlyGBqJC"
   },
   "source": [
    "##### **Perform a 5-fold cross validation to optimize the hyperparameters of your model**"
   ]
  },
  {
   "cell_type": "code",
   "execution_count": 40,
   "metadata": {
    "id": "SWjPrM3nBvtI"
   },
   "outputs": [],
   "source": [
    "from sklearn.pipeline import Pipeline\n",
    "from sklearn.model_selection import GridSearchCV\n",
    "from tempfile import mkdtemp\n",
    "cachedir = mkdtemp()"
   ]
  },
  {
   "cell_type": "code",
   "execution_count": 41,
   "metadata": {
    "id": "HacHwgv-CUIm"
   },
   "outputs": [],
   "source": [
    "estimators = [('model',LogisticRegression())]\n",
    "\n",
    "pipe = Pipeline(estimators,memory = cachedir)\n",
    "\n",
    "param_grid = [\n",
    "            {'model': [LogisticRegression()], \n",
    "             'model__C': [0.001, 0.01, 0.1, 1, 10, 100, 1000],\n",
    "              'model__penalty':['none', 'l1', 'l2', 'elasticnet']},\n",
    "            {'model': [DecisionTreeClassifier(random_state=42)],\n",
    "            'model__max_depth': list(range(1,10))}\n",
    "]\n",
    "\n",
    "grid = GridSearchCV(pipe, param_grid, cv=5)\n",
    "fittedgrid = grid.fit(X_train, y_train)"
   ]
  },
  {
   "cell_type": "markdown",
   "metadata": {
    "id": "Ga-YTrG1FgTl"
   },
   "source": [
    "Exploring the best estimator and parameters "
   ]
  },
  {
   "cell_type": "code",
   "execution_count": 42,
   "metadata": {
    "colab": {
     "base_uri": "https://localhost:8080/"
    },
    "id": "v8aZATeT3YJn",
    "outputId": "9efd41f6-c45d-477b-d4e8-0ab5f9c11570"
   },
   "outputs": [
    {
     "data": {
      "text/plain": [
       "Pipeline(memory='/tmp/tmpy71ccx7j',\n",
       "         steps=[('model', LogisticRegression(C=0.01))])"
      ]
     },
     "execution_count": 42,
     "metadata": {},
     "output_type": "execute_result"
    }
   ],
   "source": [
    "fittedgrid.best_estimator_"
   ]
  },
  {
   "cell_type": "code",
   "execution_count": 43,
   "metadata": {
    "colab": {
     "base_uri": "https://localhost:8080/"
    },
    "id": "4gBtADh_FQT7",
    "outputId": "86c34595-0ea1-4197-823b-4e7985941828"
   },
   "outputs": [
    {
     "data": {
      "text/plain": [
       "{'model': LogisticRegression(C=0.01), 'model__C': 0.01, 'model__penalty': 'l2'}"
      ]
     },
     "execution_count": 43,
     "metadata": {},
     "output_type": "execute_result"
    }
   ],
   "source": [
    "fittedgrid.best_params_"
   ]
  },
  {
   "cell_type": "markdown",
   "metadata": {
    "id": "T43OmAuLFr3G"
   },
   "source": [
    "Predicting the Best score"
   ]
  },
  {
   "cell_type": "code",
   "execution_count": 44,
   "metadata": {
    "colab": {
     "base_uri": "https://localhost:8080/"
    },
    "id": "HRRAbrFPFkqK",
    "outputId": "e1e57db5-e07a-4f26-a9b6-e0636afc2c88"
   },
   "outputs": [
    {
     "data": {
      "text/plain": [
       "0.7337707991563159"
      ]
     },
     "execution_count": 44,
     "metadata": {},
     "output_type": "execute_result"
    }
   ],
   "source": [
    "fittedgrid.score(X_test, y_test)"
   ]
  },
  {
   "cell_type": "markdown",
   "metadata": {
    "id": "X9QSx-thF7SZ"
   },
   "source": [
    "Based on the above results, the optimal model for the data set is Logistic Regression with C value of 0.01 and l2 penalty parameter"
   ]
  },
  {
   "cell_type": "markdown",
   "metadata": {
    "id": "PAZRDgJSBwcF"
   },
   "source": [
    "#####**What does your confusion matrix look like for your best model on the test set?**"
   ]
  },
  {
   "cell_type": "code",
   "execution_count": 45,
   "metadata": {
    "id": "v9zYLrvLKEgQ"
   },
   "outputs": [],
   "source": [
    "from sklearn.metrics import plot_confusion_matrix, confusion_matrix,classification_report,precision_score,recall_score"
   ]
  },
  {
   "cell_type": "markdown",
   "metadata": {
    "id": "MVZKv9ppd6at"
   },
   "source": [
    "Building the model with the optimal value derived from the hyperparmeter tunning and grid search result"
   ]
  },
  {
   "cell_type": "code",
   "execution_count": 46,
   "metadata": {
    "colab": {
     "base_uri": "https://localhost:8080/"
    },
    "id": "po1m4yGpGIcF",
    "outputId": "0dc96b87-f856-4725-da8e-da5ed5ba8ee8"
   },
   "outputs": [
    {
     "name": "stdout",
     "output_type": "stream",
     "text": [
      "The accuracy score  on the test set is 0.7337707991563159\n"
     ]
    }
   ],
   "source": [
    "lm_model = LogisticRegression(C=0.01,penalty='l2', random_state=42)\n",
    "lm_model.fit(X_train,y_train)\n",
    "score= lm_model.score(X_test, y_test)\n",
    "print(f\"The accuracy score  on the test set is {score}\")"
   ]
  },
  {
   "cell_type": "markdown",
   "metadata": {
    "id": "KhY0aaiTLFdy"
   },
   "source": [
    "Creating the confusion matrix"
   ]
  },
  {
   "cell_type": "code",
   "execution_count": 47,
   "metadata": {
    "colab": {
     "base_uri": "https://localhost:8080/",
     "height": 112
    },
    "id": "Y8yu5bdXB0Nm",
    "outputId": "0ba8e5aa-482f-4b48-cbee-eda7c0836494"
   },
   "outputs": [
    {
     "data": {
      "text/html": [
       "\n",
       "  <div id=\"df-94f0d10e-15f3-4675-bfca-06db42531891\">\n",
       "    <div class=\"colab-df-container\">\n",
       "      <div>\n",
       "<style scoped>\n",
       "    .dataframe tbody tr th:only-of-type {\n",
       "        vertical-align: middle;\n",
       "    }\n",
       "\n",
       "    .dataframe tbody tr th {\n",
       "        vertical-align: top;\n",
       "    }\n",
       "\n",
       "    .dataframe thead th {\n",
       "        text-align: right;\n",
       "    }\n",
       "</style>\n",
       "<table border=\"1\" class=\"dataframe\">\n",
       "  <thead>\n",
       "    <tr style=\"text-align: right;\">\n",
       "      <th></th>\n",
       "      <th>Predicted as Bad ratings</th>\n",
       "      <th>Predicted as Good ratings</th>\n",
       "    </tr>\n",
       "  </thead>\n",
       "  <tbody>\n",
       "    <tr>\n",
       "      <th>Actual Bad ratings</th>\n",
       "      <td>1059</td>\n",
       "      <td>750</td>\n",
       "    </tr>\n",
       "    <tr>\n",
       "      <th>Actual Good ratings</th>\n",
       "      <td>386</td>\n",
       "      <td>2072</td>\n",
       "    </tr>\n",
       "  </tbody>\n",
       "</table>\n",
       "</div>\n",
       "      <button class=\"colab-df-convert\" onclick=\"convertToInteractive('df-94f0d10e-15f3-4675-bfca-06db42531891')\"\n",
       "              title=\"Convert this dataframe to an interactive table.\"\n",
       "              style=\"display:none;\">\n",
       "        \n",
       "  <svg xmlns=\"http://www.w3.org/2000/svg\" height=\"24px\"viewBox=\"0 0 24 24\"\n",
       "       width=\"24px\">\n",
       "    <path d=\"M0 0h24v24H0V0z\" fill=\"none\"/>\n",
       "    <path d=\"M18.56 5.44l.94 2.06.94-2.06 2.06-.94-2.06-.94-.94-2.06-.94 2.06-2.06.94zm-11 1L8.5 8.5l.94-2.06 2.06-.94-2.06-.94L8.5 2.5l-.94 2.06-2.06.94zm10 10l.94 2.06.94-2.06 2.06-.94-2.06-.94-.94-2.06-.94 2.06-2.06.94z\"/><path d=\"M17.41 7.96l-1.37-1.37c-.4-.4-.92-.59-1.43-.59-.52 0-1.04.2-1.43.59L10.3 9.45l-7.72 7.72c-.78.78-.78 2.05 0 2.83L4 21.41c.39.39.9.59 1.41.59.51 0 1.02-.2 1.41-.59l7.78-7.78 2.81-2.81c.8-.78.8-2.07 0-2.86zM5.41 20L4 18.59l7.72-7.72 1.47 1.35L5.41 20z\"/>\n",
       "  </svg>\n",
       "      </button>\n",
       "      \n",
       "  <style>\n",
       "    .colab-df-container {\n",
       "      display:flex;\n",
       "      flex-wrap:wrap;\n",
       "      gap: 12px;\n",
       "    }\n",
       "\n",
       "    .colab-df-convert {\n",
       "      background-color: #E8F0FE;\n",
       "      border: none;\n",
       "      border-radius: 50%;\n",
       "      cursor: pointer;\n",
       "      display: none;\n",
       "      fill: #1967D2;\n",
       "      height: 32px;\n",
       "      padding: 0 0 0 0;\n",
       "      width: 32px;\n",
       "    }\n",
       "\n",
       "    .colab-df-convert:hover {\n",
       "      background-color: #E2EBFA;\n",
       "      box-shadow: 0px 1px 2px rgba(60, 64, 67, 0.3), 0px 1px 3px 1px rgba(60, 64, 67, 0.15);\n",
       "      fill: #174EA6;\n",
       "    }\n",
       "\n",
       "    [theme=dark] .colab-df-convert {\n",
       "      background-color: #3B4455;\n",
       "      fill: #D2E3FC;\n",
       "    }\n",
       "\n",
       "    [theme=dark] .colab-df-convert:hover {\n",
       "      background-color: #434B5C;\n",
       "      box-shadow: 0px 1px 3px 1px rgba(0, 0, 0, 0.15);\n",
       "      filter: drop-shadow(0px 1px 2px rgba(0, 0, 0, 0.3));\n",
       "      fill: #FFFFFF;\n",
       "    }\n",
       "  </style>\n",
       "\n",
       "      <script>\n",
       "        const buttonEl =\n",
       "          document.querySelector('#df-94f0d10e-15f3-4675-bfca-06db42531891 button.colab-df-convert');\n",
       "        buttonEl.style.display =\n",
       "          google.colab.kernel.accessAllowed ? 'block' : 'none';\n",
       "\n",
       "        async function convertToInteractive(key) {\n",
       "          const element = document.querySelector('#df-94f0d10e-15f3-4675-bfca-06db42531891');\n",
       "          const dataTable =\n",
       "            await google.colab.kernel.invokeFunction('convertToInteractive',\n",
       "                                                     [key], {});\n",
       "          if (!dataTable) return;\n",
       "\n",
       "          const docLinkHtml = 'Like what you see? Visit the ' +\n",
       "            '<a target=\"_blank\" href=https://colab.research.google.com/notebooks/data_table.ipynb>data table notebook</a>'\n",
       "            + ' to learn more about interactive tables.';\n",
       "          element.innerHTML = '';\n",
       "          dataTable['output_type'] = 'display_data';\n",
       "          await google.colab.output.renderOutput(dataTable, element);\n",
       "          const docLink = document.createElement('div');\n",
       "          docLink.innerHTML = docLinkHtml;\n",
       "          element.appendChild(docLink);\n",
       "        }\n",
       "      </script>\n",
       "    </div>\n",
       "  </div>\n",
       "  "
      ],
      "text/plain": [
       "                     Predicted as Bad ratings  Predicted as Good ratings\n",
       "Actual Bad ratings                       1059                        750\n",
       "Actual Good ratings                       386                       2072"
      ]
     },
     "metadata": {},
     "output_type": "display_data"
    }
   ],
   "source": [
    "# Get class predictions\n",
    "y_pred = lm_model.predict(X_test)\n",
    "\n",
    "# Generate confusion matrix\n",
    "cf_matrix = confusion_matrix(y_test, y_pred)\n",
    "# label rows and columns\n",
    "hr_df = pd.DataFrame(\n",
    "    cf_matrix, \n",
    "    columns=[\"Predicted as Bad ratings\", \"Predicted as Good ratings\"],\n",
    "    index=[\"Actual Bad ratings\", \"Actual Good ratings\"]\n",
    ")\n",
    "\n",
    "display(hr_df)\n"
   ]
  },
  {
   "cell_type": "markdown",
   "metadata": {
    "id": "L4aIk8glNQJi"
   },
   "source": [
    "Visualizing  the Confusion Matrix "
   ]
  },
  {
   "cell_type": "code",
   "execution_count": 48,
   "metadata": {
    "colab": {
     "base_uri": "https://localhost:8080/",
     "height": 279
    },
    "id": "VpN3aA3iNO5U",
    "outputId": "ab6bb8d6-39df-42e2-8362-0ae4458802a8"
   },
   "outputs": [
    {
     "data": {
      "image/png": "[encoded data removed]",
      "text/plain": [
       "<Figure size 432x288 with 2 Axes>"
      ]
     },
     "metadata": {
      "needs_background": "light"
     },
     "output_type": "display_data"
    }
   ],
   "source": [
    "plot_confusion_matrix(lm_model, X_test, y_test);"
   ]
  },
  {
   "cell_type": "markdown",
   "metadata": {
    "id": "-rrh5-EDRJO1"
   },
   "source": [
    "Generating the Classification Report to explore the precision and Recall Score"
   ]
  },
  {
   "cell_type": "code",
   "execution_count": 49,
   "metadata": {
    "colab": {
     "base_uri": "https://localhost:8080/"
    },
    "id": "Yo25V20ODau9",
    "outputId": "b46949ec-966a-4744-e6d2-6dd4c66a45cc"
   },
   "outputs": [
    {
     "name": "stdout",
     "output_type": "stream",
     "text": [
      "              precision    recall  f1-score   support\n",
      "\n",
      "           0       0.73      0.59      0.65      1809\n",
      "           1       0.73      0.84      0.78      2458\n",
      "\n",
      "    accuracy                           0.73      4267\n",
      "   macro avg       0.73      0.71      0.72      4267\n",
      "weighted avg       0.73      0.73      0.73      4267\n",
      "\n"
     ]
    }
   ],
   "source": [
    "report_initial = classification_report(y_test, y_pred)\n",
    "print(report_initial)"
   ]
  },
  {
   "cell_type": "markdown",
   "metadata": {
    "id": "oF88jMLdctCw"
   },
   "source": [
    "**Summary**<br>\n",
    "Based on the above metric the inference drawn are as follows:\n",
    " - For the positive class i.e for good rating the precision score is 73%: which means, out of all positive predictions,73% is correct i.e they are actually good ratings(True positive) and  remaining 23%  are actually bad ratings (False Positive).\n",
    " - The recall score for positive class i.e for good rating is 84%  which means  the model correctly predicted 84% of the actual positive rating as positive and the remaining 16% which are actually positive ratings as negative rating (False negative).\n"
   ]
  },
  {
   "cell_type": "markdown",
   "metadata": {
    "id": "ay0i5oZensMU"
   },
   "source": [
    "#### **Create one new feature of your choice:**"
   ]
  },
  {
   "cell_type": "markdown",
   "metadata": {
    "id": "aC2kpfotnvuh"
   },
   "source": [
    "##### **Explain your new feature and why you consider it will improve accuracy.**"
   ]
  },
  {
   "cell_type": "markdown",
   "metadata": {
    "id": "54yQKyTb7cf4"
   },
   "source": [
    "The new feature considered is the Subjectivity of the negative and positive review i.e to quantify the amount of personal opinion and factual information contained in the text. The higher subjectivity means that the text contains personal opinion rather than factual information.\n",
    " \n",
    "This new feature will help to address the intensity of the reviews  based on its meaning rather than its frequency of occurrence.\n"
   ]
  },
  {
   "cell_type": "markdown",
   "metadata": {
    "id": "abLKqOCN_Juo"
   },
   "source": [
    "Creating a dataframe for negative reviews words"
   ]
  },
  {
   "cell_type": "code",
   "execution_count": 50,
   "metadata": {
    "colab": {
     "base_uri": "https://localhost:8080/",
     "height": 300
    },
    "id": "MR1RchMNya0Q",
    "outputId": "962375c3-43eb-456c-981b-2c20a247aaf3"
   },
   "outputs": [
    {
     "data": {
      "text/html": [
       "\n",
       "  <div id=\"df-b7de9f60-3fd9-4dc4-b17e-af0866b4cfc1\">\n",
       "    <div class=\"colab-df-container\">\n",
       "      <div>\n",
       "<style scoped>\n",
       "    .dataframe tbody tr th:only-of-type {\n",
       "        vertical-align: middle;\n",
       "    }\n",
       "\n",
       "    .dataframe tbody tr th {\n",
       "        vertical-align: top;\n",
       "    }\n",
       "\n",
       "    .dataframe thead th {\n",
       "        text-align: right;\n",
       "    }\n",
       "</style>\n",
       "<table border=\"1\" class=\"dataframe\">\n",
       "  <thead>\n",
       "    <tr style=\"text-align: right;\">\n",
       "      <th></th>\n",
       "      <th>n_abit</th>\n",
       "      <th>n_able</th>\n",
       "      <th>n_abrupt</th>\n",
       "      <th>n_absolutely</th>\n",
       "      <th>n_ac</th>\n",
       "      <th>n_accept</th>\n",
       "      <th>n_acceptable</th>\n",
       "      <th>n_access</th>\n",
       "      <th>n_accessible</th>\n",
       "      <th>n_accommodate</th>\n",
       "      <th>...</th>\n",
       "      <th>n_world</th>\n",
       "      <th>n_worry</th>\n",
       "      <th>n_worth</th>\n",
       "      <th>n_would</th>\n",
       "      <th>n_write</th>\n",
       "      <th>n_wrong</th>\n",
       "      <th>n_year</th>\n",
       "      <th>n_yes</th>\n",
       "      <th>n_yet</th>\n",
       "      <th>n_young</th>\n",
       "    </tr>\n",
       "  </thead>\n",
       "  <tbody>\n",
       "    <tr>\n",
       "      <th>0</th>\n",
       "      <td>0</td>\n",
       "      <td>0</td>\n",
       "      <td>0</td>\n",
       "      <td>0</td>\n",
       "      <td>0</td>\n",
       "      <td>0</td>\n",
       "      <td>0</td>\n",
       "      <td>0</td>\n",
       "      <td>0</td>\n",
       "      <td>0</td>\n",
       "      <td>...</td>\n",
       "      <td>0</td>\n",
       "      <td>0</td>\n",
       "      <td>0</td>\n",
       "      <td>0</td>\n",
       "      <td>0</td>\n",
       "      <td>0</td>\n",
       "      <td>0</td>\n",
       "      <td>0</td>\n",
       "      <td>0</td>\n",
       "      <td>0</td>\n",
       "    </tr>\n",
       "    <tr>\n",
       "      <th>1</th>\n",
       "      <td>0</td>\n",
       "      <td>0</td>\n",
       "      <td>0</td>\n",
       "      <td>0</td>\n",
       "      <td>0</td>\n",
       "      <td>0</td>\n",
       "      <td>0</td>\n",
       "      <td>0</td>\n",
       "      <td>0</td>\n",
       "      <td>0</td>\n",
       "      <td>...</td>\n",
       "      <td>0</td>\n",
       "      <td>0</td>\n",
       "      <td>0</td>\n",
       "      <td>0</td>\n",
       "      <td>0</td>\n",
       "      <td>0</td>\n",
       "      <td>0</td>\n",
       "      <td>0</td>\n",
       "      <td>0</td>\n",
       "      <td>0</td>\n",
       "    </tr>\n",
       "    <tr>\n",
       "      <th>2</th>\n",
       "      <td>0</td>\n",
       "      <td>0</td>\n",
       "      <td>0</td>\n",
       "      <td>0</td>\n",
       "      <td>0</td>\n",
       "      <td>0</td>\n",
       "      <td>0</td>\n",
       "      <td>0</td>\n",
       "      <td>0</td>\n",
       "      <td>0</td>\n",
       "      <td>...</td>\n",
       "      <td>0</td>\n",
       "      <td>0</td>\n",
       "      <td>0</td>\n",
       "      <td>0</td>\n",
       "      <td>0</td>\n",
       "      <td>0</td>\n",
       "      <td>0</td>\n",
       "      <td>0</td>\n",
       "      <td>0</td>\n",
       "      <td>0</td>\n",
       "    </tr>\n",
       "    <tr>\n",
       "      <th>3</th>\n",
       "      <td>0</td>\n",
       "      <td>0</td>\n",
       "      <td>0</td>\n",
       "      <td>0</td>\n",
       "      <td>0</td>\n",
       "      <td>0</td>\n",
       "      <td>0</td>\n",
       "      <td>0</td>\n",
       "      <td>0</td>\n",
       "      <td>0</td>\n",
       "      <td>...</td>\n",
       "      <td>0</td>\n",
       "      <td>0</td>\n",
       "      <td>0</td>\n",
       "      <td>0</td>\n",
       "      <td>0</td>\n",
       "      <td>0</td>\n",
       "      <td>0</td>\n",
       "      <td>0</td>\n",
       "      <td>0</td>\n",
       "      <td>0</td>\n",
       "    </tr>\n",
       "    <tr>\n",
       "      <th>4</th>\n",
       "      <td>0</td>\n",
       "      <td>0</td>\n",
       "      <td>0</td>\n",
       "      <td>0</td>\n",
       "      <td>0</td>\n",
       "      <td>0</td>\n",
       "      <td>0</td>\n",
       "      <td>0</td>\n",
       "      <td>0</td>\n",
       "      <td>0</td>\n",
       "      <td>...</td>\n",
       "      <td>0</td>\n",
       "      <td>0</td>\n",
       "      <td>0</td>\n",
       "      <td>0</td>\n",
       "      <td>0</td>\n",
       "      <td>0</td>\n",
       "      <td>0</td>\n",
       "      <td>0</td>\n",
       "      <td>0</td>\n",
       "      <td>0</td>\n",
       "    </tr>\n",
       "  </tbody>\n",
       "</table>\n",
       "<p>5 rows × 1286 columns</p>\n",
       "</div>\n",
       "      <button class=\"colab-df-convert\" onclick=\"convertToInteractive('df-b7de9f60-3fd9-4dc4-b17e-af0866b4cfc1')\"\n",
       "              title=\"Convert this dataframe to an interactive table.\"\n",
       "              style=\"display:none;\">\n",
       "        \n",
       "  <svg xmlns=\"http://www.w3.org/2000/svg\" height=\"24px\"viewBox=\"0 0 24 24\"\n",
       "       width=\"24px\">\n",
       "    <path d=\"M0 0h24v24H0V0z\" fill=\"none\"/>\n",
       "    <path d=\"M18.56 5.44l.94 2.06.94-2.06 2.06-.94-2.06-.94-.94-2.06-.94 2.06-2.06.94zm-11 1L8.5 8.5l.94-2.06 2.06-.94-2.06-.94L8.5 2.5l-.94 2.06-2.06.94zm10 10l.94 2.06.94-2.06 2.06-.94-2.06-.94-.94-2.06-.94 2.06-2.06.94z\"/><path d=\"M17.41 7.96l-1.37-1.37c-.4-.4-.92-.59-1.43-.59-.52 0-1.04.2-1.43.59L10.3 9.45l-7.72 7.72c-.78.78-.78 2.05 0 2.83L4 21.41c.39.39.9.59 1.41.59.51 0 1.02-.2 1.41-.59l7.78-7.78 2.81-2.81c.8-.78.8-2.07 0-2.86zM5.41 20L4 18.59l7.72-7.72 1.47 1.35L5.41 20z\"/>\n",
       "  </svg>\n",
       "      </button>\n",
       "      \n",
       "  <style>\n",
       "    .colab-df-container {\n",
       "      display:flex;\n",
       "      flex-wrap:wrap;\n",
       "      gap: 12px;\n",
       "    }\n",
       "\n",
       "    .colab-df-convert {\n",
       "      background-color: #E8F0FE;\n",
       "      border: none;\n",
       "      border-radius: 50%;\n",
       "      cursor: pointer;\n",
       "      display: none;\n",
       "      fill: #1967D2;\n",
       "      height: 32px;\n",
       "      padding: 0 0 0 0;\n",
       "      width: 32px;\n",
       "    }\n",
       "\n",
       "    .colab-df-convert:hover {\n",
       "      background-color: #E2EBFA;\n",
       "      box-shadow: 0px 1px 2px rgba(60, 64, 67, 0.3), 0px 1px 3px 1px rgba(60, 64, 67, 0.15);\n",
       "      fill: #174EA6;\n",
       "    }\n",
       "\n",
       "    [theme=dark] .colab-df-convert {\n",
       "      background-color: #3B4455;\n",
       "      fill: #D2E3FC;\n",
       "    }\n",
       "\n",
       "    [theme=dark] .colab-df-convert:hover {\n",
       "      background-color: #434B5C;\n",
       "      box-shadow: 0px 1px 3px 1px rgba(0, 0, 0, 0.15);\n",
       "      filter: drop-shadow(0px 1px 2px rgba(0, 0, 0, 0.3));\n",
       "      fill: #FFFFFF;\n",
       "    }\n",
       "  </style>\n",
       "\n",
       "      <script>\n",
       "        const buttonEl =\n",
       "          document.querySelector('#df-b7de9f60-3fd9-4dc4-b17e-af0866b4cfc1 button.colab-df-convert');\n",
       "        buttonEl.style.display =\n",
       "          google.colab.kernel.accessAllowed ? 'block' : 'none';\n",
       "\n",
       "        async function convertToInteractive(key) {\n",
       "          const element = document.querySelector('#df-b7de9f60-3fd9-4dc4-b17e-af0866b4cfc1');\n",
       "          const dataTable =\n",
       "            await google.colab.kernel.invokeFunction('convertToInteractive',\n",
       "                                                     [key], {});\n",
       "          if (!dataTable) return;\n",
       "\n",
       "          const docLinkHtml = 'Like what you see? Visit the ' +\n",
       "            '<a target=\"_blank\" href=https://colab.research.google.com/notebooks/data_table.ipynb>data table notebook</a>'\n",
       "            + ' to learn more about interactive tables.';\n",
       "          element.innerHTML = '';\n",
       "          dataTable['output_type'] = 'display_data';\n",
       "          await google.colab.output.renderOutput(dataTable, element);\n",
       "          const docLink = document.createElement('div');\n",
       "          docLink.innerHTML = docLinkHtml;\n",
       "          element.appendChild(docLink);\n",
       "        }\n",
       "      </script>\n",
       "    </div>\n",
       "  </div>\n",
       "  "
      ],
      "text/plain": [
       "   n_abit  n_able  n_abrupt  n_absolutely  n_ac  n_accept  n_acceptable  \\\n",
       "0       0       0         0             0     0         0             0   \n",
       "1       0       0         0             0     0         0             0   \n",
       "2       0       0         0             0     0         0             0   \n",
       "3       0       0         0             0     0         0             0   \n",
       "4       0       0         0             0     0         0             0   \n",
       "\n",
       "   n_access  n_accessible  n_accommodate  ...  n_world  n_worry  n_worth  \\\n",
       "0         0             0              0  ...        0        0        0   \n",
       "1         0             0              0  ...        0        0        0   \n",
       "2         0             0              0  ...        0        0        0   \n",
       "3         0             0              0  ...        0        0        0   \n",
       "4         0             0              0  ...        0        0        0   \n",
       "\n",
       "   n_would  n_write  n_wrong  n_year  n_yes  n_yet  n_young  \n",
       "0        0        0        0       0      0      0        0  \n",
       "1        0        0        0       0      0      0        0  \n",
       "2        0        0        0       0      0      0        0  \n",
       "3        0        0        0       0      0      0        0  \n",
       "4        0        0        0       0      0      0        0  \n",
       "\n",
       "[5 rows x 1286 columns]"
      ]
     },
     "execution_count": 50,
     "metadata": {},
     "output_type": "execute_result"
    }
   ],
   "source": [
    "# negative review \n",
    "negative_words_column = list(filter(lambda s: re.match('^n_[a-z].', s), X_train.columns))\n",
    "negative_word_df =X_train[negative_words_column]\n",
    "negative_word_df.head()"
   ]
  },
  {
   "cell_type": "markdown",
   "metadata": {
    "id": "MCVg8ollzo0R"
   },
   "source": [
    "Creating a dataframe for positive reviews words"
   ]
  },
  {
   "cell_type": "code",
   "execution_count": 51,
   "metadata": {
    "colab": {
     "base_uri": "https://localhost:8080/",
     "height": 300
    },
    "id": "r5EA22c-zlIA",
    "outputId": "61e3a83b-e7f1-4296-ff68-0fe5acfca7a8"
   },
   "outputs": [
    {
     "data": {
      "text/html": [
       "\n",
       "  <div id=\"df-b4700b93-537f-43bc-9121-6481ff8898e0\">\n",
       "    <div class=\"colab-df-container\">\n",
       "      <div>\n",
       "<style scoped>\n",
       "    .dataframe tbody tr th:only-of-type {\n",
       "        vertical-align: middle;\n",
       "    }\n",
       "\n",
       "    .dataframe tbody tr th {\n",
       "        vertical-align: top;\n",
       "    }\n",
       "\n",
       "    .dataframe thead th {\n",
       "        text-align: right;\n",
       "    }\n",
       "</style>\n",
       "<table border=\"1\" class=\"dataframe\">\n",
       "  <thead>\n",
       "    <tr style=\"text-align: right;\">\n",
       "      <th></th>\n",
       "      <th>p_able</th>\n",
       "      <th>p_absolutely</th>\n",
       "      <th>p_access</th>\n",
       "      <th>p_accessible</th>\n",
       "      <th>p_accommodate</th>\n",
       "      <th>p_accommodation</th>\n",
       "      <th>p_across</th>\n",
       "      <th>p_actually</th>\n",
       "      <th>p_add</th>\n",
       "      <th>p_adequate</th>\n",
       "      <th>...</th>\n",
       "      <th>p_world</th>\n",
       "      <th>p_worth</th>\n",
       "      <th>p_would</th>\n",
       "      <th>p_wow</th>\n",
       "      <th>p_yard</th>\n",
       "      <th>p_year</th>\n",
       "      <th>p_yes</th>\n",
       "      <th>p_yet</th>\n",
       "      <th>p_young</th>\n",
       "      <th>p_yummy</th>\n",
       "    </tr>\n",
       "  </thead>\n",
       "  <tbody>\n",
       "    <tr>\n",
       "      <th>0</th>\n",
       "      <td>0</td>\n",
       "      <td>0</td>\n",
       "      <td>0</td>\n",
       "      <td>0</td>\n",
       "      <td>0</td>\n",
       "      <td>0</td>\n",
       "      <td>0</td>\n",
       "      <td>0</td>\n",
       "      <td>0</td>\n",
       "      <td>0</td>\n",
       "      <td>...</td>\n",
       "      <td>0</td>\n",
       "      <td>0</td>\n",
       "      <td>1</td>\n",
       "      <td>0</td>\n",
       "      <td>0</td>\n",
       "      <td>0</td>\n",
       "      <td>0</td>\n",
       "      <td>0</td>\n",
       "      <td>0</td>\n",
       "      <td>0</td>\n",
       "    </tr>\n",
       "    <tr>\n",
       "      <th>1</th>\n",
       "      <td>0</td>\n",
       "      <td>0</td>\n",
       "      <td>0</td>\n",
       "      <td>0</td>\n",
       "      <td>0</td>\n",
       "      <td>0</td>\n",
       "      <td>0</td>\n",
       "      <td>0</td>\n",
       "      <td>0</td>\n",
       "      <td>0</td>\n",
       "      <td>...</td>\n",
       "      <td>0</td>\n",
       "      <td>0</td>\n",
       "      <td>0</td>\n",
       "      <td>0</td>\n",
       "      <td>0</td>\n",
       "      <td>0</td>\n",
       "      <td>0</td>\n",
       "      <td>0</td>\n",
       "      <td>0</td>\n",
       "      <td>0</td>\n",
       "    </tr>\n",
       "    <tr>\n",
       "      <th>2</th>\n",
       "      <td>0</td>\n",
       "      <td>0</td>\n",
       "      <td>0</td>\n",
       "      <td>0</td>\n",
       "      <td>0</td>\n",
       "      <td>0</td>\n",
       "      <td>0</td>\n",
       "      <td>0</td>\n",
       "      <td>0</td>\n",
       "      <td>0</td>\n",
       "      <td>...</td>\n",
       "      <td>0</td>\n",
       "      <td>0</td>\n",
       "      <td>0</td>\n",
       "      <td>0</td>\n",
       "      <td>0</td>\n",
       "      <td>0</td>\n",
       "      <td>0</td>\n",
       "      <td>0</td>\n",
       "      <td>0</td>\n",
       "      <td>0</td>\n",
       "    </tr>\n",
       "    <tr>\n",
       "      <th>3</th>\n",
       "      <td>0</td>\n",
       "      <td>0</td>\n",
       "      <td>0</td>\n",
       "      <td>0</td>\n",
       "      <td>0</td>\n",
       "      <td>0</td>\n",
       "      <td>0</td>\n",
       "      <td>0</td>\n",
       "      <td>0</td>\n",
       "      <td>0</td>\n",
       "      <td>...</td>\n",
       "      <td>0</td>\n",
       "      <td>0</td>\n",
       "      <td>0</td>\n",
       "      <td>0</td>\n",
       "      <td>0</td>\n",
       "      <td>0</td>\n",
       "      <td>0</td>\n",
       "      <td>0</td>\n",
       "      <td>0</td>\n",
       "      <td>0</td>\n",
       "    </tr>\n",
       "    <tr>\n",
       "      <th>4</th>\n",
       "      <td>0</td>\n",
       "      <td>0</td>\n",
       "      <td>0</td>\n",
       "      <td>0</td>\n",
       "      <td>0</td>\n",
       "      <td>0</td>\n",
       "      <td>0</td>\n",
       "      <td>0</td>\n",
       "      <td>0</td>\n",
       "      <td>0</td>\n",
       "      <td>...</td>\n",
       "      <td>0</td>\n",
       "      <td>0</td>\n",
       "      <td>0</td>\n",
       "      <td>0</td>\n",
       "      <td>0</td>\n",
       "      <td>0</td>\n",
       "      <td>0</td>\n",
       "      <td>0</td>\n",
       "      <td>0</td>\n",
       "      <td>0</td>\n",
       "    </tr>\n",
       "  </tbody>\n",
       "</table>\n",
       "<p>5 rows × 958 columns</p>\n",
       "</div>\n",
       "      <button class=\"colab-df-convert\" onclick=\"convertToInteractive('df-b4700b93-537f-43bc-9121-6481ff8898e0')\"\n",
       "              title=\"Convert this dataframe to an interactive table.\"\n",
       "              style=\"display:none;\">\n",
       "        \n",
       "  <svg xmlns=\"http://www.w3.org/2000/svg\" height=\"24px\"viewBox=\"0 0 24 24\"\n",
       "       width=\"24px\">\n",
       "    <path d=\"M0 0h24v24H0V0z\" fill=\"none\"/>\n",
       "    <path d=\"M18.56 5.44l.94 2.06.94-2.06 2.06-.94-2.06-.94-.94-2.06-.94 2.06-2.06.94zm-11 1L8.5 8.5l.94-2.06 2.06-.94-2.06-.94L8.5 2.5l-.94 2.06-2.06.94zm10 10l.94 2.06.94-2.06 2.06-.94-2.06-.94-.94-2.06-.94 2.06-2.06.94z\"/><path d=\"M17.41 7.96l-1.37-1.37c-.4-.4-.92-.59-1.43-.59-.52 0-1.04.2-1.43.59L10.3 9.45l-7.72 7.72c-.78.78-.78 2.05 0 2.83L4 21.41c.39.39.9.59 1.41.59.51 0 1.02-.2 1.41-.59l7.78-7.78 2.81-2.81c.8-.78.8-2.07 0-2.86zM5.41 20L4 18.59l7.72-7.72 1.47 1.35L5.41 20z\"/>\n",
       "  </svg>\n",
       "      </button>\n",
       "      \n",
       "  <style>\n",
       "    .colab-df-container {\n",
       "      display:flex;\n",
       "      flex-wrap:wrap;\n",
       "      gap: 12px;\n",
       "    }\n",
       "\n",
       "    .colab-df-convert {\n",
       "      background-color: #E8F0FE;\n",
       "      border: none;\n",
       "      border-radius: 50%;\n",
       "      cursor: pointer;\n",
       "      display: none;\n",
       "      fill: #1967D2;\n",
       "      height: 32px;\n",
       "      padding: 0 0 0 0;\n",
       "      width: 32px;\n",
       "    }\n",
       "\n",
       "    .colab-df-convert:hover {\n",
       "      background-color: #E2EBFA;\n",
       "      box-shadow: 0px 1px 2px rgba(60, 64, 67, 0.3), 0px 1px 3px 1px rgba(60, 64, 67, 0.15);\n",
       "      fill: #174EA6;\n",
       "    }\n",
       "\n",
       "    [theme=dark] .colab-df-convert {\n",
       "      background-color: #3B4455;\n",
       "      fill: #D2E3FC;\n",
       "    }\n",
       "\n",
       "    [theme=dark] .colab-df-convert:hover {\n",
       "      background-color: #434B5C;\n",
       "      box-shadow: 0px 1px 3px 1px rgba(0, 0, 0, 0.15);\n",
       "      filter: drop-shadow(0px 1px 2px rgba(0, 0, 0, 0.3));\n",
       "      fill: #FFFFFF;\n",
       "    }\n",
       "  </style>\n",
       "\n",
       "      <script>\n",
       "        const buttonEl =\n",
       "          document.querySelector('#df-b4700b93-537f-43bc-9121-6481ff8898e0 button.colab-df-convert');\n",
       "        buttonEl.style.display =\n",
       "          google.colab.kernel.accessAllowed ? 'block' : 'none';\n",
       "\n",
       "        async function convertToInteractive(key) {\n",
       "          const element = document.querySelector('#df-b4700b93-537f-43bc-9121-6481ff8898e0');\n",
       "          const dataTable =\n",
       "            await google.colab.kernel.invokeFunction('convertToInteractive',\n",
       "                                                     [key], {});\n",
       "          if (!dataTable) return;\n",
       "\n",
       "          const docLinkHtml = 'Like what you see? Visit the ' +\n",
       "            '<a target=\"_blank\" href=https://colab.research.google.com/notebooks/data_table.ipynb>data table notebook</a>'\n",
       "            + ' to learn more about interactive tables.';\n",
       "          element.innerHTML = '';\n",
       "          dataTable['output_type'] = 'display_data';\n",
       "          await google.colab.output.renderOutput(dataTable, element);\n",
       "          const docLink = document.createElement('div');\n",
       "          docLink.innerHTML = docLinkHtml;\n",
       "          element.appendChild(docLink);\n",
       "        }\n",
       "      </script>\n",
       "    </div>\n",
       "  </div>\n",
       "  "
      ],
      "text/plain": [
       "   p_able  p_absolutely  p_access  p_accessible  p_accommodate  \\\n",
       "0       0             0         0             0              0   \n",
       "1       0             0         0             0              0   \n",
       "2       0             0         0             0              0   \n",
       "3       0             0         0             0              0   \n",
       "4       0             0         0             0              0   \n",
       "\n",
       "   p_accommodation  p_across  p_actually  p_add  p_adequate  ...  p_world  \\\n",
       "0                0         0           0      0           0  ...        0   \n",
       "1                0         0           0      0           0  ...        0   \n",
       "2                0         0           0      0           0  ...        0   \n",
       "3                0         0           0      0           0  ...        0   \n",
       "4                0         0           0      0           0  ...        0   \n",
       "\n",
       "   p_worth  p_would  p_wow  p_yard  p_year  p_yes  p_yet  p_young  p_yummy  \n",
       "0        0        1      0       0       0      0      0        0        0  \n",
       "1        0        0      0       0       0      0      0        0        0  \n",
       "2        0        0      0       0       0      0      0        0        0  \n",
       "3        0        0      0       0       0      0      0        0        0  \n",
       "4        0        0      0       0       0      0      0        0        0  \n",
       "\n",
       "[5 rows x 958 columns]"
      ]
     },
     "execution_count": 51,
     "metadata": {},
     "output_type": "execute_result"
    }
   ],
   "source": [
    "# Positive review \n",
    "positive_words_column = list(filter(lambda s: re.match('^p_[a-z].', s), X_train.columns))\n",
    "positive_words_df =X_train[positive_words_column]\n",
    "positive_words_df.head()"
   ]
  },
  {
   "cell_type": "markdown",
   "metadata": {
    "id": "IQYmoZlnzEsC"
   },
   "source": [
    "Function to do the sentiment_analysis of the review"
   ]
  },
  {
   "cell_type": "code",
   "execution_count": 52,
   "metadata": {
    "id": "XqAg184mnvDh"
   },
   "outputs": [],
   "source": [
    "\n",
    "def sentiment_analysis(row):\n",
    "  words=[]\n",
    "  text =\"\"\n",
    "  # Creating the review text\n",
    "  for index,val in enumerate(row.values):                         \n",
    "    if val!=0:\n",
    "      words.append(row.index[index])\n",
    "  words = [w[2:] for w in words]\n",
    "  text = \" \".join(words)\n",
    "\n",
    "  # calculating the subjectivity score of the review\n",
    "  subjectivity_score =TextBlob(text).sentiment.subjectivity\n",
    "\n",
    "  return round(subjectivity_score,4)\n",
    " "
   ]
  },
  {
   "cell_type": "markdown",
   "metadata": {
    "id": "0SyzkKeIy6dk"
   },
   "source": [
    "Calculating the subjectivity score for negative  and positive review over the training dataset"
   ]
  },
  {
   "cell_type": "code",
   "execution_count": 53,
   "metadata": {
    "colab": {
     "base_uri": "https://localhost:8080/"
    },
    "id": "UJ7vRyn5plcC",
    "outputId": "7ff4dd3b-bbf3-48b2-ab7e-08ea4ff2257c"
   },
   "outputs": [
    {
     "data": {
      "text/plain": [
       "(12798, 2745)"
      ]
     },
     "execution_count": 53,
     "metadata": {},
     "output_type": "execute_result"
    }
   ],
   "source": [
    "X_train_new=X_train.copy()\n",
    "X_train_new[\"n_subjectivity_score\"]=negative_word_df.apply(lambda x:sentiment_analysis(x),axis=1)\n",
    "X_train_new[\"p_subjectivity_score\"]=positive_words_df.apply(lambda x:sentiment_analysis(x),axis=1)\n",
    "X_train_new.shape"
   ]
  },
  {
   "cell_type": "markdown",
   "metadata": {
    "id": "xuPpD4n23iQm"
   },
   "source": [
    "Calculating the subjectivity score for negative  and positive review over the testing dataset"
   ]
  },
  {
   "cell_type": "code",
   "execution_count": 54,
   "metadata": {
    "colab": {
     "base_uri": "https://localhost:8080/"
    },
    "id": "v4yjZKLD3kBq",
    "outputId": "b248c842-5661-45f9-e665-46e09cf5ae96"
   },
   "outputs": [
    {
     "data": {
      "text/plain": [
       "(4267, 2745)"
      ]
     },
     "execution_count": 54,
     "metadata": {},
     "output_type": "execute_result"
    }
   ],
   "source": [
    "X_test_new=X_test.copy()\n",
    "X_test_new[\"n_subjectivity_score\"]=negative_word_df.apply(lambda x:sentiment_analysis(x),axis=1)\n",
    "X_test_new[\"p_subjectivity_score\"]=positive_words_df.apply(lambda x:sentiment_analysis(x),axis=1)\n",
    "X_test_new.shape"
   ]
  },
  {
   "cell_type": "markdown",
   "metadata": {
    "id": "TgLJbP5wn08z"
   },
   "source": [
    "##### **Run the model from question 5 again. You will have to re-optimize your hyperparameters.** "
   ]
  },
  {
   "cell_type": "code",
   "execution_count": 55,
   "metadata": {
    "id": "hUE6gxJxn4zv"
   },
   "outputs": [],
   "source": [
    "estimators = [('model',LogisticRegression(random_state=42))]\n",
    "\n",
    "pipe = Pipeline(estimators,memory = cachedir)\n",
    "\n",
    "param_grid = [\n",
    "            {'model': [LogisticRegression()], \n",
    "             'model__C': [0.001, 0.01, 0.1, 1, 10, 100, 1000],\n",
    "              'model__penalty':['none', 'l1', 'l2', 'elasticnet']}\n",
    "]\n",
    "\n",
    "grid = GridSearchCV(pipe, param_grid, cv=5)\n",
    "fittedgrid = grid.fit(X_train_new, y_train)"
   ]
  },
  {
   "cell_type": "markdown",
   "metadata": {
    "id": "2-OPgaSV4Xo3"
   },
   "source": [
    "Exploring the best estimator for the model"
   ]
  },
  {
   "cell_type": "code",
   "execution_count": 56,
   "metadata": {
    "colab": {
     "base_uri": "https://localhost:8080/"
    },
    "id": "7JojfASK4cux",
    "outputId": "47735692-5115-4f4b-ae9c-2b50a7d4373a"
   },
   "outputs": [
    {
     "data": {
      "text/plain": [
       "{'model': LogisticRegression(C=0.01), 'model__C': 0.01, 'model__penalty': 'l2'}"
      ]
     },
     "execution_count": 56,
     "metadata": {},
     "output_type": "execute_result"
    }
   ],
   "source": [
    "fittedgrid.best_params_"
   ]
  },
  {
   "cell_type": "markdown",
   "metadata": {
    "id": "zoazIlIk6FFe"
   },
   "source": [
    "Building the model with the optimal value derived from the hyperparmeter tunning and grid search result"
   ]
  },
  {
   "cell_type": "code",
   "execution_count": 57,
   "metadata": {
    "colab": {
     "base_uri": "https://localhost:8080/"
    },
    "id": "RUWgO3Sv8RAo",
    "outputId": "5f9c6787-dea6-4ba9-cd44-d1cb4a99e966"
   },
   "outputs": [
    {
     "name": "stdout",
     "output_type": "stream",
     "text": [
      "The accuracy score on the test set is 0.7473634872275603\n"
     ]
    }
   ],
   "source": [
    "lm_model = LogisticRegression(C=0.01,penalty='l2', random_state=42)\n",
    "lm_model.fit(X_train_new,y_train)\n",
    "score= lm_model.score(X_test_new, y_test)\n",
    "print(f\"The accuracy score on the test set is {score}\")"
   ]
  },
  {
   "cell_type": "markdown",
   "metadata": {
    "id": "JGAvConqn5dt"
   },
   "source": [
    "##### **Has the accuracy score of your best model improved on the test set after adding the new feature you created?**"
   ]
  },
  {
   "cell_type": "code",
   "execution_count": 58,
   "metadata": {
    "colab": {
     "base_uri": "https://localhost:8080/",
     "height": 112
    },
    "id": "_YnbLW6Gn-Mx",
    "outputId": "223173c1-9b7d-47a0-d417-b9d186c96837"
   },
   "outputs": [
    {
     "data": {
      "text/html": [
       "\n",
       "  <div id=\"df-e0ef8f23-f296-496b-9dee-e3c5db235593\">\n",
       "    <div class=\"colab-df-container\">\n",
       "      <div>\n",
       "<style scoped>\n",
       "    .dataframe tbody tr th:only-of-type {\n",
       "        vertical-align: middle;\n",
       "    }\n",
       "\n",
       "    .dataframe tbody tr th {\n",
       "        vertical-align: top;\n",
       "    }\n",
       "\n",
       "    .dataframe thead th {\n",
       "        text-align: right;\n",
       "    }\n",
       "</style>\n",
       "<table border=\"1\" class=\"dataframe\">\n",
       "  <thead>\n",
       "    <tr style=\"text-align: right;\">\n",
       "      <th></th>\n",
       "      <th>Predicted as Bad ratings</th>\n",
       "      <th>Predicted as Good ratings</th>\n",
       "    </tr>\n",
       "  </thead>\n",
       "  <tbody>\n",
       "    <tr>\n",
       "      <th>Actual Bad ratings</th>\n",
       "      <td>1169</td>\n",
       "      <td>640</td>\n",
       "    </tr>\n",
       "    <tr>\n",
       "      <th>Actual Good ratings</th>\n",
       "      <td>438</td>\n",
       "      <td>2020</td>\n",
       "    </tr>\n",
       "  </tbody>\n",
       "</table>\n",
       "</div>\n",
       "      <button class=\"colab-df-convert\" onclick=\"convertToInteractive('df-e0ef8f23-f296-496b-9dee-e3c5db235593')\"\n",
       "              title=\"Convert this dataframe to an interactive table.\"\n",
       "              style=\"display:none;\">\n",
       "        \n",
       "  <svg xmlns=\"http://www.w3.org/2000/svg\" height=\"24px\"viewBox=\"0 0 24 24\"\n",
       "       width=\"24px\">\n",
       "    <path d=\"M0 0h24v24H0V0z\" fill=\"none\"/>\n",
       "    <path d=\"M18.56 5.44l.94 2.06.94-2.06 2.06-.94-2.06-.94-.94-2.06-.94 2.06-2.06.94zm-11 1L8.5 8.5l.94-2.06 2.06-.94-2.06-.94L8.5 2.5l-.94 2.06-2.06.94zm10 10l.94 2.06.94-2.06 2.06-.94-2.06-.94-.94-2.06-.94 2.06-2.06.94z\"/><path d=\"M17.41 7.96l-1.37-1.37c-.4-.4-.92-.59-1.43-.59-.52 0-1.04.2-1.43.59L10.3 9.45l-7.72 7.72c-.78.78-.78 2.05 0 2.83L4 21.41c.39.39.9.59 1.41.59.51 0 1.02-.2 1.41-.59l7.78-7.78 2.81-2.81c.8-.78.8-2.07 0-2.86zM5.41 20L4 18.59l7.72-7.72 1.47 1.35L5.41 20z\"/>\n",
       "  </svg>\n",
       "      </button>\n",
       "      \n",
       "  <style>\n",
       "    .colab-df-container {\n",
       "      display:flex;\n",
       "      flex-wrap:wrap;\n",
       "      gap: 12px;\n",
       "    }\n",
       "\n",
       "    .colab-df-convert {\n",
       "      background-color: #E8F0FE;\n",
       "      border: none;\n",
       "      border-radius: 50%;\n",
       "      cursor: pointer;\n",
       "      display: none;\n",
       "      fill: #1967D2;\n",
       "      height: 32px;\n",
       "      padding: 0 0 0 0;\n",
       "      width: 32px;\n",
       "    }\n",
       "\n",
       "    .colab-df-convert:hover {\n",
       "      background-color: #E2EBFA;\n",
       "      box-shadow: 0px 1px 2px rgba(60, 64, 67, 0.3), 0px 1px 3px 1px rgba(60, 64, 67, 0.15);\n",
       "      fill: #174EA6;\n",
       "    }\n",
       "\n",
       "    [theme=dark] .colab-df-convert {\n",
       "      background-color: #3B4455;\n",
       "      fill: #D2E3FC;\n",
       "    }\n",
       "\n",
       "    [theme=dark] .colab-df-convert:hover {\n",
       "      background-color: #434B5C;\n",
       "      box-shadow: 0px 1px 3px 1px rgba(0, 0, 0, 0.15);\n",
       "      filter: drop-shadow(0px 1px 2px rgba(0, 0, 0, 0.3));\n",
       "      fill: #FFFFFF;\n",
       "    }\n",
       "  </style>\n",
       "\n",
       "      <script>\n",
       "        const buttonEl =\n",
       "          document.querySelector('#df-e0ef8f23-f296-496b-9dee-e3c5db235593 button.colab-df-convert');\n",
       "        buttonEl.style.display =\n",
       "          google.colab.kernel.accessAllowed ? 'block' : 'none';\n",
       "\n",
       "        async function convertToInteractive(key) {\n",
       "          const element = document.querySelector('#df-e0ef8f23-f296-496b-9dee-e3c5db235593');\n",
       "          const dataTable =\n",
       "            await google.colab.kernel.invokeFunction('convertToInteractive',\n",
       "                                                     [key], {});\n",
       "          if (!dataTable) return;\n",
       "\n",
       "          const docLinkHtml = 'Like what you see? Visit the ' +\n",
       "            '<a target=\"_blank\" href=https://colab.research.google.com/notebooks/data_table.ipynb>data table notebook</a>'\n",
       "            + ' to learn more about interactive tables.';\n",
       "          element.innerHTML = '';\n",
       "          dataTable['output_type'] = 'display_data';\n",
       "          await google.colab.output.renderOutput(dataTable, element);\n",
       "          const docLink = document.createElement('div');\n",
       "          docLink.innerHTML = docLinkHtml;\n",
       "          element.appendChild(docLink);\n",
       "        }\n",
       "      </script>\n",
       "    </div>\n",
       "  </div>\n",
       "  "
      ],
      "text/plain": [
       "                     Predicted as Bad ratings  Predicted as Good ratings\n",
       "Actual Bad ratings                       1169                        640\n",
       "Actual Good ratings                       438                       2020"
      ]
     },
     "metadata": {},
     "output_type": "display_data"
    }
   ],
   "source": [
    "# Get class predictions\n",
    "y_pred = lm_model.predict(X_test_new)\n",
    "\n",
    "# Generate confusion matrix\n",
    "cf_matrix = confusion_matrix(y_test, y_pred)\n",
    "# label rows and columns\n",
    "hr_df = pd.DataFrame(\n",
    "    cf_matrix, \n",
    "    columns=[\"Predicted as Bad ratings\", \"Predicted as Good ratings\"],\n",
    "    index=[\"Actual Bad ratings\", \"Actual Good ratings\"]\n",
    ")\n",
    "\n",
    "display(hr_df)\n"
   ]
  },
  {
   "cell_type": "markdown",
   "metadata": {
    "id": "XuxhFyMNQhdQ"
   },
   "source": [
    "Visualizing the Confusion Matrix of the new dataset with the new feature column of `p_subjectivity_score` and `n_subjectivity_score`"
   ]
  },
  {
   "cell_type": "code",
   "execution_count": 59,
   "metadata": {
    "colab": {
     "base_uri": "https://localhost:8080/",
     "height": 281
    },
    "id": "VLbExXf1PR7l",
    "outputId": "3dffb1a5-3242-4dd0-f092-d347bc31f725"
   },
   "outputs": [
    {
     "data": {
      "image/png": "[encoded data removed]",
      "text/plain": [
       "<Figure size 432x288 with 2 Axes>"
      ]
     },
     "metadata": {
      "needs_background": "light"
     },
     "output_type": "display_data"
    }
   ],
   "source": [
    "plot_confusion_matrix(lm_model, X_test_new, y_test);"
   ]
  },
  {
   "cell_type": "markdown",
   "metadata": {
    "id": "zVFEiIXHQ6yG"
   },
   "source": [
    "Generating the Classification Report to explore the precision and Recall Score"
   ]
  },
  {
   "cell_type": "code",
   "execution_count": 60,
   "metadata": {
    "colab": {
     "base_uri": "https://localhost:8080/"
    },
    "id": "cuo8g3tzQqcS",
    "outputId": "862c8b33-472a-4df2-a28b-4a81e9ec7d8b"
   },
   "outputs": [
    {
     "name": "stdout",
     "output_type": "stream",
     "text": [
      "              precision    recall  f1-score   support\n",
      "\n",
      "           0       0.73      0.65      0.68      1809\n",
      "           1       0.76      0.82      0.79      2458\n",
      "\n",
      "    accuracy                           0.75      4267\n",
      "   macro avg       0.74      0.73      0.74      4267\n",
      "weighted avg       0.75      0.75      0.74      4267\n",
      "\n"
     ]
    }
   ],
   "source": [
    "report_initial = classification_report(y_test, y_pred)\n",
    "print(report_initial)"
   ]
  },
  {
   "cell_type": "markdown",
   "metadata": {
    "id": "uRdHU8ZDFX7I"
   },
   "source": [
    "**Summary**<br>\n",
    "After adding the new feature to the data set, the  accuracy of the model increased from  73.37% to 74.73%. However,there are significant changes observed in the precision and recall score. The precision score for the positive class i.e. for the good review increased from 73% to 76% and the recall score  decreased from 84% to 82%.\n",
    " \n",
    "Therefore , for the above scores, it can be concluded  that adding the ‘Subjectivity_score` feature for positive and negative reviews helps the model prediction marginally better but it helps to reduce the False positive by 3% i.e it is actually improved to predict good rating by 3% from bad ratings.On the other side , the False negative number increased by 2% which means , the added feature degrade the model to predict actual positive review from the overall positive review by 2%.\n",
    "\n"
   ]
  },
  {
   "cell_type": "markdown",
   "metadata": {
    "id": "2yKNJRcMO2Yd"
   },
   "source": [
    "---"
   ]
  }
 ],
 "metadata": {
  "colab": {
   "collapsed_sections": [
    "KJKxlUUMz0aN"
   ],
   "machine_shape": "hm",
   "name": "Hotel Review Part 2.ipynb",
   "provenance": []
  },
  "gpuClass": "standard",
  "kernelspec": {
   "display_name": "Python 3",
   "language": "python",
   "name": "python3"
  },
  "language_info": {
   "codemirror_mode": {
    "name": "ipython",
    "version": 3
   },
   "file_extension": ".py",
   "mimetype": "text/x-python",
   "name": "python",
   "nbconvert_exporter": "python",
   "pygments_lexer": "ipython3",
   "version": "3.8.5"
  },
  "toc": {
   "base_numbering": 1,
   "nav_menu": {},
   "number_sections": true,
   "sideBar": true,
   "skip_h1_title": false,
   "title_cell": "Table of Contents",
   "title_sidebar": "Contents",
   "toc_cell": false,
   "toc_position": {},
   "toc_section_display": true,
   "toc_window_display": false
  },
  "varInspector": {
   "cols": {
    "lenName": 16,
    "lenType": 16,
    "lenVar": 40
   },
   "kernels_config": {
    "python": {
     "delete_cmd_postfix": "",
     "delete_cmd_prefix": "del ",
     "library": "var_list.py",
     "varRefreshCmd": "print(var_dic_list())"
    },
    "r": {
     "delete_cmd_postfix": ") ",
     "delete_cmd_prefix": "rm(",
     "library": "var_list.r",
     "varRefreshCmd": "cat(var_dic_list()) "
    }
   },
   "types_to_exclude": [
    "module",
    "function",
    "builtin_function_or_method",
    "instance",
    "_Feature"
   ],
   "window_display": false
  }
 },
 "nbformat": 4,
 "nbformat_minor": 1
}
